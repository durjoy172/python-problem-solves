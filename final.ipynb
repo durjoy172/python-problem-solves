{
  "cells": [
    {
      "cell_type": "markdown",
      "metadata": {
        "id": "VwLK1ypq__Z8"
      },
      "source": [
        "# Task 01\n",
        "\n",
        "Write a function called **show_rectangle** that takes two numbers as an argument and prints a rectangle in the function as shown in the output. The two arguments row and column should be taken as input from the user.\n",
        "*For this question, you can assume the second input is always greater than the first input. So, no checking is needed for ensuring this condition.*\n",
        "\n",
        "=============================================================\n",
        "\n",
        "**Example1:** \\\n",
        "**Input:** \\\n",
        "3 \\\n",
        "6\n",
        "\n",
        "**Function Call:**    \n",
        "show_rectangle(3,6)\n",
        "\n",
        "**Output:** \\\n",
        "1===== \\\n",
        "12==== \\\n",
        "123===\n",
        "\n",
        "**Explanation:** <br>\n",
        "Here two arguments are passed to the function. The first argument, 3 is the total number of rows and the second argument, 6 is the total number of columns. For each row, numbers starting from 1 to that row number are printed and the rest of the columns are filled by equal (=) to sign.\n",
        "\n",
        "=============================================================\n",
        "\n",
        "**Example2:** \\\n",
        "**Input:** \\\n",
        "6 \\\n",
        "7\n",
        "\n",
        "**Function Call:**   \n",
        "show_rectangle(6,7)\n",
        "\n",
        "**Output:** \\\n",
        "1====== \\\n",
        "12===== \\\n",
        "123==== \\\n",
        "1234=== \\\n",
        "12345== \\\n",
        "123456=\n",
        "\n",
        "**Explanation:**  <br>\n",
        "Here two arguments are passed to the function. The first argument 6, is the total number of rows and the second argument, 7 is the total number of columns. For each row, numbers starting from 1 to that row number are printed and the rest of the columns are filled by equal (=) to sign.\n"
      ]
    },
    {
      "cell_type": "code",
      "execution_count": null,
      "metadata": {
        "id": "f3oXZJa9_4ha"
      },
      "outputs": [],
      "source": [
        "#task 1\n",
        "#to do\n",
        "def rec(i,j):\n",
        "    for x in range(1,i+1):\n",
        "        for y in range(1,x+1):\n",
        "            print(y,end=\"\")\n",
        "        for e in range(1,j-x+1):\n",
        "            print('=',end=\"\")\n",
        "        print()\n",
        "p=int(input(\"Enter a number:\"))\n",
        "q=int(input(\"Enter a number:\"))\n",
        "rec(p,q)\n"
      ]
    },
    {
      "cell_type": "markdown",
      "metadata": {
        "id": "gMyLr9llDCjh"
      },
      "source": [
        "# Task 02\n",
        "Write a python function format_sentence() that takes a sentence and a boolean as parameters. The boolean is optional. The function will then convert the characters of the sentence according to the boolean parameter.\\\n",
        "\\\n",
        "**1)** If no boolean parameter is passed, the function will return a sentence that contains all the characters of the string parameter excluding the lower case characters.\\\n",
        "**2)** If the value of the boolean argument is False, the function will return a sentence that contains all the characters of the string parameter excluding the lower case characters.\\\n",
        "**3)** If the value of the boolean parameter is True, the function will return a string that contains all the characters of the parameter string excluding the upper case.\\\n",
        "\\\n",
        "<font color = 'red'>**You cannot use lower() or upper() functions here.**</font>\n",
        "\\\n",
        "\\\n",
        "===============================================================================================\\\n",
        "\\\n",
        "**Sample function call 1:** print(format_sentence('I am a student of BRAC University'))\\\n",
        "**Sample output 1:** I&nbsp;&nbsp;&nbsp;&nbsp;&nbsp; BRAC U\\\n",
        "**Explanation:** *There is no boolean parameter passed. Therefore, the function returns a string excluding the lower case characters*\\\n",
        "\\\n",
        "===============================================================================================\\\n",
        "\\\n",
        "**Sample function call 2:** print(format_sentence('I am a student of BRAC University', False))\\\n",
        "**Sample output 2:** I&nbsp;&nbsp;&nbsp;&nbsp;&nbsp; BRAC U\\\n",
        "**Explanation:** *The boolean parameter is False. Therefore, the function returns a string excluding the lower case characters*\\\n",
        "\\\n",
        "===============================================================================================\\\n",
        "\\\n",
        "**Sample function call 3:** print(format_sentence('I am a student of BRAC University', True))\\\n",
        "**Sample output 3:** &nbsp; am a student of  niversity\\\n",
        "**Explanation:** *The boolean parameter is True. Therefore, the function returns a string excluding the upper case characters*\n",
        "\n",
        "\n"
      ]
    },
    {
      "cell_type": "code",
      "execution_count": null,
      "metadata": {
        "id": "qbM4udHkDZl3",
        "outputId": "4d5efd66-7cd6-419a-91e9-0b14793e412a"
      },
      "outputs": [
        {
          "name": "stdout",
          "output_type": "stream",
          "text": [
            " am a student of  niversity\n"
          ]
        }
      ],
      "source": [
        "#task 2\n",
        "#to do\n",
        "import re\n",
        "def format_sentence(str,check=False):\n",
        "    if check:\n",
        "        replace_lowcase= lambda text: re.sub('[A-Z]','',text)\n",
        "        result= replace_lowcase(str)\n",
        "        return result;\n",
        "    else:\n",
        "        replace_upcase= lambda text: re.sub('[a-z]','',text)\n",
        "        result= replace_upcase(str)\n",
        "        return result;\n",
        "\n",
        "print(format_sentence('I am a student of BRAC University',True))"
      ]
    },
    {
      "cell_type": "markdown",
      "metadata": {
        "id": "El9bK-4pDaW_"
      },
      "source": [
        "# Task 03\n",
        "\n",
        "You have to take a dictionary as an input from the user where all the keys are the product you want to buy and the values are the price of those products. Then you have to take the total amount of money you have as an input from the user as well.\n",
        "\n",
        "Write a function called **shopping** that takes a dictionary and the amount of money you have as arguments of the function. Find the sum of the price of the groceries of the dictionary and tell whether you can shop with the money given or not **inside the function**.\n",
        "\n",
        "**<font color='red'>[You are not allowed to use the sum() function]</font>**\n",
        "\n",
        "=============================================================\n",
        "\n",
        "**Input 01:** \\\n",
        "{'chocolate': 500, 'cake': 1000, 'chips': 200, 'shake': 350}\\\n",
        "3000\n",
        "\n",
        "**Function Call:** \\\n",
        "shopping({'chocolate': 500, 'cake': 1000, 'chips': 200, 'shake': 350}, 3000)\n",
        "\n",
        "**Output 01:** \\\n",
        "Sum = 2050 \\\n",
        "Happy shopping\n",
        "\n",
        "**Explanation:** <br>\n",
        "Here, if we sum the values of each key, then the sum will be  (500+1000+200+350)=2050. The money we are given as an argument is 3000. 3000 is greater than 2050, so obviously we can buy the desired items with this money.\n",
        "\n",
        "=============================================================\n",
        "\n",
        "**Input 02:** \\\n",
        "{'Harry Potter': 1500, 'Alchemist': 800, 'The Kite Runner': 750,'The Shining':600} \\\n",
        "2500\n",
        "\n",
        "**Function Call:** <br>\n",
        "shopping( {'Harry Potter': 1500, 'Alchemist': 800, 'The Kite Runner': 750,'The Shining':600}, 2500)\n",
        "\n",
        "**Output 02:** \\\n",
        "Sum = 3650 \\\n",
        "Sorry you are out of money\n",
        "\n",
        "**Explanation:** <br>\n",
        "Here, if we sum the values of each key, then the sum will be  (1500+800+750+600)=3650. The money we are given as an argument is 2500. 2500 is  NOT greater than or equal to 3650, so we can not buy the desired items with this money.\n",
        "\n"
      ]
    },
    {
      "cell_type": "code",
      "execution_count": null,
      "metadata": {
        "id": "ODbHP5-4EQK2",
        "outputId": "c1d68021-4b89-4659-e5d7-3c701c74e0b6"
      },
      "outputs": [
        {
          "name": "stdout",
          "output_type": "stream",
          "text": [
            "2050\n",
            "happy shopping\n"
          ]
        }
      ],
      "source": [
        "#task 3\n",
        "#to do\n",
        "def shopping(x,y):\n",
        "    sum = 0\n",
        "    for key,value in x.items():\n",
        "        sum+=value\n",
        "    print(sum)\n",
        "    if sum <=y:\n",
        "        print(\"happy shopping\")\n",
        "    else:\n",
        "        print(\"sorry\")\n",
        "\n",
        "item_list = {'chocolate': 500, 'cake': 1000, 'chips': 200, 'shake': 350}\n",
        "shopping(item_list,3000)\n"
      ]
    },
    {
      "cell_type": "code",
      "execution_count": null,
      "metadata": {
        "id": "3DLjLJ04q9bC"
      },
      "outputs": [],
      "source": []
    },
    {
      "cell_type": "code",
      "execution_count": null,
      "metadata": {
        "id": "TfPLxrU1q9bC"
      },
      "outputs": [],
      "source": []
    }
  ],
  "metadata": {
    "colab": {
      "provenance": []
    },
    "kernelspec": {
      "display_name": "Python 3",
      "language": "python",
      "name": "python3"
    },
    "language_info": {
      "codemirror_mode": {
        "name": "ipython",
        "version": 3
      },
      "file_extension": ".py",
      "mimetype": "text/x-python",
      "name": "python",
      "nbconvert_exporter": "python",
      "pygments_lexer": "ipython3",
      "version": "3.7.4"
    }
  },
  "nbformat": 4,
  "nbformat_minor": 0
}
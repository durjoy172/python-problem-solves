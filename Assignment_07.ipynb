{
  "cells": [
    {
      "cell_type": "markdown",
      "metadata": {
        "id": "view-in-github",
        "colab_type": "text"
      },
      "source": [
        "<a href=\"https://colab.research.google.com/github/durjoy172/python-problem-solves/blob/main/Assignment_07.ipynb\" target=\"_parent\"><img src=\"https://colab.research.google.com/assets/colab-badge.svg\" alt=\"Open In Colab\"/></a>"
      ]
    },
    {
      "cell_type": "markdown",
      "metadata": {
        "id": "jT-t2zlnHEll"
      },
      "source": [
        "### Task 1\n",
        "\n",
        "Given a list named my_list. <br/>\n",
        "my_list=[10,1,20,3,6,2,5,11,15,2,12,14,17,18,29] <br/>\n",
        "Now use bubble sort to sort my_list into ascending order.\n",
        "\n",
        "**Output**<br/>\n",
        "[1, 2, 2, 3, 5, 6, 10, 11, 12, 14, 15, 17, 18, 20, 29]"
      ]
    },
    {
      "cell_type": "code",
      "execution_count": null,
      "metadata": {
        "id": "7qXVakLgHElm",
        "outputId": "6f2ca99a-1cfc-4a70-d9ee-24c936320921"
      },
      "outputs": [
        {
          "name": "stdout",
          "output_type": "stream",
          "text": [
            "[1, 2, 2, 3, 5, 6, 10, 11, 12, 14, 15, 17, 18, 20, 29]\n"
          ]
        }
      ],
      "source": [
        "#todo\n",
        "def bubble_list(x):\n",
        "    sorted1=False\n",
        "    while not sorted1:\n",
        "        sorted1=True\n",
        "        for j in range(0,len(x)-1):\n",
        "            if x[j]>x[j+1]:\n",
        "                sorted1=False\n",
        "                x[j],x[j+1]=x[j+1],x[j]\n",
        "    return(x)\n",
        "my_list=[10,1,20,3,6,2,5,11,15,2,12,14,17,18,29]\n",
        "print(bubble_list(my_list))"
      ]
    },
    {
      "cell_type": "markdown",
      "metadata": {
        "id": "w1QgeWd2HElp"
      },
      "source": [
        "### Task 2\n",
        "\n",
        "Given a list named my_list. <br/>\n",
        "my_list=[10,1,20,3,6,2,5,11,15,2,12,14,17,18,29] <br/>\n",
        "Now use selection sort to sort my_list into ascending order.\n",
        "\n",
        "**Output**<br/>\n",
        "[1, 2, 2, 3, 5, 6, 10, 11, 12, 14, 15, 17, 18, 20, 29]\n",
        "\n"
      ]
    },
    {
      "cell_type": "code",
      "execution_count": null,
      "metadata": {
        "id": "am0B_8ICHElq",
        "outputId": "c6ba8d24-89d2-46c6-8a58-6ba92a572db0"
      },
      "outputs": [
        {
          "name": "stdout",
          "output_type": "stream",
          "text": [
            "[1, 2, 2, 3, 5, 6, 10, 11, 12, 14, 15, 17, 18, 20, 29]\n"
          ]
        }
      ],
      "source": [
        "#todo\n",
        "def selection_list(x):\n",
        "    for i in range(0,len(x)-1):\n",
        "        min1=i\n",
        "        for j in range(i+1,len(x)):\n",
        "            if x[j]<x[min1]:\n",
        "                min1=j\n",
        "        if min1!=i:\n",
        "            x[min1],x[i]=x[i],x[min1]\n",
        "    return(x)\n",
        "my_list=[10,1,20,3,6,2,5,11,15,2,12,14,17,18,29]\n",
        "print(selection_list(my_list))\n"
      ]
    },
    {
      "cell_type": "markdown",
      "metadata": {
        "id": "j4ffr2CAHElt"
      },
      "source": [
        "### Task  3\n",
        "\n",
        "Given a list named my_list. <br/>\n",
        "my_list=[10,1,20,3,6,2,5,11,15,2,12,14,17,18,29] <br/>\n",
        "Now use any of the two sorts used above to sort the list in descending order.\n",
        "\n",
        "**Output**<br/>\n",
        "[29, 20, 18, 17, 15, 14, 12, 11, 10, 6, 5, 3, 2, 2, 1]\n"
      ]
    },
    {
      "cell_type": "code",
      "execution_count": null,
      "metadata": {
        "id": "n2X3YR-_HElt",
        "outputId": "9f3bb1d3-9569-4715-898f-6af1b7d5e4dd"
      },
      "outputs": [
        {
          "name": "stdout",
          "output_type": "stream",
          "text": [
            "[29, 20, 18, 17, 15, 14, 12, 11, 10, 6, 5, 3, 2, 2, 1]\n"
          ]
        }
      ],
      "source": [
        "#todo\n",
        "def bubble_list(x):\n",
        "    sorted1=False\n",
        "    while not sorted1:\n",
        "        sorted1=True\n",
        "        for j in range(0,len(x)-1):\n",
        "            if x[j]<x[j+1]:\n",
        "                sorted1=False\n",
        "                x[j],x[j+1]=x[j+1],x[j]\n",
        "    return(x)\n",
        "my_list=[10,1,20,3,6,2,5,11,15,2,12,14,17,18,29]\n",
        "print(bubble_list(my_list))"
      ]
    },
    {
      "cell_type": "markdown",
      "metadata": {
        "id": "9iYiiTWWHElw"
      },
      "source": [
        "### Task 4\n",
        "\n",
        "Suppose you have a sitting arrangement of the students of the final exam in a list. The list contains the last two digits of their roll number.<br/>\n",
        "\n",
        "sitting_list=[10,30,20,70,11,15,22,16,58,100,12,56,70,80] <br/>\n",
        "\n",
        "Now you want to organize the sitting arrangement. You decided to sort all the students in the even indices into ascending order and all the students in the odd indices  into descending order.  <br/>\n",
        "\n",
        "So write a python program that organizes the list for you the way you decided.<br/>\n",
        "\n",
        "\n",
        "**Sample Output**<br/>\n",
        "[10, 100, 11, 80, 12, 70, 20, 56, 22, 30, 58, 16, 70, 15]"
      ]
    },
    {
      "cell_type": "code",
      "execution_count": null,
      "metadata": {
        "id": "nPdUAKDJHElw",
        "outputId": "271ac684-d329-47c7-b579-ac7f68c7f9fb"
      },
      "outputs": [
        {
          "name": "stdout",
          "output_type": "stream",
          "text": [
            "[10, 100, 11, 80, 12, 70, 20, 56, 22, 30, 58, 16, 70, 15]\n"
          ]
        }
      ],
      "source": [
        "\n",
        "#todo\n",
        "sitting_list = [10, 30, 20, 70, 11, 15, 22, 16, 58, 100, 12, 56, 70, 80]\n",
        "range1=len(sitting_list)\n",
        "even_list = []\n",
        "uneven_list = []\n",
        "for i in range(range1):\n",
        "    if (i) % 2 == 0:\n",
        "        even_list.append(sitting_list[i])\n",
        "    if (i)%2!=0:\n",
        "        uneven_list.append(sitting_list[i])\n",
        "even_list.sort()\n",
        "uneven_list.sort(reverse=True)\n",
        "length1=len(even_list)\n",
        "lenght2=len(uneven_list)\n",
        "b_list=[]\n",
        "for i in range(length1):\n",
        "    new=(even_list[i],uneven_list[i])\n",
        "    for i in new:\n",
        "        b_list.append(i)\n",
        "print(b_list)"
      ]
    },
    {
      "cell_type": "markdown",
      "metadata": {
        "id": "oVR1Tsa0HElz"
      },
      "source": [
        "### Task 5\n",
        "\n",
        "Suppose a list contains the final exam results of CSE110, PHY111, and MAT110 of each student in a listed form. Your task is to sort the list based on a course name that will be given by the user and print the names after sorting. <br/>\n",
        "\n",
        "For example, a list looks like <br/>\n",
        "Lst = [ [‘Farzad’,95,87,91] , [‘Mahjabin’,92,90,83], [‘Sadman’,87,92,80], [‘Nakhla’,85,94,90] ] <br/>\n",
        "where for each list, 1st index is name, 2nd index is CSE110, 3rd index is PHY111 and 4th index is MAT110.\n",
        "\n",
        "**Sample Input**<br/>\n",
        "MAT110\n",
        "\n",
        "**Sample Output**<br/>\n",
        "Farzad <br/>\n",
        "Nakhla <br/>\n",
        "Mahjabin <br/>\n",
        "Sadman\n",
        "\n",
        "**Hint:**<br/>\n",
        "Nested list can be accessed by listname[firstIndex][secondIndex] like lst[0][0] will give Farzad\n"
      ]
    },
    {
      "cell_type": "code",
      "execution_count": null,
      "metadata": {
        "id": "539b2P1NHElz",
        "outputId": "2e14a0a0-9236-4d5f-dc5f-8fe10de0859e"
      },
      "outputs": [
        {
          "name": "stdout",
          "output_type": "stream",
          "text": [
            "Enter Course name:mat110\n",
            "Farzad\n",
            "Nakhla\n",
            "Mahjabin\n",
            "Sadman\n"
          ]
        }
      ],
      "source": [
        "#todo\n",
        "lst = [['Farzad', 95, 37, 91],['Mahjabin', 92, 90, 83],['Sadman', 87, 92, 80],['Nakhla', 85, 94, 90]]\n",
        "list1 = []\n",
        "subject=input('Enter Course name:').upper()\n",
        "dict_of_name  = {}\n",
        "if subject =='CSE110':\n",
        "    for i in range(len(lst)):\n",
        "        list1.append(lst[i][1])\n",
        "if subject =='PHY111':\n",
        "    for i in range(len(lst)):\n",
        "        list1.append(lst[i][2])\n",
        "if subject =='MAT110' :\n",
        "    for i in range(len(lst)):\n",
        "        list1.append(lst[i][3])\n",
        "list1.sort(reverse=True)\n",
        "\n",
        "for i in range(len(lst)):\n",
        "    for j in list1:\n",
        "        if subject == 'CSE110':\n",
        "            if j == lst[i][1]:\n",
        "                name = lst[i][0]\n",
        "                mark = j\n",
        "                dict_of_name[name] = mark\n",
        "        if subject == 'PHY111':\n",
        "            if j == lst[i][2]:\n",
        "                name = lst[i][0]\n",
        "                mark = j\n",
        "                dict_of_name[name] = mark\n",
        "        if subject =='MAT110' :\n",
        "            if j == lst[i][3]:\n",
        "                name = lst[i][0]\n",
        "                mark = j\n",
        "                dict_of_name[name] = mark\n",
        "for i in list1:\n",
        "    for key,value in dict_of_name.items():\n",
        "        if i == value:\n",
        "            print(key)"
      ]
    },
    {
      "cell_type": "markdown",
      "metadata": {
        "id": "B0Rqbyi4HEl2"
      },
      "source": [
        "### Task 6\n",
        "\n",
        "Suppose you have a list named my_list. Your task is to sort the list and print the count of numbers that have changed their position. <br/>\n",
        "My_list = [4,2,3,1,6,5] <br/>\n",
        "Sorted list would be [1,2,3,4,5,6] where 4 numbers have changed their position.\n",
        "\n",
        "\n",
        "**Sample Output**<br/>\n",
        "4"
      ]
    },
    {
      "cell_type": "code",
      "execution_count": null,
      "metadata": {
        "id": "AMc8jAa7HEl2",
        "outputId": "d643afb4-a3ca-48c4-b6ba-1e2e33632055"
      },
      "outputs": [
        {
          "name": "stdout",
          "output_type": "stream",
          "text": [
            "[1, 2, 3, 4, 5, 6]\n",
            "4\n"
          ]
        }
      ],
      "source": [
        "#todo\n",
        "my_list = [4,2,3,1,6,5]\n",
        "count = 1\n",
        "for i in range(len(my_list)):\n",
        "    minimum = my_list[i]\n",
        "    minimum_idx = i\n",
        "    for j in range(i+1,len(my_list)):\n",
        "        if my_list[j]<minimum:\n",
        "            minimum = my_list[j]\n",
        "            minimum_idx = j\n",
        "            count+=1\n",
        "\n",
        "    my_list[minimum_idx], my_list[i] = my_list[i], my_list[minimum_idx]\n",
        "print(my_list)\n",
        "print(count)\n"
      ]
    },
    {
      "cell_type": "markdown",
      "metadata": {
        "id": "iIH5n0sJHEl5"
      },
      "source": [
        "### Task 7\n",
        "\n",
        "Write a python program that takes two lists from the user, sort the list, merge the two lists and find the median of the elements of the two lists.\n",
        "\n",
        "**Sample Input 1**<br/>\n",
        "list_one= [1,2,1,4] <br/>\n",
        "list_two= [5,4,1]\n",
        "\n",
        "\n",
        "**Sample Output 1**<br/>\n",
        "Sorted list= [1, 1, 1, 2, 4, 4, 5] <br/>\n",
        "Median = 2\n",
        "\n",
        "**Sample Input 2**<br/>\n",
        "list_one= [1,7,9,10] <br/>\n",
        "list_two= [2,7,6,5]\n",
        "\n",
        "\n",
        "**Sample Output 2**<br/>\n",
        "Sorted list=[1, 2, 5, 6, 7, 7, 9, 10] <br/>\n",
        "Median=6.5\n",
        "\n"
      ]
    },
    {
      "cell_type": "code",
      "execution_count": null,
      "metadata": {
        "id": "KsFxC7XbHEl6",
        "outputId": "5a4c3a0a-d67d-4820-91e2-8cfa70002268"
      },
      "outputs": [
        {
          "name": "stdout",
          "output_type": "stream",
          "text": [
            "Enter lenght of list_one:4\n",
            "Enter items : 1\n",
            "Enter items : 2\n",
            "Enter items : 1\n",
            "Enter items : 4\n",
            "Enter lenght of list_two:3\n",
            "Enter items : 5\n",
            "Enter items : 4\n",
            "Enter items : 1\n",
            "list_one= [1, 2, 1, 4]\n",
            "list_two= [5, 4, 1]\n",
            "Sorted_list= [1, 1, 1, 2, 4, 4, 5]\n",
            "median= 2\n"
          ]
        }
      ],
      "source": [
        "#todo\n",
        "num1 = int(input('Enter lenght of list_one:'))\n",
        "list_one = []\n",
        "for i in range(num1):\n",
        "    elements = int(input(\"Enter items : \"))\n",
        "    list_one.append(elements)\n",
        "num2 = int(input('Enter lenght of list_two:'))\n",
        "list_two = []\n",
        "for i in range(num2):\n",
        "    elements = int(input(\"Enter items : \"))\n",
        "    list_two.append(elements)\n",
        "list_three = list_one+list_two\n",
        "list_three.sort()\n",
        "print('list_one=',list_one)\n",
        "print('list_two=',list_two)\n",
        "print('Sorted_list=',list_three)\n",
        "lenght1=len(list_three)\n",
        "if lenght1%2==0:\n",
        "    half_len=lenght1//2\n",
        "    median=(list_three[half_len-1]+list_three[half_len])/2\n",
        "else:\n",
        "    half_len=lenght1//2\n",
        "    median=(list_three[half_len])\n",
        "if median-int(median)==0:\n",
        "    print('median=',int(median))\n",
        "else:\n",
        "     print('median=',median)\n",
        ""
      ]
    },
    {
      "cell_type": "markdown",
      "metadata": {
        "id": "-XKiwBR1HEl8"
      },
      "source": [
        "### Task 8\n",
        "\n",
        "\n",
        "Write a python program that takes a list from user containing both positive and negative numbers. The program then finds two pairs of values whose summation is closest to zero.\n",
        "\n",
        "**Sample Input 1**<br/>\n",
        "list_one=[-10,15,2,4,-4,7,-8]\n",
        "\n",
        "\n",
        "**Sample Output 1**<br/>\n",
        "Two pairs which have the smallest sum = 4 and -4\n",
        "\n",
        "\n",
        "**Sample Input 2**<br/>\n",
        "list_one=[1,-8,4,-7,-20,26,70,-85]\n",
        "\n",
        "\n",
        "**Sample Output 2**<br/>\n",
        "Two pairs which have the smallest sum = 4 and -7"
      ]
    },
    {
      "cell_type": "code",
      "execution_count": null,
      "metadata": {
        "id": "5ORSGa5GHEl9",
        "outputId": "be81ac1a-2cc9-4f07-977a-ae9d383db914"
      },
      "outputs": [
        {
          "name": "stdout",
          "output_type": "stream",
          "text": [
            "Enter the length of the list :7\n",
            "Enter the elements of the list : -10\n",
            "Enter the elements of the list : 15\n",
            "Enter the elements of the list : 2\n",
            "Enter the elements of the list : 4\n",
            "Enter the elements of the list : -4\n",
            "Enter the elements of the list : 7\n",
            "Enter the elements of the list : -8\n",
            "The two pairs which have the smallest sum = 4 and  -4\n"
          ]
        }
      ],
      "source": [
        "#todo\n",
        "user_list_size = int(input(\"Enter the length of the list :\"))\n",
        "user_list = []\n",
        "if user_list_size>2:\n",
        "    for i in range( user_list_size):\n",
        "        user_element = int(input(\"Enter the elements of the list : \"))\n",
        "        user_list.append(user_element)\n",
        "    minimum1 = 0\n",
        "    minimum2 = 1\n",
        "    minimum_sum =  user_list[0]+ user_list[1]\n",
        "    for i in range( user_list_size):\n",
        "        for j in range(i+1,  user_list_size):\n",
        "            sum =  user_list[i] +  user_list[j]\n",
        "            if abs(minimum_sum)> abs(sum):\n",
        "                minimum_sum = sum\n",
        "                minimum1 = i\n",
        "                minimum2 = j\n",
        "    print(\"The two pairs which have the smallest sum =\",user_list[minimum1],\"and \",user_list[minimum2])\n",
        "else:\n",
        "    print(\"There should be elements more than two\")"
      ]
    },
    {
      "cell_type": "code",
      "execution_count": null,
      "metadata": {
        "id": "BztyMiL6qFq3"
      },
      "outputs": [],
      "source": []
    }
  ],
  "metadata": {
    "colab": {
      "provenance": [],
      "include_colab_link": true
    },
    "kernelspec": {
      "display_name": "Python 3",
      "language": "python",
      "name": "python3"
    },
    "language_info": {
      "codemirror_mode": {
        "name": "ipython",
        "version": 3
      },
      "file_extension": ".py",
      "mimetype": "text/x-python",
      "name": "python",
      "nbconvert_exporter": "python",
      "pygments_lexer": "ipython3",
      "version": "3.7.4"
    }
  },
  "nbformat": 4,
  "nbformat_minor": 0
}
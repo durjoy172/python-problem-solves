{
  "cells": [
    {
      "cell_type": "markdown",
      "metadata": {
        "id": "view-in-github",
        "colab_type": "text"
      },
      "source": [
        "<a href=\"https://colab.research.google.com/github/durjoy172/python-problem-solves/blob/main/MID.ipynb\" target=\"_parent\"><img src=\"https://colab.research.google.com/assets/colab-badge.svg\" alt=\"Open In Colab\"/></a>"
      ]
    },
    {
      "cell_type": "markdown",
      "metadata": {
        "id": "hQCnOmw6iWER"
      },
      "source": [
        "# Task 01\n",
        "Mrs. Khan is planning to make biryani. For her special recipe of biryani, she has all the ingredients except the basmati rice and the sour curd. The price of one kg of basmati rice is **350 taka** and the price of one kg sour card is **200 taka**. She will order these ingredients from her local store. The store will offer a discount depending on the total bill amount. The table below shows the discount she will get on her total amount.\n",
        "\n",
        "\n",
        "\n",
        "\n",
        "\n",
        "|Total Amount (TK)|Discount (TK)|\n",
        "|------|------|\n",
        "|0 - 450|No Discount|\n",
        "|451 - 699|20|\n",
        "|700 - 849 |40|\n",
        "|850 - 1599|100|\n",
        "|>= 1600|250|\n",
        "\n",
        "Write a python program and take two inputs from the user. The first input will be the amount of basmati rice in kgs and the second input will be the amount of sour curds in kgs. Based on the price of each item, calculate the total amount that Mrs. Khan will have to pay.\n",
        "\n",
        " ================================\n",
        "\n",
        "\n",
        "**Sample input(1):**\\\n",
        "3\\\n",
        "2\n",
        "\n",
        "**Sample Output(1):**\\\n",
        "Previous total: 1450\\\n",
        "New total after discount: 1350\n",
        "\n",
        "**Explanation(1):** 3* 350 + 2 *200 = 1450 Tk was her bill without discount.  For 1450 Tk, the discount amount is 100 Tk. So, with discount, her updated bill is (1450-100)= 1350Tk\n",
        "\n",
        "================================\n",
        "\n",
        "**Sample input (2):**\\\n",
        "1\\\n",
        "0\n",
        "\n",
        "\n",
        "\n",
        "\n",
        "**Sample output (2):**\\\n",
        "Previous total: 350\\\n",
        "New total after discount: 350\n",
        "\n",
        "\n",
        "Explanation(2):  1* 350 + 0 *200 = 350 Tk was her bill without discount.  For 350 Tk, the discount amount is 0Tk. So, with discount, her updated bill is (350-0)= 350Tk.\n",
        "\n",
        "\n"
      ]
    },
    {
      "cell_type": "code",
      "execution_count": null,
      "metadata": {
        "id": "P0vIwmbeiWEU",
        "outputId": "251fdd0c-341a-4fab-8d38-ca7bbe1a94c2"
      },
      "outputs": [
        {
          "name": "stdout",
          "output_type": "stream",
          "text": [
            "Enter the amount of basmati in kg : 3\n",
            "Enter the amount of sour_card in kg :2\n",
            "Previous total: 1450\n",
            "New total after discount: 1350\n"
          ]
        }
      ],
      "source": [
        "#task 1\n",
        "#to do\n",
        "input1 = int(input(\"Enter the amount of basmati in kg : \"))\n",
        "input2 = int(input(\"Enter the amount of sour_card in kg :\"))\n",
        "\n",
        "basmati = input1 * 350\n",
        "sour_card = input2 * 200\n",
        "price = basmati+sour_card\n",
        "\n",
        "if price >=0 and price <=450:\n",
        "    print(\"Previous total:\", price)\n",
        "    print(\"New total after discount:\", price)\n",
        "if price >=451 and price <=699:\n",
        "    print(\"Previous total:\", price)\n",
        "    print(\"New total after discount:\", price-20)\n",
        "if price >=700 and price <=849:\n",
        "    print(\"Previous total:\", price)\n",
        "    print(\"New total after discount:\", price-40)\n",
        "if price >=850 and price <=1599:\n",
        "    print(\"Previous total:\", price)\n",
        "    print(\"New total after discount:\", price-100)\n",
        "if price >=1600:\n",
        "    print(\"Previous total:\", price)\n",
        "    print(\"New total after discount:\", price-250)\n"
      ]
    },
    {
      "cell_type": "markdown",
      "metadata": {
        "id": "zUyYKkWViWEd"
      },
      "source": [
        "# Task 02\n",
        "Write a Python program that takes your BRACU Student ID as an input from the user and print the **total number of odd digits** in the ID.\n",
        "\n",
        "\n",
        "\n",
        "  ================================\n",
        "\n",
        "**Sample input 1:**\\\n",
        " 19101211\\\n",
        "**Sample output 1:**\\\n",
        " 6 Odds\n",
        "\n",
        "  ================================\n",
        "\n",
        "**Sample input 2:**\\\n",
        "14301185\\\n",
        "**Sample output 2:**\\\n",
        " 5 Odds\n"
      ]
    },
    {
      "cell_type": "code",
      "execution_count": null,
      "metadata": {
        "id": "_oEJ6XwgiWEh",
        "outputId": "9f0b364f-261f-4775-c899-f10c982405c6"
      },
      "outputs": [
        {
          "name": "stdout",
          "output_type": "stream",
          "text": [
            "Enter input:20301062\n",
            "2\n"
          ]
        }
      ],
      "source": [
        "#task 2\n",
        "#to do\n",
        "num=input(\"Enter input:\")\n",
        "count=0\n",
        "for i in num:\n",
        "    if int(i)%2!=0:\n",
        "        count+=1\n",
        "print(count)\n",
        "\n",
        "\n"
      ]
    },
    {
      "cell_type": "markdown",
      "metadata": {
        "id": "CEhXrQIhiWEo"
      },
      "source": [
        "# Task 03\n",
        "Write a program that takes a String as the input from the user and prints **“True”** if the string has the character **comma “,” at least once**. Otherwise, prints “False”.\n",
        "\n",
        "**<font color='red'>( You cannot use the built-in count()  method )**\n",
        "\n",
        "\n",
        "\n",
        "  ================================\n",
        "\n",
        "**Sample input 1:**\\\n",
        " If you are a gentleman, do not cheat.\\\n",
        "**Sample output 1:**\\\n",
        " True\n",
        "\n",
        "  ================================\n",
        "\n",
        "**Sample input 2:**\\\n",
        "No worries Henry.\\\n",
        "**Sample output 2:**\\\n",
        "False\n"
      ]
    },
    {
      "cell_type": "code",
      "execution_count": null,
      "metadata": {
        "id": "zQ3oHuFJqaFt",
        "outputId": "4dbb5937-6b73-4efc-f78d-a0cd06e2cb62"
      },
      "outputs": [
        {
          "name": "stdout",
          "output_type": "stream",
          "text": [
            "enter input: No worries Henry.\n",
            "False\n"
          ]
        }
      ],
      "source": [
        "string=input(\"enter input: \")\n",
        "if \",\" in string:\n",
        "    print(\"True\")\n",
        "else:\n",
        "    print(\"False\")\n"
      ]
    },
    {
      "cell_type": "code",
      "execution_count": null,
      "metadata": {
        "id": "iW3Fv_BzqaFu"
      },
      "outputs": [],
      "source": []
    }
  ],
  "metadata": {
    "colab": {
      "provenance": [],
      "include_colab_link": true
    },
    "kernelspec": {
      "display_name": "Python 3",
      "language": "python",
      "name": "python3"
    },
    "language_info": {
      "codemirror_mode": {
        "name": "ipython",
        "version": 3
      },
      "file_extension": ".py",
      "mimetype": "text/x-python",
      "name": "python",
      "nbconvert_exporter": "python",
      "pygments_lexer": "ipython3",
      "version": "3.7.4"
    }
  },
  "nbformat": 4,
  "nbformat_minor": 0
}
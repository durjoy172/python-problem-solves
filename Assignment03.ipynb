{
  "cells": [
    {
      "cell_type": "markdown",
      "metadata": {
        "id": "view-in-github",
        "colab_type": "text"
      },
      "source": [
        "<a href=\"https://colab.research.google.com/github/durjoy172/python-problem-solves/blob/main/Assignment03.ipynb\" target=\"_parent\"><img src=\"https://colab.research.google.com/assets/colab-badge.svg\" alt=\"Open In Colab\"/></a>"
      ]
    },
    {
      "cell_type": "markdown",
      "metadata": {
        "id": "-lojg2PFnpPL"
      },
      "source": [
        "\n",
        "\n",
        "\n",
        "\n",
        "## Write the Python code of the following problems:\n",
        "\n",
        "## Part 1: String\n",
        "\n",
        "\n",
        "\n"
      ]
    },
    {
      "cell_type": "markdown",
      "metadata": {
        "id": "keNHlDlYnpPM"
      },
      "source": [
        "### Task 1\n",
        "\n",
        "Write a Python program that will ask the user to input a string (containing exactly one word). Then your program should print a subsequent substring of the given string.\n",
        "\n",
        "**Example1:**\\\n",
        "Input: BANGLA\\\n",
        "Output:\\\n",
        "B\\\n",
        "BA\\\n",
        "BAN\\\n",
        "BANG\\\n",
        "BANGL\\\n",
        "BANGLA\n",
        "\n",
        "**Example2:**\\\n",
        "Input: DREAM\\\n",
        "Output:\\\n",
        "D\\\n",
        "DR\\\n",
        "DRE\\\n",
        "DREA\\\n",
        "DREAM\n",
        "\n",
        "**Hints(1):** Need to use \"for loop\" for this task.\n",
        "\n",
        "**Hints(2):** Need to use print() function for prnting newlines.\n",
        "\n",
        "For example:\\\n",
        "print(1)\\\n",
        "print(2)\n",
        "\n",
        "Output:\\\n",
        "1\\\n",
        "2\n",
        "\n",
        "=====================================================================\n",
        "\n",
        "We need use print(end = \"\") to skip printing the additional newline.\n",
        "\n",
        "For example:\\\n",
        "print(1, end =\" \")\\\n",
        "print(2)\n",
        "\n",
        "Output:(prints the next output right to the previous one)\\\n",
        "12\n",
        "\n",
        "=====================================================================\n",
        "\n",
        "\n",
        "\n",
        "\n"
      ]
    },
    {
      "cell_type": "code",
      "execution_count": null,
      "metadata": {
        "id": "YGXiGWRAnpPN",
        "outputId": "d04ad084-190c-42c0-8952-78eca1c10b8e"
      },
      "outputs": [
        {
          "name": "stdout",
          "output_type": "stream",
          "text": [
            "Enter an input:BANGLA\n",
            "B\n",
            "BA\n",
            "BAN\n",
            "BANG\n",
            "BANGL\n",
            "BANGLA\n"
          ]
        }
      ],
      "source": [
        "#Todo\n",
        "new=input(\"Enter an input:\")\n",
        "length=len(new)\n",
        "for row in range(length):\n",
        "    print(new[:row+1],end=\"\")\n",
        "    print()\n"
      ]
    },
    {
      "cell_type": "markdown",
      "metadata": {
        "id": "3TIFgUaOnpPP"
      },
      "source": [
        "### Task 2\n",
        "\n",
        "Write a Python program that will ask the user to enter two strings (s1, s2) as an input. Then create a mixed string with alternative characters from each string. Any leftover chars will be appended at the end of the result string.\n",
        "\n",
        "**Example 1:**\\\n",
        "Input:\\\n",
        "\"ABCD\"\\\n",
        "\"efgh\"\n",
        "\n",
        "Output:\\\n",
        "AeBfCgDh\n",
        "\n",
        "**Example 2:**\\\n",
        "Input:\\\n",
        "\"ABCDENDFGH\"\\\n",
        "\"ijkl\"\n",
        "\n",
        "Output:\\\n",
        "AiBjCkDlENDFGH\n",
        "\n",
        "**Example 3:**\\\n",
        "Input:\\\n",
        "\"ijkl\"\\\n",
        "\"ABCDENDFGH\"\n",
        "\n",
        "Output:\\\n",
        "iAjBkClDENDFGH\n",
        "\n",
        "*Hint: For adding the leftover characters use string slicing.*\n",
        "\n",
        "\n"
      ]
    },
    {
      "cell_type": "code",
      "execution_count": null,
      "metadata": {
        "id": "Ra9UuS19npPP",
        "outputId": "68af5c5a-9685-4747-c508-acdfdf39addb"
      },
      "outputs": [
        {
          "name": "stdout",
          "output_type": "stream",
          "text": [
            "String 1:ABCDENDFGH\n",
            "String 2:ijkl\n",
            "AiBjCkDlENDFGH\n"
          ]
        }
      ],
      "source": [
        "s1=(input(\"String 1:\"))\n",
        "s2=(input(\"String 2:\"))\n",
        "length1=len(s1)\n",
        "lenght2=len(s2)\n",
        "if length1>lenght2:\n",
        "    for i in range(lenght2):\n",
        "        print(s1[i]+s2[i],end='')\n",
        "    print(s1[lenght2:])\n",
        "else:\n",
        "    for i in range(lenght1):\n",
        "        print(s1[i]+s2[i],end='')\n",
        "    print(s2[lenght1:])\n",
        ""
      ]
    },
    {
      "cell_type": "markdown",
      "metadata": {
        "id": "gC0DkCmznpPQ"
      },
      "source": [
        "### Task3\n",
        "\n",
        "Write a Python program that will ask the user to enter a  word as an input. If the length of the input string is less than 4, then your program should print the same string as an output. If the input string’s length is greater than 3, then your program should add “er” at the end of the input string. If the input string already ends with “er”, then add “est” instead. If the input string already ends with “est”, then your program should print the same string as an output.\n",
        "\n",
        "**Example 1:**\\\n",
        "Input: strong\\\n",
        "Output: stronger\n",
        "\n",
        "**Example 2:**\\\n",
        "Input: stronger\\\n",
        "Output: strongest\n",
        "\n",
        "**Example 3:**\\\n",
        "Input: strongest\\\n",
        "Output: strongest\n",
        "\n",
        "**Example 4:**\\\n",
        "Input: abc\\\n",
        "Output: abc\n"
      ]
    },
    {
      "cell_type": "code",
      "execution_count": null,
      "metadata": {
        "id": "jdyfpSgknpPR",
        "outputId": "02b61a10-4202-47f3-9d0e-56e609d081bd"
      },
      "outputs": [
        {
          "name": "stdout",
          "output_type": "stream",
          "text": [
            "Enter a word:strongest\n",
            "strongest\n"
          ]
        }
      ],
      "source": [
        "#Todo\n",
        "frst_word=input(\"Enter a word:\")\n",
        "lenght=len(frst_word)\n",
        "\n",
        "if lenght<4:\n",
        "    print(frst_word)\n",
        "elif frst_word.endswith (\"er\"):\n",
        "    print(frst_word[:-2]+'est')\n",
        "elif frst_word.endswith(\"est\"):\n",
        "    print(frst_word)\n",
        "else:\n",
        "    print(frst_word+\"er\")\n"
      ]
    },
    {
      "cell_type": "markdown",
      "metadata": {
        "id": "lXcXe_BunpPR"
      },
      "source": [
        "### Task4\n",
        "\n",
        "Write a Python program that will ask the user to input a string (containing exactly one word). Then print code for each character in the String using the ord() function. Use any means necessary.\n",
        "\n",
        "To check if your program is working correctly or not, you can find a list of all correct values from the following website. Look at “Dec” and “Char” columns only, ignore other columns.\\\n",
        "link: http://www.asciitable.com/\n",
        "\n",
        "**Example 1:**\\\n",
        "Input: Programming\\\n",
        "Output:\\\n",
        "P : 80\\\n",
        "r : 114\\\n",
        "o : 111\\\n",
        "g : 103\\\n",
        "r : 114\\\n",
        "a : 97\\\n",
        "m : 109\\\n",
        "m : 109\\\n",
        "i : 105\\\n",
        "n : 110\\\n",
        "g : 103\n",
        "\n",
        "**Example 2:**\\\n",
        "Input: hunger\\\n",
        "Output:\\\n",
        "h : 104\\\n",
        "u : 117\\\n",
        "n : 110\\\n",
        "g : 103\\\n",
        "e : 101\\\n",
        "r : 114"
      ]
    },
    {
      "cell_type": "code",
      "execution_count": null,
      "metadata": {
        "id": "iBdtKErvnpPS",
        "outputId": "5f9debd3-30c4-4177-d8ae-f0e3f5b26eaa"
      },
      "outputs": [
        {
          "name": "stdout",
          "output_type": "stream",
          "text": [
            "Enter a new word:hunger\n",
            "h : 104\n",
            "u : 117\n",
            "n : 110\n",
            "g : 103\n",
            "e : 101\n",
            "r : 114\n"
          ]
        }
      ],
      "source": [
        "#Todo\n",
        "string=input(\"Enter a new word:\")\n",
        "length=len(string)\n",
        "j=0\n",
        "for i in range (length) :\n",
        "    s=string[i]\n",
        "    j+=1\n",
        "    print(s,\":\",(ord(s)))"
      ]
    },
    {
      "cell_type": "markdown",
      "metadata": {
        "id": "15kS4ur3npPS"
      },
      "source": [
        "### Task5\n",
        "\n",
        "Given a word as input in small letters, print the next alphabet in sequence for each alphabet found in the input.\n",
        "\n",
        "**Example1:**\\\n",
        "Input: abcd\\\n",
        "Output: bcde\n",
        "\n",
        "**Example2:**\\\n",
        "Input: the cow\\\n",
        "Output: uif!dpx\n",
        "\n",
        "**Example3: <font color='red'>[Must fulfil this criteria]</font>**\\\n",
        "Input: xyzabc\\\n",
        "Output: yzabcd\n",
        "\n",
        "*Hint: You need to use functions ord() and chr(). The ASCII value of ‘a’ is 97 and ‘z’ is 122.*\n"
      ]
    },
    {
      "cell_type": "code",
      "execution_count": null,
      "metadata": {
        "id": "XnwMSZ4FnpPS",
        "outputId": "d4b19abd-1698-4066-bd50-bf02211faf5f"
      },
      "outputs": [
        {
          "name": "stdout",
          "output_type": "stream",
          "text": [
            "Enter a word:the cow\n",
            "uif!dpx"
          ]
        }
      ],
      "source": [
        "#Todo\n",
        "word=input(\"Enter a word:\")\n",
        "for i in word:\n",
        "    if chr(122)==i:\n",
        "        print (chr(97),end=\"\")\n",
        "    else:\n",
        "        print(chr(ord(i)+1),end=\"\")\n"
      ]
    },
    {
      "cell_type": "markdown",
      "metadata": {
        "id": "beYcNeeYnpPT"
      },
      "source": [
        "### Task6\n",
        "Given a string, create a new string with all the consecutive duplicates removed.\n",
        "\n",
        "**Example:**\\\n",
        "Input:\\\n",
        "AAABBBBCDDBBECE\\\n",
        "Output:\\\n",
        "ABCDBECE\n",
        "\n",
        "*Hint: You need to make a new string to store your answer. Check whether the current character and the next character are the same, then add that character to the answer.*\n",
        "\n"
      ]
    },
    {
      "cell_type": "code",
      "execution_count": null,
      "metadata": {
        "id": "D64vekGanpPT",
        "outputId": "b14d7a8b-4c79-4aa9-d48e-7bc717f64626"
      },
      "outputs": [
        {
          "name": "stdout",
          "output_type": "stream",
          "text": [
            "Enter  a string :AAABBBBCDDBBECE\n",
            "ABCDBECE\n"
          ]
        }
      ],
      "source": [
        "#Todo\n",
        "s1=input(\"Enter  a string :\")\n",
        "lenght=len(s1)\n",
        "new_string=''\n",
        "\n",
        "for i in range(lenght):\n",
        "    if s1[i]!= s1[i-1]:\n",
        "        new_string += s1[i]\n",
        "print(new_string)"
      ]
    },
    {
      "cell_type": "markdown",
      "metadata": {
        "id": "dW2XBVR9npPT"
      },
      "source": [
        "## Part 2: List\n"
      ]
    },
    {
      "cell_type": "markdown",
      "metadata": {
        "id": "nc3_zrc8npPT"
      },
      "source": [
        "### Task 7\n",
        "Write a Python program that reads 10 numbers from the user. After reading each number, print all the numbers that have been entered so far.\n",
        "\n",
        "**Example:**\\\n",
        "After the user enters 3, prints “So far in the list: [3]”\\\n",
        "After the user enters 5, prints “So far in the list: [3, 5]”\\\n",
        "After the user enters 34, prints “So far in the list: [3, 5, 34]”\n"
      ]
    },
    {
      "cell_type": "code",
      "execution_count": null,
      "metadata": {
        "id": "QIfjvxWunpPU",
        "outputId": "1745f32e-c7e9-4eec-e8a6-1aeb7d8d9dc8"
      },
      "outputs": [
        {
          "name": "stdout",
          "output_type": "stream",
          "text": [
            "Enter a number:3\n",
            "So far in the list: [3]\n",
            "Enter a number:5\n",
            "So far in the list: [3, 5]\n",
            "Enter a number:34\n",
            "So far in the list: [3, 5, 34]\n",
            "Enter a number:-50\n",
            "So far in the list: [3, 5, 34, -50]\n",
            "Enter a number:100\n",
            "So far in the list: [3, 5, 34, -50, 100]\n",
            "Enter a number:-9\n",
            "So far in the list: [3, 5, 34, -50, 100, -9]\n",
            "Enter a number:62\n",
            "So far in the list: [3, 5, 34, -50, 100, -9, 62]\n",
            "Enter a number:47\n",
            "So far in the list: [3, 5, 34, -50, 100, -9, 62, 47]\n",
            "Enter a number:51\n",
            "So far in the list: [3, 5, 34, -50, 100, -9, 62, 47, 51]\n",
            "Enter a number:-2\n",
            "So far in the list: [3, 5, 34, -50, 100, -9, 62, 47, 51, -2]\n"
          ]
        }
      ],
      "source": [
        "#Todo\n",
        "l1 = []\n",
        "for i in range(10):\n",
        "    element=int(input(\"Enter a number:\"))\n",
        "    l1.append(element)\n",
        "    print(\"So far in the list:\",l1)"
      ]
    },
    {
      "cell_type": "markdown",
      "metadata": {
        "id": "NwPmMDsonpPU"
      },
      "source": [
        "### Task 8\n",
        "Assume, you have been given a list.\n",
        "\n",
        "a_list =  [10, 20, 24, 25, 26, 35, 70]\n",
        "\n",
        "Write a Python program that creates a new list excluding the first and last two elements of the given list and prints the new list.\n",
        "\n",
        "Output: [24, 25, 26]\n",
        "\n",
        "\n",
        "*Hint:You need to use list slicing.*\n"
      ]
    },
    {
      "cell_type": "code",
      "execution_count": null,
      "metadata": {
        "id": "lef77g11npPU",
        "outputId": "eb10512f-810f-4c3e-920f-84cb95a5f2e0"
      },
      "outputs": [
        {
          "name": "stdout",
          "output_type": "stream",
          "text": [
            "[24, 25, 26]\n"
          ]
        }
      ],
      "source": [
        "#Todo\n",
        "a_list=[10,20,24,25,26,65,70]\n",
        "new_list=[]\n",
        "element=a_list[2:-2]\n",
        "new_list.extend(element)\n",
        "print(new_list)\n"
      ]
    },
    {
      "cell_type": "markdown",
      "metadata": {
        "id": "rRRDWxW4npPU"
      },
      "source": [
        "### Task 9\n",
        "Assume, you have been given two lists.\n",
        "\n",
        "list_one = [1, 2, 3, 4, 5, 6, 7, 8, 9]\\\n",
        "list_two = [10, 11, 12, -13, -14, -15, -16]\n",
        "\n",
        "Write a Python program that creates a new list with all the even elements of both of the given lists and prints the new list.\n",
        "\n",
        "\n",
        "Output: [2, 4, 6, 8, 10, 12, -14, -16]\n",
        "\n",
        "*Hint: You need to create a third list to store the even elements of the given lists.*\n",
        "\n"
      ]
    },
    {
      "cell_type": "code",
      "execution_count": null,
      "metadata": {
        "id": "weE2OmLWnpPV",
        "outputId": "b173b6b5-6eca-47b2-e436-b2e8397d8bfc"
      },
      "outputs": [
        {
          "name": "stdout",
          "output_type": "stream",
          "text": [
            "[2, 4, 6, 8, 10, 12, -14, -16]\n"
          ]
        }
      ],
      "source": [
        "#Todo\n",
        "\n",
        "list_one=[1,2,3,4,5,6,7,8,9]\n",
        "list_two=[10,11,12,-13,-14,-15,-16]\n",
        "even_list=[]\n",
        "for i in list_one:\n",
        "    if i%2==0:\n",
        "        even_list.append(i)\n",
        "for i in list_two:\n",
        "    if i%2==0:\n",
        "        even_list.append(i)\n",
        "print(even_list)\n",
        "\n"
      ]
    },
    {
      "cell_type": "markdown",
      "metadata": {
        "id": "nCU3LLFJnpPV"
      },
      "source": [
        "### Task 10\n",
        "\n",
        "Assume, you have been given two lists.\\\n",
        "list_one = [1, 2 , 2, 4, 5, 5, 7, 99, 200, 303, 70]\\\n",
        "list_two = [1, 1, 2, 3, 3, 3, 4, 5, 200, 500, -5]\n",
        "\n",
        "Write a Python program that creates a new list with all the unique elements of both the given lists. You make sure no duplicates are in the result list and finally print the result list.\n",
        "\n",
        "Output:\n",
        "[1, 2, 4, 5, 7, 99, 200, 303, 70, 3, 500, -5]\n",
        "\n",
        "*Hint:You need to create a third list to store the results. Use membership operators (in, not in) to make sure no duplicates are added.*\n",
        "\n"
      ]
    },
    {
      "cell_type": "code",
      "execution_count": null,
      "metadata": {
        "id": "lDIAebO0npPV",
        "outputId": "1f3cdc62-2fd4-48d3-f05e-6a943c253549"
      },
      "outputs": [
        {
          "name": "stdout",
          "output_type": "stream",
          "text": [
            "[1, 2, 4, 5, 7, 99, 200, 303, 70, 3, 500, -5]\n"
          ]
        }
      ],
      "source": [
        "#Todo\n",
        "list_one = [1, 2 , 2, 4, 5, 5, 7, 99, 200, 303, 70]\n",
        "list_two = [1, 1, 2, 3, 3, 3, 4, 5, 200, 500, -5]\n",
        "list3=list_one+list_two\n",
        "unique_list=[]\n",
        "for i in list3:\n",
        "    if i not in unique_list:\n",
        "        unique_list.append(i)\n",
        "print(unique_list)\n"
      ]
    },
    {
      "cell_type": "markdown",
      "metadata": {
        "id": "yERe2sI0npPV"
      },
      "source": [
        "### Task 11\n",
        "\n",
        "Write a Python program that reads 5 numbers into a list and prints the largest number and its location on the list. <font color='red'>[You are not allowed to use the max() function here]</font>\n",
        "\n",
        "**Example:**\\\n",
        "Input: 7, 13, 2, 10, 6\\\n",
        "Output:\\\n",
        "“list: [7, 13, 2, 10, 6]”\\\n",
        "“Largest number 13 was found at location 1”.\n",
        "\n",
        "*Hint: Assume, the first input to be the largest value initially and the location of first input which is 0 to be the initial value of the largest value’s location.\n",
        "You need to be careful while printing the output. Depending on your code might need data conversion.*\n"
      ]
    },
    {
      "cell_type": "code",
      "execution_count": null,
      "metadata": {
        "id": "p-qFBTQ_npPW",
        "outputId": "1b09b184-5b13-4745-bb29-c7d2518b8685"
      },
      "outputs": [
        {
          "name": "stdout",
          "output_type": "stream",
          "text": [
            "Enter a number:7\n",
            "Enter a number:13\n",
            "Enter a number:2\n",
            "Enter a number:10\n",
            "Enter a number:6\n",
            "list: [7, 13, 2, 10, 6]\n",
            "Largest number 13 was found at location 1\n"
          ]
        }
      ],
      "source": [
        "#Todo\n",
        "\n",
        "l1=list()\n",
        "x=0\n",
        "y=0\n",
        "for i in range(5):\n",
        "    element=int(input(\"Enter a number:\"))\n",
        "    l1.append(element)\n",
        "for i in l1:\n",
        "    if y==0:\n",
        "        x=i\n",
        "        y=1\n",
        "    if (i>x):\n",
        "        x=i\n",
        "print(\"list:\",l1)\n",
        "print(\"Largest number\",x,\"was found at location\",l1.index(x))"
      ]
    },
    {
      "cell_type": "markdown",
      "metadata": {
        "id": "4iLYVXhDnpPW"
      },
      "source": [
        "### Task 12\n",
        "\n",
        "Write a Python program that reads 5 numbers into a list and prints the smallest and largest number and their location in the list. <font color='red'>[You are not allowed to use the max() and min() function here]</font>\n",
        "\n",
        "**Example:**\\\n",
        "If the user enters 7, 13, -5, 10, 6 then your program should print\\\n",
        "“list: [7, 13, -5, 10, 6]”\\\n",
        "“Smallest number -5 was found at location 2”.\\\n",
        "“Largest number 13 was found at location 1”.\n",
        "\n",
        "*Hint: Assume, the first input to be the largest value and the location of the first input which is 0 to be the initial value of the largest value’s location. Similarly, assume the first input to be the smallest value and the location of the first input which is 0 to be the initial value of the smallest value’s location.\n",
        "You need to be careful while printing the output. Depending on your code might need data conversion.*\n"
      ]
    },
    {
      "cell_type": "code",
      "execution_count": null,
      "metadata": {
        "id": "MGWGXIn3npPW",
        "outputId": "eac2f663-2aae-468e-89d9-9391bae5b219"
      },
      "outputs": [
        {
          "name": "stdout",
          "output_type": "stream",
          "text": [
            "Enter a number:7\n",
            "Enter a number:13\n",
            "Enter a number:-5\n",
            "Enter a number:10\n",
            "Enter a number:6\n",
            "list: [7, 13, -5, 10, 6]\n",
            "smallest number -5 was found at location 2\n",
            "Largest number 13 was found at location 1\n"
          ]
        }
      ],
      "source": [
        "#Todo\n",
        "l1=list()\n",
        "x=0\n",
        "y=0\n",
        "for i in range(5):\n",
        "    element=int(input(\"Enter a number:\"))\n",
        "    l1.append(element)\n",
        "print(\"list:\",l1)\n",
        "\n",
        "for i in l1:\n",
        "    if y==0:\n",
        "        x=i\n",
        "        y=1\n",
        "    if (i<x):\n",
        "        x=i\n",
        "print(\"smallest number\",x,\"was found at location\",l1.index(x))\n",
        "for i in l1:\n",
        "    if y==0:\n",
        "        x=i\n",
        "        y=1\n",
        "    if (i>x):\n",
        "        x=i\n",
        "print(\"Largest number\",x,\"was found at location\",l1.index(x))\n",
        ""
      ]
    },
    {
      "cell_type": "code",
      "execution_count": null,
      "metadata": {
        "id": "rh0koMmbnpPW"
      },
      "outputs": [],
      "source": []
    },
    {
      "cell_type": "code",
      "execution_count": null,
      "metadata": {
        "id": "77qXTzRPnpPW"
      },
      "outputs": [],
      "source": []
    }
  ],
  "metadata": {
    "kernelspec": {
      "display_name": "Python 3",
      "language": "python",
      "name": "python3"
    },
    "language_info": {
      "codemirror_mode": {
        "name": "ipython",
        "version": 3
      },
      "file_extension": ".py",
      "mimetype": "text/x-python",
      "name": "python",
      "nbconvert_exporter": "python",
      "pygments_lexer": "ipython3",
      "version": "3.7.4"
    },
    "colab": {
      "provenance": [],
      "include_colab_link": true
    }
  },
  "nbformat": 4,
  "nbformat_minor": 0
}
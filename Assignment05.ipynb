{
  "cells": [
    {
      "cell_type": "markdown",
      "metadata": {
        "id": "view-in-github",
        "colab_type": "text"
      },
      "source": [
        "<a href=\"https://colab.research.google.com/github/durjoy172/python-problem-solves/blob/main/Assignment05.ipynb\" target=\"_parent\"><img src=\"https://colab.research.google.com/assets/colab-badge.svg\" alt=\"Open In Colab\"/></a>"
      ]
    },
    {
      "cell_type": "markdown",
      "metadata": {
        "id": "_uzpm0b85D7Z"
      },
      "source": [
        "### Task 1\n",
        "Write a function called **even_checker** that takes a number as an argument and prints whether the number is even or odd *inside the function*.\n",
        "\n",
        "**Example1:** \\\n",
        "**Function Call:**\\\n",
        "even_checker(5)\\\n",
        "**Output:**\\\n",
        "Odd!!\n",
        "\n",
        "=============================\n",
        "\n",
        "**Example2:** \\\n",
        "**Function Call:**\\\n",
        "even_checker(2)\\\n",
        "**Output:**\\\n",
        "Even!!\n",
        "\n"
      ]
    },
    {
      "cell_type": "code",
      "execution_count": null,
      "metadata": {
        "id": "tMMBecSe5D7a",
        "outputId": "47170f9b-142b-45c9-93a1-e6a0390bedb7"
      },
      "outputs": [
        {
          "name": "stdout",
          "output_type": "stream",
          "text": [
            "Enter num:5\n",
            "Odd!!\n"
          ]
        }
      ],
      "source": [
        "# to do\n",
        "n=int(input(\"Enter num:\"))\n",
        "def number(x):\n",
        "    if x%2==0:\n",
        "        print(\"Even!!\")\n",
        "    else:\n",
        "        print(\"Odd!!\")\n",
        "number(n)\n",
        ""
      ]
    },
    {
      "cell_type": "markdown",
      "metadata": {
        "id": "YFKgn6Yw5D7f"
      },
      "source": [
        "### Task 2\n",
        "Write a python function that takes the limit as an argument of the Fibonacci series and prints till that limit.\n",
        "\n",
        "**Function Call:**\\\n",
        "fibonacci(10)\\\n",
        "**Output:**\\\n",
        "0 1 1 2 3 5 8\\\n",
        "======================\\\n",
        "**Function Call:**\\\n",
        "fibonacci(5)\\\n",
        "**Output:**\\\n",
        "0 1 1 2 3 5"
      ]
    },
    {
      "cell_type": "code",
      "execution_count": null,
      "metadata": {
        "id": "J4ab_IeA5D7g",
        "outputId": "29d9405e-1fed-4cf2-ce7e-d90c7682c7af"
      },
      "outputs": [
        {
          "name": "stdout",
          "output_type": "stream",
          "text": [
            "Enter Number:1\n",
            "0 1 1 "
          ]
        }
      ],
      "source": [
        "# to do\n",
        "\n",
        "def fibbonacci(x):\n",
        "    num1=0\n",
        "    num2=1\n",
        "    num3=0\n",
        "    while(num3<=input1):\n",
        "        print(num3,end=\" \")\n",
        "        num1=num2\n",
        "        num2=num3\n",
        "        num3=num1+num2\n",
        "input1=int(input(\"Enter Number:\"))\n",
        "fibbonacci(input1)\n"
      ]
    },
    {
      "cell_type": "markdown",
      "metadata": {
        "id": "rDY_xNcO5D7k"
      },
      "source": [
        "### Task 3\n",
        "Write a function called **foo_moo** that takes a number as an argument and **returns** the following statements according the below mention conditions. Then, finally prints the statement in the function call.\n",
        "\n",
        "* \tIf the number is divisible by 2, it should return “Foo”.\n",
        "*   If the number is divisible by 3, it should return “Moo”.\n",
        "*   If the number is divisible by both 2 and 3, it should return “FooMoo”.\n",
        "*   Otherwise, it returns “Boo”.\n",
        "\n",
        "**Example1:** \\\n",
        "**Function Call:**\\\n",
        "foo_moo(5)\\\n",
        "**Output:**\\\n",
        "Boo\n",
        "\n",
        "=================\n",
        "\n",
        "\n",
        "**Example2:** \\\n",
        "**Function Call:**\\\n",
        "foo_moo(4)\\\n",
        "**Output:**\\\n",
        "Foo\n",
        "\n",
        "=================\n",
        "\n",
        "\n",
        "**Example3:** \\\n",
        "**Function Call:**\\\n",
        "foo_moo(6)\\\n",
        "**Output:**\\\n",
        "FooMoo\n",
        "\n"
      ]
    },
    {
      "cell_type": "code",
      "execution_count": null,
      "metadata": {
        "id": "2roUcNrC5D7l",
        "outputId": "9efcde5e-c9bb-4e23-9743-98db9c1e4029"
      },
      "outputs": [
        {
          "name": "stdout",
          "output_type": "stream",
          "text": [
            "Enter num:9\n",
            "Moo\n"
          ]
        }
      ],
      "source": [
        "# to do\n",
        "n=int(input(\"Enter num:\"))\n",
        "def fooMoo(x):\n",
        "    if x%2==0 and x%3==0:\n",
        "        f=(\"FooMoo\")\n",
        "    elif x%2==0:\n",
        "        f=(\"Foo\")\n",
        "    elif x%3==0:\n",
        "        f=(\"Moo\")\n",
        "    else:\n",
        "        f=('Boo')\n",
        "    return f\n",
        "ans=fooMoo(n)\n",
        "print(ans)"
      ]
    },
    {
      "cell_type": "markdown",
      "metadata": {
        "id": "nemw1U-i5D7s"
      },
      "source": [
        "### Task 4\n",
        "Write a python function that takes a string as an argument. Your task is to calculate the number of uppercase letters and lowercase letters and print them in the function.\n",
        "\n",
        "**Function Call:**\\\n",
        "function_name('The quick Sand Man')\\\n",
        "**Output:**\\\n",
        "No. of Uppercase characters : 3\\\n",
        "No. of Lowercase Characters: 12\\\n",
        "============================\\\n",
        "**Function Call:**\\\n",
        "function_name('HaRRy PotteR')\\\n",
        "**Output:**\\\n",
        "No. of Uppercase characters : 5\\\n",
        "No. of Lowercase Characters: 6\n"
      ]
    },
    {
      "cell_type": "code",
      "execution_count": null,
      "metadata": {
        "id": "4ZBb4Mcr5D7t",
        "outputId": "636345a2-75bd-4b71-e9a6-947befacebd4"
      },
      "outputs": [
        {
          "name": "stdout",
          "output_type": "stream",
          "text": [
            "Enter a string : The quick Sand Man\n",
            "No. of Uppercase characters :  3\n",
            "No. of lowercase characters :  12\n"
          ]
        }
      ],
      "source": [
        "# to do\n",
        "new_input = input(\"Enter a string : \")\n",
        "def function_name(x):\n",
        "    count_Upper = 0\n",
        "    count_Lower = 0\n",
        "    for i in x:\n",
        "        if ord(i) >= 65 and ord(i) <= 90:\n",
        "            count_Upper +=1\n",
        "        if ord(i) >= 97 and ord(i) <= 122:\n",
        "            count_Lower+=1\n",
        "    print(\"No. of Uppercase characters: \",count_Upper)\n",
        "    print(\"No. of lowercase characters: \",count_Lower)\n",
        "function_name(new_input)"
      ]
    },
    {
      "cell_type": "markdown",
      "metadata": {
        "id": "e9bojIHe5D7w"
      },
      "source": [
        "### Task 5\n",
        "Write a function called **calculate_tax** that takes 3 arguments: your age, salary, and current job designation.\n",
        "\n",
        "\n",
        "Your first task is to take these arguments as user input and pass these values to the function.\n",
        "\n",
        "Your second task is to implement the function and calculate the tax as the following conditions:\n",
        "*  **NO TAX IF YOU ARE LESS THAN 18 YEARS OLD.**\n",
        "*  **NO TAX IF YOU ARE THE PRESIDENT OF THE COMPANY**\n",
        "*  No tax if you get paid less than 10,000\n",
        "*  5% tax if you get paid between 10K and 20K\n",
        "*  10% tax if you get paid more than 20K\n",
        "\n",
        "\n",
        "Finally return this tax value. Then print the returned value in the function call.\n",
        "\n",
        "**Example1:** \\\n",
        "**Input:**\\\n",
        "16\\\n",
        "20000\\\n",
        "Student\\\n",
        "**Function Call:**\\\n",
        "calculate_tax(16, 20000, 'Student')\\\n",
        "**Output:**\\\n",
        "0\n",
        "\n",
        "===================================\n",
        "\n",
        "**Example2:** \\\n",
        "**Input:**\\\n",
        "20\\\n",
        "18000\\\n",
        "assistant manager\\\n",
        "**Function Call:**\\\n",
        "calculate_tax(20, 18000, 'assistant manager')\\\n",
        "**Output:**\\\n",
        "900.0\n",
        "\n",
        "\n",
        "===================================\n",
        "\n",
        "**Example3:** \\\n",
        "**Input:**\\\n",
        "20\\\n",
        "22000\\\n",
        "assistant manager\\\n",
        "**Function Call:**\\\n",
        "calculate_tax(20, 22000, 'Assistant manager')\\\n",
        "**Output:**\\\n",
        "2200.0\n",
        "\n",
        "===================================\n",
        "\n",
        "\n",
        "**Example4:** \\\n",
        "**Input:**\\\n",
        "20\\\n",
        "122000\\\n",
        "president\\\n",
        "**Function Call:**\\\n",
        "calculate_tax(20, 122000, 'president')\\\n",
        "**Output:**\\\n",
        "0\n",
        "\n",
        "\n",
        "**Hints:**\\\n",
        "Here the job designation is a string, so it can be written in both uppercase and lower cases. So, you need to check the value ignoring the case.\n"
      ]
    },
    {
      "cell_type": "code",
      "execution_count": null,
      "metadata": {
        "id": "M4oo-FKQ5D7x",
        "outputId": "1d312b95-2350-4b2b-c5c9-0f8171b60b3a"
      },
      "outputs": [
        {
          "name": "stdout",
          "output_type": "stream",
          "text": [
            "Enter age:20\n",
            "Enter salary:18000\n",
            "Enter designation:asistant manager\n",
            "900.0\n"
          ]
        }
      ],
      "source": [
        "# to do\n",
        "age=int(input('Enter age:'))\n",
        "salary=int(input('Enter salary:'))\n",
        "job_designation=input('Enter designation:').lower()\n",
        "def calculateTax( x,y,z):\n",
        "    if (x<18 or y<10000 or z == \"president\"):\n",
        "        f=(0)\n",
        "    elif (x>=18 and y>=10000 and y<=20000):\n",
        "        f=(y*0.05)\n",
        "    elif (x>=18 and y>20000):\n",
        "        f=(y*0.1)\n",
        "    return f\n",
        "tax=calculateTax(age,salary,job_designation)\n",
        "print(tax)"
      ]
    },
    {
      "cell_type": "markdown",
      "metadata": {
        "id": "VXLQHyLp5D71"
      },
      "source": [
        "### Task 6\n",
        "Write a function which will take 1 argument, number of days.\n",
        "\n",
        "Your first task is to take the number of days as user input and pass the value to the function.\n",
        "\n",
        "Your second task is to implement the function and calculate the total number of years, number of months, and the remaining number of days as output. No need to return any value, print inside the function.\n",
        "\n",
        "**Note:** Assume, each year to be 365 days and month to be 30 days.\n",
        "\n",
        "**Hint:** Divide and mod the main input to get the desired output.\n",
        "\n",
        "**Input:**\\\n",
        "4330\\\n",
        "**Function Call:**\\\n",
        "function_name(4330)\\\n",
        "**Output:**\\\n",
        "11 years, 10 months and 15 days\n",
        "\n",
        "================================\n",
        "\n",
        "**Input:**\\\n",
        "2250\\\n",
        "**Function Call:**\\\n",
        "function_name(2250)\\\n",
        "**Output:**\\\n",
        "6 years, 2 months and 0 days\n",
        "\n",
        "\n",
        "**Hints:** \\\n",
        "This task’s calculation is similar to Assignment-1’s seconds to hours, minutes conversion."
      ]
    },
    {
      "cell_type": "code",
      "execution_count": null,
      "metadata": {
        "id": "gkE9d9gs5D72",
        "outputId": "55c9163a-0b1f-477f-8d8d-fc80c2cf7257"
      },
      "outputs": [
        {
          "name": "stdout",
          "output_type": "stream",
          "text": [
            "Enter number of days:2250\n",
            "6 years, 2 months and 0 days\n"
          ]
        }
      ],
      "source": [
        "# todo\n",
        "date=int(input('Enter number of days:'))\n",
        "def total_days(x):\n",
        "    year = (x//365)\n",
        "    temp=(x%365)\n",
        "    month =(temp//30)\n",
        "    day = (temp%30)\n",
        "    print(year,\"years\"+\",\",month,\"months\",\"and\",day,\"days\")\n",
        "total_days(date)\n"
      ]
    },
    {
      "cell_type": "markdown",
      "metadata": {
        "id": "SMPiTBn-5D78"
      },
      "source": [
        "### Task 7\n",
        "Write a function called **splitting_money** that takes an “amount” of money as a argument.\n",
        "\n",
        "Your first task is to take the “amount” of money as user input and pass the value to the function paramater.\n",
        "\n",
        "Your second task is to implement the function and calculate how that money can be split into 500, 100, 50, 20, 10, 5, 2, and 1 taka notes.\n",
        "\n",
        "Then print the returned value in the function call.\n",
        "\n",
        "**Example1:** \\\n",
        "If the money is 1234, then the function should return\n",
        "\n",
        "“500 Taka: 2 note(s) \\\n",
        "100 Taka: 2 note(s) \\\n",
        "20 Taka: 1 note(s) \\\n",
        "10 Taka: 1 note(s) \\\n",
        "2 Taka: 2 note(s)”\n",
        "\n",
        "**Example2:** \\\n",
        "If the money is 151, then the function should return\n",
        "\n",
        "“100 Taka: 1 note(s)\\\n",
        "50 Taka: 1 note(s)\\\n",
        "1 Taka: 1 note(s)”\n",
        "\n",
        "\n",
        "**Hints:** \\\n",
        "This task’s calculation is similar to Assignment-1’s seconds to hours, minutes conversion. To return the result containing multiple strings, you need to store it in a variable and return it at the end of the function.\n"
      ]
    },
    {
      "cell_type": "code",
      "execution_count": null,
      "metadata": {
        "id": "WQS_DPXn5D79",
        "outputId": "c794ac8a-c0c3-44b0-80f1-37218f77eb82"
      },
      "outputs": [
        {
          "name": "stdout",
          "output_type": "stream",
          "text": [
            "Enter amount of money:1234\n",
            "\"500 taka: 2 note(s)\n",
            "100 taka: 2 note(s)\n",
            "20 taka: 1 note(s)\n",
            "10 taka: 1 note(s)\n",
            "2 taka: 2 note(s)\"\n"
          ]
        }
      ],
      "source": [
        "def splitting_money(x):\n",
        "    dict1={}\n",
        "    w_dict={}\n",
        "    taka1=x//500\n",
        "    dict1[\"500 taka\"]=taka1\n",
        "    taka2=(x%500)//100\n",
        "    dict1[\"100 taka\"]=taka2\n",
        "    taka3=((x%500)%100)//50\n",
        "    dict1[\"50 taka\"]=taka3\n",
        "    taka4=(((x%500)%100)%50)//20\n",
        "    dict1[\"20 taka\"]=taka4\n",
        "    taka5=((((x%500)%100)%50)%20)//10\n",
        "    dict1[\"10 taka\"]=taka5\n",
        "    taka6=(((((x%500)%100)%50)%20)%10)//5\n",
        "    dict1[\"5 taka\"]=taka6\n",
        "    taka7=((((((x%500)%100)%50)%20)%10)%5)//2\n",
        "    dict1[\"2 taka\"]=taka7\n",
        "    taka8=(((((((x%500)%100)%50)%20)%10)%5)%2)//1\n",
        "    dict1[\"1 taka\"]=taka8\n",
        "    for key,value in dict1.items():\n",
        "        if value!=0:\n",
        "            w_dict[key]=value\n",
        "    strn=\"\"\n",
        "    for key,value in w_dict.items():\n",
        "        strn+=str(key)+': '+str(value)+\" note(s)\"+'\\n'\n",
        "        ryn=('\"'+strn[0:-1]+'\"')\n",
        "    return ryn\n",
        "money=int(input(\"Enter amount of money:\"))\n",
        "note=splitting_money(money)\n",
        "print(note)"
      ]
    },
    {
      "cell_type": "markdown",
      "metadata": {
        "id": "8-vvES0i5D8B"
      },
      "source": [
        "### Task 8\n",
        "Write a function called **show_palindrome** that takes a number as an argument and then returns a palindrome string. Finally, prints the returned value in the function call.\n",
        "\n",
        "**Example1:** \\\n",
        "**Function Call:**\\\n",
        "show_palindrome(5)\\\n",
        "**Output:**\\\n",
        "123454321\n",
        "\n",
        "===================\n",
        "\n",
        "**Example2:** \\\n",
        "**Function Call:**\\\n",
        "show_palindrome(3)\\\n",
        "**Output:**\\\n",
        "12321\n"
      ]
    },
    {
      "cell_type": "code",
      "execution_count": null,
      "metadata": {
        "id": "QN-Iu8sz5D8C",
        "outputId": "23e3cece-470a-494d-d2c5-c125b5ece116"
      },
      "outputs": [
        {
          "name": "stdout",
          "output_type": "stream",
          "text": [
            "Enter a number :10\n",
            "12345678910987654321\n"
          ]
        }
      ],
      "source": [
        "# to do\n",
        "def showPalindrome(x):\n",
        "    lst1 = []\n",
        "    str1=''\n",
        "    for i in range(1, x+1):\n",
        "        lst1.append(i)\n",
        "        lst2=lst1[-2::-1]\n",
        "    lst1.extend(lst2)\n",
        "    for j in lst1:\n",
        "        str1+=str(j)\n",
        "    return str1\n",
        "number = int(input(\"Enter a number :\"))\n",
        "palindrom=showPalindrome(number)\n",
        "print(palindrom)\n"
      ]
    },
    {
      "cell_type": "markdown",
      "metadata": {
        "id": "V_PVNpx45D8F"
      },
      "source": [
        "### Task 9\n",
        "Write a function called **show_palindromic_triangle** that takes a number as a argument and prints a Palindromic Triangle in the function.\n",
        "\n",
        "\n",
        "**Example1:** \\\n",
        "**Function Call:**\\\n",
        "show_palindromic_triangle(5)\\\n",
        "**Output:**\n",
        "\n",
        "&emsp; &emsp; &emsp; &emsp; 1\\\n",
        "&emsp; &emsp; &emsp; 1 &nbsp; 2 &nbsp; 1 \\\n",
        "&emsp; &emsp; 1 &nbsp; 2 &nbsp; 3 &nbsp; 2 &nbsp; 1 \\\n",
        "&emsp; 1 &nbsp; 2 &nbsp; 3 &nbsp; 4 &nbsp; 3 &nbsp; 2 &nbsp; 1 \\\n",
        "1 &nbsp; 2 &nbsp; 3 &nbsp; 4 &nbsp; 5 &nbsp; 4 &nbsp; 3 &nbsp; 2 &nbsp; 1\n",
        "\n",
        "=============================================================\n",
        "\n",
        "\n",
        "**Example1:** \\\n",
        "**Function Call:**\\\n",
        "show_palindromic_triangle(3)\\\n",
        "**Output:**\n",
        "\n",
        "&emsp; &emsp; 1 \\\n",
        "&emsp; 1 &nbsp; 2 &nbsp; 1 \\\n",
        "1 &nbsp; 2 &nbsp; 3 &nbsp; 2 &nbsp; 1\n",
        "\n",
        "\n",
        "**Hints:** \\\n",
        "Need to use both print() and print( , end = \" \") functions"
      ]
    },
    {
      "cell_type": "code",
      "execution_count": null,
      "metadata": {
        "id": "fUu0BrHz5D8G",
        "outputId": "80c69d13-4a6d-4536-c2dd-89b25835c40c"
      },
      "outputs": [
        {
          "name": "stdout",
          "output_type": "stream",
          "text": [
            "Enter a number : 5\n",
            "             1 \n",
            "          1  2  1 \n",
            "       1  2  3  2  1 \n",
            "    1  2  3  4  3  2  1 \n",
            " 1  2  3  4  5  4  3  2  1 \n"
          ]
        }
      ],
      "source": [
        "# to do\n",
        "def  show_palindromic_triangle(x):\n",
        "    line=1\n",
        "    distance=x-1\n",
        "    for row in range(1,x+1):\n",
        "        serial =0\n",
        "        for number in range(1, distance + 1):\n",
        "            print(\"  \", end = \" \")\n",
        "        for number in range (1,line+1):\n",
        "            if(number<=row):\n",
        "                serial+=1\n",
        "                if serial>9:\n",
        "                    print(\"\",end=\"\")\n",
        "                else:\n",
        "                    print(end =\" \")\n",
        "            else:\n",
        "                serial-=1\n",
        "                if serial > 9:\n",
        "                    print(\"\",end=\"\")\n",
        "                else:\n",
        "                    print(end=\" \")\n",
        "            print(serial,end=\" \")\n",
        "        print()\n",
        "        line+=2\n",
        "        distance-=1\n",
        "number_input = int(input(\"Enter a number : \"))\n",
        "show_palindromic_triangle(number_input)"
      ]
    },
    {
      "cell_type": "markdown",
      "metadata": {
        "id": "iLTMEWXg5D8M"
      },
      "source": [
        "### Task 10\n",
        "Write a function called **area_circumference_generator** that takes a radius of a circle as a  function parameter and calculates its circumference and area. Then returns these two results as a **tuple** and prints the results using tuple unpacking in the function call accorrding to the given format. <font color='red'>[Must use tuple packing & unpacking] </font>\n",
        "\n",
        "**Example1:** \\\n",
        "**Function Call:**\\\n",
        "area_circumference_generator(1)\\\n",
        "**Output:**\\\n",
        "(3.141592653589793, 6.283185307179586)\\\n",
        "Area of the circle is 3.141592653589793 and circumference is 6.283185307179586\n",
        "\n",
        "====================================\n",
        "\n",
        "**Example2:** \\\n",
        "**Function Call:**\\\n",
        "area_circumference_generator(1.5)\\\n",
        "**Output:**\\\n",
        "(7.0685834705770345, 9.42477796076938)\\\n",
        "Area of the circle is 7.0685834705770345 and circumference is 9.42477796076938\n",
        "\n",
        "====================================\n",
        "\n",
        "\n",
        "**Example3:** \\\n",
        "**Function Call:**\\\n",
        "area_circumference_generator(2.5)\\\n",
        "**Output:**\\\n",
        "(19.634954084936208, 15.707963267948966)\\\n",
        "Area of the circle is 19.634954084936208 and circumference is 15.707963267948966\n"
      ]
    },
    {
      "cell_type": "code",
      "execution_count": null,
      "metadata": {
        "id": "k8SLTHf35D8N",
        "outputId": "3a2bf579-2a96-4cca-df0e-4257fe5fad12"
      },
      "outputs": [
        {
          "name": "stdout",
          "output_type": "stream",
          "text": [
            "Enter radius:1.5\n",
            "(7.0685834705770345, 9.42477796076938)\n",
            "Area of the circle is 7.0685834705770345 and circumfence is 9.42477796076938\n"
          ]
        }
      ],
      "source": [
        "# to do\n",
        "import math\n",
        "radius=float(input('Enter radius:'))\n",
        "def area_circumference_generator(x):\n",
        "    area = math.pi*radius*radius\n",
        "    cir= 2*math.pi*radius\n",
        "    tuple1=(area,cir)\n",
        "    return(tuple1)\n",
        "ans=area_circumference_generator(radius)\n",
        "print(ans)\n",
        "a,b=ans\n",
        "print(\"Area of the circle is\",a,\"and circumfence is\",b)\n"
      ]
    },
    {
      "cell_type": "markdown",
      "metadata": {
        "id": "NpgEU6ZI5D8S"
      },
      "source": [
        "### Task 11\n",
        "Write a function called **make_square** that takes a tuple in the parameter as a range of numbers (starting point and ending point (included)). The function should **return a dictionary** with the numbers as keys and its squares as values.\n",
        "\n",
        "**Example1:** \\\n",
        "**Function Call:**\\\n",
        "make_square((1,3))\\\n",
        "**Output:**\\\n",
        "{1: 1, 2: 4, 3: 9}\n",
        "\n",
        "====================================\n",
        "\n",
        "**Example2:** \\\n",
        "**Function Call:**\\\n",
        "make_square((5,9))\\\n",
        "**Output:**\\\n",
        "{5: 25, 6: 36, 7: 49, 8: 64, 9: 81}\n",
        "\n",
        "\n",
        "\n",
        "**Hints:** \\\n",
        "You need to declare a dictionary to store the result. You should use the range function to run the “for loop”.\n"
      ]
    },
    {
      "cell_type": "code",
      "execution_count": null,
      "metadata": {
        "id": "-KGD8b0F5D8T",
        "outputId": "24f0431d-9113-4ec2-d533-ac20883f41c4"
      },
      "outputs": [
        {
          "name": "stdout",
          "output_type": "stream",
          "text": [
            "enter a number:5\n",
            "enter a number:9\n",
            "{5: 25, 6: 36, 7: 49, 8: 64, 9: 81}\n"
          ]
        }
      ],
      "source": [
        "# to do\n",
        "inpt1=int(input('enter a number:'))\n",
        "inpt2=int(input('enter a number:'))\n",
        "tuple1=(inpt1,inpt2)\n",
        "def makeSquare(x):\n",
        "    dict1={}\n",
        "    for x in range (inpt1,inpt2+1):\n",
        "        dict1[x]=x**2\n",
        "    return(dict1)\n",
        "dict1=makeSquare(tuple1)\n",
        "print(dict1)"
      ]
    },
    {
      "cell_type": "markdown",
      "metadata": {
        "id": "ZSdXyrvP5D8X"
      },
      "source": [
        "### Task 12\n",
        "Write a function called **remove_odd** that takes a list of numbers that have both even and odd numbers mixed. \\\n",
        "Your function should remove all the odd numbers and **return a compact list** which only contains the even numbers.\n",
        "\n",
        "**Example1:** \\\n",
        "**Function Call:**\\\n",
        "remove_odd ([21, 33, 44, 66, 11, 1, 88, 45, 10, 9])\\\n",
        "**Output:**\\\n",
        "[44, 66, 88, 10]\n",
        "\n",
        "====================================\n",
        "\n",
        "**Example2:** \\\n",
        "**Function Call:**\\\n",
        "remove_odd ([11,2,3,4,5,2,0,5,3])\\\n",
        "**Output:**\\\n",
        "[2, 4, 2, 0]\n",
        "\n"
      ]
    },
    {
      "cell_type": "code",
      "execution_count": null,
      "metadata": {
        "id": "7gfZ__Nx5D8X",
        "outputId": "65e8ab78-1e13-4b21-c0ce-b07b3c499683"
      },
      "outputs": [
        {
          "name": "stdout",
          "output_type": "stream",
          "text": [
            "Enter number of elements:10\n",
            "Enter a number:21\n",
            "Enter a number:33\n",
            "Enter a number:44\n",
            "Enter a number:66\n",
            "Enter a number:11\n",
            "Enter a number:1\n",
            "Enter a number:88\n",
            "Enter a number:45\n",
            "Enter a number:10\n",
            "Enter a number:9\n",
            "[44, 66, 88, 10]\n"
          ]
        }
      ],
      "source": [
        "# to do\n",
        "alist=[]\n",
        "n=int(input('Enter number of elements:'))\n",
        "for i in range(n):\n",
        "    element=int(input('Enter a number:'))\n",
        "    alist.append(element)\n",
        "compact_list=[]\n",
        "def  removeOdd(x):\n",
        "    for x in alist:\n",
        "        if int(x)%2==0:\n",
        "            compact_list.append(x)\n",
        "    return(compact_list)\n",
        "compact_list=removeOdd(alist)\n",
        "print(compact_list)"
      ]
    },
    {
      "cell_type": "markdown",
      "metadata": {
        "id": "J7xaBB5i5D8c"
      },
      "source": [
        "### Task 13\n",
        "Write a function called **rem_duplicate** that takes a tuple in the parameter and return a tuple removing all the duplicate values. Then print the returned tuple in the function call.\n",
        "\n",
        "**Example1:** \\\n",
        "**Function Call:**\\\n",
        "rem_duplicate((1,1,1,2,3,4,5,6,6,6,6,4,0,0,0))\\\n",
        "**Output:**\\\n",
        "(1, 2, 3, 4, 5, 6, 0)\n",
        "\n",
        "====================================\n",
        "\n",
        "**Example2:** \\\n",
        "**Function Call:**\\\n",
        "rem_duplicate((\"Hi\", 1, 2, 3, 3, \"Hi\",'a', 'a', [1,2]))\\\n",
        "**Output:**\\\n",
        "('Hi', 1, 2, 3, 'a', [1, 2])\n",
        "\n",
        "\n",
        "**Hints:** \\\n",
        "Unlike lists, tuples are immutable so, the tuple taken as an argument cannot be modified. But list can be modified and lastly for returning the result use type conversion. You need to use membership operators (in, not in) for preventing adding any duplicates values.\n"
      ]
    },
    {
      "cell_type": "code",
      "execution_count": null,
      "metadata": {
        "id": "mniLLbJY5D8d",
        "outputId": "afecbaa2-fa89-41e9-80c5-201618ab5d25"
      },
      "outputs": [
        {
          "name": "stdout",
          "output_type": "stream",
          "text": [
            "('Hi', 1, 2, 3, 'a', [1, 2])\n"
          ]
        }
      ],
      "source": [
        "# to do\n",
        "def rem_duplicate(x):\n",
        "    blist = []\n",
        "    for i in x:\n",
        "        if i not in blist:\n",
        "            blist.append(i)\n",
        "    btuple=tuple(blist)\n",
        "    return(btuple)\n",
        "remain=rem_duplicate((\"Hi\", 1, 2, 3, 3, \"Hi\",'a', 'a', [1,2]))\n",
        "print(remain)\n"
      ]
    },
    {
      "cell_type": "markdown",
      "metadata": {
        "id": "yJxb2yrb5D8h"
      },
      "source": [
        "\n",
        "### Task 14\n",
        "Write a python function that takes a list as an argument. Your task is to create a new list where **each element can be present at max 2 times**. Inside the function, print the number of elements removed from the given list. Finally, return the new list and print the result.\n",
        "\n",
        "**Hint:** Use list_name.count(element) to count the total number of times an element is in a list. list_name is your new list for this problem.\n",
        "\n",
        "**Function Call:**\\\n",
        "function_name([1, 2, 3, 3, 3, 3, 4, 5, 8, 8])\\\n",
        "**Output:**\\\n",
        "Removed: 2\\\n",
        "[1, 2, 3, 3, 4, 5, 8, 8]\\\n",
        "================================\\\n",
        "**Function Call:**\\\n",
        "function_name([10, 10, 15, 15, 20])\\\n",
        "**Output:**\\\n",
        "Removed: 0\\\n",
        "[10, 10, 15, 15, 20]"
      ]
    },
    {
      "cell_type": "code",
      "execution_count": null,
      "metadata": {
        "id": "URBhYdgt5D8h",
        "outputId": "21f7fc3a-7028-4a4e-ed06-cac16e5f6d05"
      },
      "outputs": [
        {
          "name": "stdout",
          "output_type": "stream",
          "text": [
            "Enter num of elements :10\n",
            "Enter the elements :1\n",
            "Enter the elements :2\n",
            "Enter the elements :3\n",
            "Enter the elements :3\n",
            "Enter the elements :3\n",
            "Enter the elements :3\n",
            "Enter the elements :4\n",
            "Enter the elements :5\n",
            "Enter the elements :8\n",
            "Enter the elements :8\n",
            "Removed: 2\n",
            "[1, 2, 3, 3, 4, 5, 8, 8]\n"
          ]
        }
      ],
      "source": [
        "# todo\n",
        "def dual_element(x):\n",
        "    input_list = []\n",
        "    for i in range(x):\n",
        "        element = int(input(\"Enter the elements :\"))\n",
        "        input_list.append(element)\n",
        "\n",
        "    dual_list = []\n",
        "    for i in input_list:\n",
        "        if  dual_list.count(i) < 2:\n",
        "            dual_list.append(i)\n",
        "    lenght1=len(input_list)\n",
        "    lenght2=len(dual_list)\n",
        "    remove = lenght1-lenght2\n",
        "    print(\"Removed:\", remove)\n",
        "\n",
        "    return dual_list\n",
        "\n",
        "element_num = int(input(\"Enter num of elements :\"))\n",
        "new=dual_element(element_num)\n",
        "print(new)"
      ]
    },
    {
      "cell_type": "markdown",
      "metadata": {
        "id": "oZRJfnm85D8m"
      },
      "source": [
        "### Task 15\n",
        "Write a function which will take 4 arguments. They are:\n",
        "- starting value(inclusive)\n",
        "- ending value(exclusive)\n",
        "- first divisor\n",
        "- second divisor\n",
        "\n",
        "Your first task is to take these arguments as user input and pass these values to the function.\n",
        "\n",
        "Your second task is to implement the function and find all the numbers that are divisible by the <u>first divisor or second divisor but not both</u> from the starting value(inclusive) and ending value(exclusive). Add all the numbers that are divisible and finally return this value. Print the returned value in the function call.\n",
        "\n",
        "**Input:**\\\n",
        "10\\\n",
        "40\\\n",
        "4\\\n",
        "7\\\n",
        "**Function Call:**\\\n",
        "function_name(10, 40, 4, 7)\\\n",
        "**Output:**\\\n",
        "210\\\n",
        "================================\\\n",
        "**Input:**\\\n",
        "5\\\n",
        "100\\\n",
        "3\\\n",
        "4\\\n",
        "**Function Call:**\\\n",
        "function_name(5, 100, 3, 4)\\\n",
        "**Output:**\\\n",
        "2012\n",
        "\n",
        "\n"
      ]
    },
    {
      "cell_type": "code",
      "execution_count": null,
      "metadata": {
        "id": "WStErxZP5D8m",
        "outputId": "45303494-fdf1-464e-dec2-ec59ca335949"
      },
      "outputs": [
        {
          "name": "stdout",
          "output_type": "stream",
          "text": [
            "Enter starting value:10\n",
            "Enter ending value:40\n",
            "Enter first divisor:4\n",
            "Enter second divisor:7\n",
            "210\n"
          ]
        }
      ],
      "source": [
        "# to do\n",
        "def addnumbers(a,b,c,d):\n",
        "    sm=0\n",
        "    for x in range(a,b):\n",
        "        if (x%c==0 or x%d==0) and (x %c!=0 or x%d!=0):\n",
        "            sm+=x\n",
        "    return(sm)\n",
        "starting_value=int(input('Enter starting value:'))\n",
        "ending_value=int(input('Enter ending value:'))\n",
        "first_divisor=int(input('Enter first divisor:'))\n",
        "second_divisor=int(input('Enter second divisor:'))\n",
        "summation=addnumbers(starting_value,ending_value,first_divisor,second_divisor)\n",
        "print(summation)"
      ]
    },
    {
      "cell_type": "markdown",
      "metadata": {
        "id": "vqET24dk5D8u"
      },
      "source": [
        "### Task 16\n",
        "Write a python function that will perform the basic calculation (addition, subtraction, multiplication and division) based on 3 arguments. They are:\n",
        "- Operator ('+', '-', '/', '*')\n",
        "- First Operand (any number)\n",
        "- Second Operand (any number)\n",
        "\n",
        "Your first task is to take these arguments as user input and pass the values to the function parameters.\n",
        "\n",
        "Your second task is to write a function and performs the calculation based on the given operator. Then, finally return the result in the function call and print the result.\n",
        "\n",
        "**Input:**\\\n",
        "\"+\"\\\n",
        "10\\\n",
        "20\\\n",
        "**Function Call:**\\\n",
        "function_name(\"+\", 10, 20)\\\n",
        "**Output:**\\\n",
        "30\n",
        "\n",
        "================================\n",
        "\n",
        "**Input:**\\\n",
        "\"*\"\\\n",
        "5.5\\\n",
        "2.5\\\n",
        "**Function Call:**\\\n",
        "function_name(\"*\", 5.5, 2.5)\\\n",
        "**Output:**\\\n",
        "13.75\n"
      ]
    },
    {
      "cell_type": "code",
      "execution_count": null,
      "metadata": {
        "id": "sh7YQRv_5D8v",
        "outputId": "206e5c5e-aee2-4094-d102-a49ebfb111a3"
      },
      "outputs": [
        {
          "name": "stdout",
          "output_type": "stream",
          "text": [
            "Enter a operator'+','-','*','/' :/\n",
            "Enter a number :2\n",
            "Enter a number :4\n",
            "0.5\n"
          ]
        }
      ],
      "source": [
        "# to do\n",
        "def basic_calculation(x,y,z):\n",
        "\n",
        "    if z == '+':\n",
        "        summation=x+y\n",
        "        calculate=(summation)\n",
        "    if z == '-':\n",
        "        substract=x-y\n",
        "        calculate=(substract)\n",
        "    if z == '*':\n",
        "        product=x*y\n",
        "        calculate=(product)\n",
        "    if z == '/':\n",
        "        devide=x/y\n",
        "        calculate=(devide)\n",
        "    if calculate-int(calculate)==0:\n",
        "        calculate=int(calculate)\n",
        "    return calculate\n",
        "operator = input(\"Enter a operator'+','-','*','/' :\")\n",
        "first_operand = float(input(\"Enter a number :\"))\n",
        "second_operand = float(input(\"Enter a number :\"))\n",
        "value=basic_calculation(first_operand,second_operand, operator)\n",
        "print(value)"
      ]
    },
    {
      "cell_type": "markdown",
      "metadata": {
        "id": "j6RsRgJP5D8y"
      },
      "source": [
        "### Task 17\n",
        "Write a python function which will take a string as an argument.\n",
        "\n",
        "Your first task is to take a string as user input and pass the value to the function.\n",
        "\n",
        "Your second task is to implement a function which will check whether all the alphabets from a to j (convert all the alphabets to lowercase) has appeared at least once in the given string or not.\n",
        "- If all of these alphabets (a to j) appear at least once, then the result will be 5.\n",
        "- If any one of the alphabets (a to j) is not in the given string, then the result will be 6.\n",
        "\n",
        "Return this result and print the statement, “Chelsea is the best club in England” that many times.\n",
        "\n",
        "**Example:**\n",
        "\"A black jackal is hunting a full grown deer\"\n",
        "\n",
        "Here all the alphabets from A to J are present at least once. So, the function will return 5 and will print the statement 5 times.\n",
        "\n",
        "**Input:**\\\n",
        "\"A black jackal is hunting a full grown deer\"\\\n",
        "**Function Call:**\\\n",
        "function_name(\"A black jackal is hunting a full grown deer\")\\\n",
        "**Output:**\\\n",
        "Chelsea is the best club in England\\\n",
        "Chelsea is the best club in England\\\n",
        "Chelsea is the best club in England\\\n",
        "Chelsea is the best club in England\\\n",
        "Chelsea is the best club in England\n",
        "\n",
        "==============================================\n",
        "\n",
        "**Input:**\\\n",
        "\"ABBCDEFEFGHI\"\\\n",
        "**Function Call:**\\\n",
        "function_name(\"ABBCDEFEFGHI\")\\\n",
        "**Output:**\\\n",
        "Chelsea is the best club in England\\\n",
        "Chelsea is the best club in England\\\n",
        "Chelsea is the best club in England\\\n",
        "Chelsea is the best club in England\\\n",
        "Chelsea is the best club in England\\\n",
        "Chelsea is the best club in England\n"
      ]
    },
    {
      "cell_type": "code",
      "execution_count": null,
      "metadata": {
        "id": "8u2sBE7c5D8z",
        "outputId": "f02891e2-31c6-4e4e-f5c2-dfded5a93f10"
      },
      "outputs": [
        {
          "name": "stdout",
          "output_type": "stream",
          "text": [
            "Enter a string :A black jackal is hunting a full grown deer\n",
            "Chelsea is the best club in England\n",
            "Chelsea is the best club in England\n",
            "Chelsea is the best club in England\n",
            "Chelsea is the best club in England\n",
            "Chelsea is the best club in England\n",
            "\n"
          ]
        }
      ],
      "source": [
        "# to do\n",
        "def random_func(x):\n",
        "    alist = []\n",
        "    new_list = []\n",
        "    abcd_list = ['a','b','c','d','e','f','g','h','i','j']\n",
        "    for i in x:\n",
        "\n",
        "        if ord(i)>=97 and ord(i)<=106:\n",
        "            alist.append(i)\n",
        "    for i in alist:\n",
        "        if i not in new_list:\n",
        "            new_list.append(i)\n",
        "    sorted_list = sorted(new_list)\n",
        "    if sorted_list == abcd_list:\n",
        "        return1=('Chelsea is the best club in England\\n'*5)\n",
        "    else:\n",
        "        return1=(\"Chelsea is the best club in England\\n\"*6)\n",
        "    return return1\n",
        "user_input = input(\"Enter a string :\").lower()\n",
        "result=random_func(user_input)\n",
        "print(result)"
      ]
    },
    {
      "cell_type": "markdown",
      "metadata": {
        "id": "KGitjtfO5D83"
      },
      "source": [
        "### Task 18\n",
        "Write a function which will take 2 arguments. They are:\n",
        "- Sentence\n",
        "- position\n",
        "\n",
        "Your first task is to take these arguments as user input and pass these values to the function parameters.\n",
        "\n",
        "Your second task is to implement the function and remove the characters at the index number which is divisible by the position (Avoid the index number 0 as it will always be divisible by the position, so no need to remove the index 0 character).\n",
        "Finally, add the removed characters at the end of the new string.\n",
        "\n",
        "Return the value and then finally, print the new string at the function call.\n",
        "\n",
        "**Input:**\\\n",
        "‘I love programming.’\\\n",
        "3\\\n",
        "**Function call:**\\\n",
        "function_name(‘I love programming.’,3)\\\n",
        "**Output:**\\\n",
        "I lveprgrmmngo oai.\n",
        "\n",
        "==============================================\n",
        "\n",
        "**Input:**\\\n",
        "‘Python is easy to learn. I love python.’\\\n",
        "6\\\n",
        "**Function call:**\\\n",
        "function_name(‘Python is easy to learn. I love python.’,6)\\\n",
        "**Output:**\\\n",
        "Pythonis eay to earn.I lov pythn. sl eo\n"
      ]
    },
    {
      "cell_type": "code",
      "execution_count": null,
      "metadata": {
        "id": "1Op6YcHY5D84",
        "outputId": "305e6df0-aef7-49b7-8e0c-2d016706ce7e"
      },
      "outputs": [
        {
          "name": "stdout",
          "output_type": "stream",
          "text": [
            "Enter string:Python is easy to learn. I love python.\n",
            "Enter position:6\n",
            "Pythonis eay to earn.I lov pythn. sl eo\n"
          ]
        }
      ],
      "source": [
        "def new_string(x,y):\n",
        "    j = \"\"\n",
        "    for i in  range(len(x)):\n",
        "        if i==0 or i%y != 0:\n",
        "            j+= x[i]\n",
        "    for i in range(len(x)):\n",
        "        if i !=0 and i%y ==0:\n",
        "            j+=x[i]\n",
        "    return(j)\n",
        "sentence=input('Enter string:')\n",
        "position=int(input('Enter position:'))\n",
        "new=new_string(sentence,position)\n",
        "print(new)"
      ]
    },
    {
      "cell_type": "markdown",
      "metadata": {
        "id": "5Gq0ZAzQ5D8-"
      },
      "source": [
        "### Task 19\n",
        "You have been hired as an app developer for the company karon_tumi_bekar. The company plans to make an app for a grocery store where the user can order groceries and see the total amount to be paid in the cart section.\n",
        "\n",
        "To build this feature, you have to write a function that takes 2 arguments. They are:\n",
        "- order_items (must be a list)\n",
        "- location (default value should be set to ‘Dhanmondi’)\n",
        "\n",
        "Your first task is to take a list of items from the user. Pass the list into the function parameter along with the optional location (Use default argument technique). (Also, no need to take location as input, pass this any value you want.)\n",
        "\n",
        "Your second task is to implement the function. In the function, create a dictionary for the items shown in the table. Calculate the total price of the items passed as a list to the function. Additionally, add a delivery fee of 30 taka if the location is Dhanmondi. Otherwise, add a delivery fee of 70 taka. Finally, return the value and print it.\n",
        "\n",
        "| Item | Price(Tk) |\n",
        "| --- | --- |\n",
        "| Rice | 105 |\n",
        "| Potato | 20 |\n",
        "| Chicken | 250 |\n",
        "| Beef | 510 |\n",
        "| Oil | 85 |\n",
        "\n",
        "**Hint:** The keys are the items and values are the corresponding price. Iterate the items in the list and check if the items in the list are available in the dictionary keys or not. If it is available, add the price.\n",
        "\n",
        "**Example:**\\\n",
        "function_name([‘Rice’, ‘Beef’, ‘Rice’], ‘Mohakhali’)\n",
        "\n",
        "total = 105 + 510 + 105 = 720 (Take the price of each item and add them.)\\\n",
        "total = 720 + 70 = 790 (Finally, add the delivery fee based on the location.)\n",
        "\n",
        "**Input:**\\\n",
        "[‘Rice’, ‘Beef’, ‘Rice’]\\\n",
        "**Function Call:**\\\n",
        "function_name([‘Rice’, ‘Beef’, ‘Rice’], ‘Mohakhali’)\\\n",
        "**Output:**\\\n",
        "790\n",
        "\n",
        "==============================================\n",
        "\n",
        "**Input:**\\\n",
        "[‘Rice’, ‘Beef’, ‘Rice’]\\\n",
        "**Function Call:**\\\n",
        "function_name([‘Rice’, ‘Beef’, ‘Rice’])\\\n",
        "**Output:**\\\n",
        "750"
      ]
    },
    {
      "cell_type": "code",
      "execution_count": null,
      "metadata": {
        "id": "-vQ3gIWm5D8-",
        "outputId": "7e6ea328-b1f2-405c-d27f-cf10d4c4a9a4"
      },
      "outputs": [
        {
          "name": "stdout",
          "output_type": "stream",
          "text": [
            "Enter the number of items : 3\n",
            "Enter the name of items : Rice\n",
            "Enter the name of items : Beef\n",
            "Enter the name of items : Rice\n",
            "790\n"
          ]
        }
      ],
      "source": [
        "def price_list(items, location='Dhanmondi'):\n",
        "    order_items = []\n",
        "    grocery = {'Rice':105, \"Potato\":20, \"Chicken\": 250, \"Beef\":510, \"Oil\":85}\n",
        "    for i in range(items):\n",
        "        elements = input(\"Enter the name of items : \")\n",
        "        order_items.append(elements)\n",
        "    sum = 0\n",
        "    for key,value in grocery.items():\n",
        "        for i in order_items:\n",
        "            if i == key:\n",
        "                grocery[key] = value\n",
        "                sum = sum + value\n",
        "        if location == 'Dhanmondi':\n",
        "            delivery = sum +30\n",
        "        else:\n",
        "            delivery = sum +70\n",
        "    print(delivery)\n",
        "range_ = int(input(\"Enter the number of items : \"))\n",
        "price_list(range_,\"Mohakhali\")"
      ]
    },
    {
      "cell_type": "markdown",
      "metadata": {
        "id": "XGLNNSH25D9B"
      },
      "source": [
        "### Task 20\n",
        "You have been hired by the Abahani football club to write a function that will calculate the total bonus on the yearly earnings of each player for the total goals they have scored. Since the number of players will vary, you decide to use the \"*args\" technique that you learned in your CSE110 class. (No need to take any input from the user. Call the functions and print the values inside the function.)\n",
        "For each player: pass the name, yearly earning, the total goal scored this season, bonus percent per goal. Additionally, if the goal scored is above 30, add an extra bonus of 10000 taka. If it is between 20 and 30 inclusive, add an extra 5000 taka.\n",
        "\n",
        "**Example:**\\\n",
        "function_name(‘Neymar’, 1200000, 30, 10)\n",
        "\n",
        "bonus = 30 * (10 / 100 * 1200000) + 5000 = 3605000\n",
        "\n",
        "**Function call:**\\\n",
        "function_name(‘Neymar’, 1200000, 30, 10)\\\n",
        "**Output:**\\\n",
        "Neymar earned a bonus of 3605000 Taka for 31 goals.\n",
        "\n",
        "=====================================================\n",
        "\n",
        "**Function call:**\\\n",
        "function_name(‘Neymar’, 1200000, 30, 10, ‘Jamal’, 700000, 19, 5)\\\n",
        "**Output:**\\\n",
        "Neymar earned a bonus of 3605000 Taka for 31 goals.\\\n",
        "Jamal earned a bonus of 665000 Taka for 19 goals.\n",
        "\n",
        "\n",
        "\n"
      ]
    },
    {
      "cell_type": "code",
      "execution_count": null,
      "metadata": {
        "id": "IIz3msUa5D9B",
        "outputId": "b2850eda-249e-4651-86a8-f5f9243bbcc3"
      },
      "outputs": [
        {
          "name": "stdout",
          "output_type": "stream",
          "text": [
            "Neymar earned a bonus of 3605000.0 Taka for 30 goals\n",
            "Jamal earned a bonus of 670000.0 Taka for 19 goals\n"
          ]
        }
      ],
      "source": [
        "# to do\n",
        "def football_club(*a):\n",
        "    list1=[]\n",
        "    for i in range(len(a)):\n",
        "        list1.append(a[i])\n",
        "        if len(list1)==4:\n",
        "            if a[2]>30:\n",
        "                bonus=list1[2]*(list1[3]/100*list1[1])+10000\n",
        "            elif a[2]>=20 and a[2]<=30:\n",
        "                bonus=list1[2]*(list1[3]/100*list1[1])+5000\n",
        "            else:\n",
        "                bonus=list1[2]*(list1[3]/100*list1[1])\n",
        "            print(list1[0],'earned a bonus of',bonus,'Taka for',list1[2],'goals')\n",
        "            list1.clear()\n",
        "football_club('Neymar', 1200000, 30, 10,'Jamal', 700000, 19, 5)\n"
      ]
    },
    {
      "cell_type": "code",
      "execution_count": null,
      "metadata": {
        "id": "iiETglCkoDQ1",
        "outputId": "841ed4b1-23c3-4980-d7df-9f2347211ab9"
      },
      "outputs": [
        {
          "name": "stdout",
          "output_type": "stream",
          "text": [
            "Enter a number :11\n",
            "1234567891011101987654321\n"
          ]
        }
      ],
      "source": []
    }
  ],
  "metadata": {
    "colab": {
      "provenance": [],
      "include_colab_link": true
    },
    "kernelspec": {
      "display_name": "Python 3",
      "language": "python",
      "name": "python3"
    },
    "language_info": {
      "codemirror_mode": {
        "name": "ipython",
        "version": 3
      },
      "file_extension": ".py",
      "mimetype": "text/x-python",
      "name": "python",
      "nbconvert_exporter": "python",
      "pygments_lexer": "ipython3",
      "version": "3.7.4"
    }
  },
  "nbformat": 4,
  "nbformat_minor": 0
}
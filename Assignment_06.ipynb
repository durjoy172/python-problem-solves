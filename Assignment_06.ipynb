{
  "cells": [
    {
      "cell_type": "markdown",
      "metadata": {
        "id": "view-in-github",
        "colab_type": "text"
      },
      "source": [
        "<a href=\"https://colab.research.google.com/github/durjoy172/python-problem-solves/blob/main/Assignment_06.ipynb\" target=\"_parent\"><img src=\"https://colab.research.google.com/assets/colab-badge.svg\" alt=\"Open In Colab\"/></a>"
      ]
    },
    {
      "cell_type": "markdown",
      "metadata": {
        "id": "tZow-v3MLoLE"
      },
      "source": [
        "### Task 1\n",
        "Given a list named my_list.\n",
        "my_list=[10,20,30,40,60,100,2,5]\n",
        "\n",
        "Write a python program that takes the position as an input from the user and prints the element of that position from the list.\n",
        "\n",
        "If the user’s input position is not in the range, return an exception stating “Index out of range”.\n",
        "\n",
        "Make sure your program always prints “Program ended” at the end, no matter what happens.\n",
        "\n",
        "Hint: Use finally block\n",
        "\n",
        "**Example 1:** \\\n",
        "**Input:**\\\n",
        "1\\\n",
        "**Output:**\\\n",
        "20\\\n",
        "Program ended\n",
        "\n",
        "=============================\n",
        "\n",
        "**Example 2:** \\\n",
        "**Input:**\\\n",
        "10\\\n",
        "**Output:**\\\n",
        "Index out of range.\\\n",
        "Program ended\n"
      ]
    },
    {
      "cell_type": "code",
      "execution_count": null,
      "metadata": {
        "id": "c9yKuS5kLdDO",
        "outputId": "bd06740a-dedd-420b-c4c1-3b39c506be31"
      },
      "outputs": [
        {
          "name": "stdout",
          "output_type": "stream",
          "text": [
            "Enter a number:1\n",
            "20\n",
            "program ended\n"
          ]
        }
      ],
      "source": [
        "#To do\n",
        "try:\n",
        "    my_list=[10,20,30,40,60,100,2,5]\n",
        "    num=int(input('Enter a number:'))\n",
        "    position=my_list[num]\n",
        "    print(position)\n",
        "except Exception:\n",
        "    print('Index out of range.')\n",
        "finally:\n",
        "    print( \"program ended\" )\n"
      ]
    },
    {
      "cell_type": "markdown",
      "metadata": {
        "id": "gD4MMyO_Mtw4"
      },
      "source": [
        "### Task 2\n",
        "\n",
        "Suppose you have a dictionary named my_dictionary containing the name of some groceries and their prices.\\\n",
        "my_dictionary={“Potato”:12, “Onion”:16, “Ginger”:15, “Garlic”:12, “Tomato:”:15}\n",
        "\n",
        "Now write a python program that takes the grocerie names as input from the users and shows the total price of the groceries.\n",
        "\n",
        "Some exceptions to handle:\n",
        "* Handle the exception when the given key is not present in the dictionary.\n",
        "* Handle the exception when the summation variable is not initialized.\n",
        "\n",
        "**Example 1:** \\\n",
        "**Input:**\\\n",
        "Potato,Onion,Ginger\\\n",
        "**Output:**\\\n",
        "43\n",
        "\n",
        "=============================\n",
        "\n",
        "**Example 2:** \\\n",
        "**Input:**\\\n",
        "Potato,Onion,Ginger,Beef\\\n",
        "**Output:**\\\n",
        "Some groceries are not available in the dictionary.\n"
      ]
    },
    {
      "cell_type": "code",
      "execution_count": null,
      "metadata": {
        "id": "15umlUXTNe5N",
        "outputId": "bffd837b-4315-4800-8eea-aeb6d17ab447"
      },
      "outputs": [
        {
          "name": "stdout",
          "output_type": "stream",
          "text": [
            "Enter the name of items with space in between: Potato Onion\n",
            "28\n"
          ]
        }
      ],
      "source": [
        "#To do\n",
        "try:\n",
        "    my_dictionary={'Potato':12, 'Onion':16, 'Ginger':15, 'Garlic':12, 'Tomato':15}\n",
        "    sum1 = 0\n",
        "    order_items = input(\"Enter the name of items with space in between: \").split()\n",
        "    for key, value in my_dictionary.items():\n",
        "        if key in order_items:\n",
        "            my_dictionary[key] = value\n",
        "            sum1+=value\n",
        "\n",
        "    for i in order_items:\n",
        "        if i not in my_dictionary.keys():\n",
        "            raise ValueError\n",
        "    print(sum1)\n",
        "except TypeError:\n",
        "    print('the summation variable is not initialized')\n",
        "except ValueError:\n",
        "    print('Some groceries are not available in the dictionary.')\n"
      ]
    },
    {
      "cell_type": "markdown",
      "metadata": {
        "id": "l5SgF6kTN7vY"
      },
      "source": [
        "### Task 3\n",
        "Write a python program that takes two lists as input from the user, multiplies the index wise elements of the two lists and adds it to a new variable. While doing the program you should handle the following exceptions:\n",
        "* Return an exception when the new variable is not declared stating “The new variable is not declared”.\n",
        "* Return an exception if an element in a list is not a number stating “The list has some non number values”.\n",
        "* Return an exception if there is an index out of bound stating “Index out of bound”.\n",
        "\n",
        "**Example 1:** \\\n",
        "**Input:**\\\n",
        "list_one = [1, a, 2, 4]\\\n",
        "List_two =[5, 6, 7, 8]\\\n",
        "**Output:**\\\n",
        "The list has some non number values\n",
        "\n",
        "=================\n",
        "\n",
        "**Example 2:** \\\n",
        "**Input:**\\\n",
        "list_one=[1, 2, 3, 4, 5]\\\n",
        "list_two=[1, 2, 3, 4]\\\n",
        "**Output:**\\\n",
        "Index out of bound\n",
        "\n",
        "=================\n",
        "\n",
        "**Example 3:** \\\n",
        "**Input:**\\\n",
        "list_one=[1,2,3,4]\\\n",
        "list_two=[5,6,7,8]\\\n",
        "**Output:**\\\n",
        "70\n",
        "\n",
        "\n"
      ]
    },
    {
      "cell_type": "code",
      "execution_count": null,
      "metadata": {
        "id": "oFpEZFRhOlvV",
        "outputId": "f98708c4-1041-4d93-b6ba-22d82473e0c8"
      },
      "outputs": [
        {
          "name": "stdout",
          "output_type": "stream",
          "text": [
            "Enter lenght of list_one:4\n",
            "Enter items : 1\n",
            "Enter items : 2\n",
            "Enter items : 3\n",
            "Enter items : 4\n",
            "Enter lenght of list_two:4\n",
            "Enter items : 1\n",
            "Enter items : 2\n",
            "Enter items : 3\n",
            "Enter items : 4\n",
            "30\n"
          ]
        }
      ],
      "source": [
        "#To do\n",
        "try:\n",
        "    num1 = int(input('Enter lenght of list_one:'))\n",
        "    list_one = []\n",
        "    for i in range(num1):\n",
        "        elements = int(input(\"Enter items : \"))\n",
        "        list_one.append(elements)\n",
        "    num2 = int(input('Enter lenght of list_two:'))\n",
        "    list_two = []\n",
        "    for i in range(num2):\n",
        "        elements = int(input(\"Enter items : \"))\n",
        "        list_two.append(elements)\n",
        "    list_three = []\n",
        "    for i in range(len(list_one)):\n",
        "        list_three.append(list_one[i] * list_two[i])\n",
        "    summation = 0\n",
        "    for i in list_three:\n",
        "        summation += i\n",
        "    if len(list_one)!=len(list_two):\n",
        "        raise IndexError\n",
        "    print(summation)\n",
        "\n",
        "except IndexError:\n",
        "    print('Index out of bound')\n",
        "except ValueError:\n",
        "    print(\"The list has some non number values\")\n",
        "except NameError:\n",
        "    print('The new variable is not declared')"
      ]
    },
    {
      "cell_type": "markdown",
      "metadata": {
        "id": "iBqIUN-WOnvW"
      },
      "source": [
        "### Task 4\n",
        "Write a python program that will take a string input from the user. Your task is to count the number of vowels and consonants in the string.\n",
        "\n",
        "Using try, if the number of vowels is greater than or equal to the number of consonants than raise a runtime error. Print 'Number of vowels greater/equal to consonants. Please, paraphrase'.\\\n",
        "Otherwise, print 'The sentence will work'.\n",
        "\n",
        "**Note:** a,e,i,o,u are called vowels and all the other 21 english alphabets are consonants.\n",
        "\n",
        "**Example 1:** \\\n",
        "**Input:**\\\n",
        "'his age is 10'\\\n",
        "**Output:**\\\n",
        "Number of vowels is greater/equal. Paraphrase the sentence\n",
        "\n",
        "=================\n",
        "\n",
        "**Example 2:** \\\n",
        "**Input:**\\\n",
        "'he is 10 years old'\\\n",
        "**Output:**\\\n",
        "The sentence will work"
      ]
    },
    {
      "cell_type": "code",
      "execution_count": null,
      "metadata": {
        "id": "-4kg2W2EPwVo",
        "outputId": "88b32e09-6304-48cb-c53e-9abfb8f5bb18"
      },
      "outputs": [
        {
          "name": "stdout",
          "output_type": "stream",
          "text": [
            "Enter a sentence:his age is 10\n",
            "Number of vowels greater/equal to consonants. Please, paraphrase\n"
          ]
        }
      ],
      "source": [
        "#To do\n",
        "try:\n",
        "    sentence=input(\"Enter a sentence:\").lower()\n",
        "    vowel=['a','e','i','o','u']\n",
        "    consonant=['b','c','d','f','g','h','j','k','l','m','n','p','q','r','s','t','v','w','x','y','z']\n",
        "    count=0\n",
        "    count1=0\n",
        "    for i in sentence:\n",
        "        if i in vowel:\n",
        "            count+=1\n",
        "    for j in sentence:\n",
        "        if j in consonant:\n",
        "            count1+=1\n",
        "\n",
        "    if count>=count1:\n",
        "        raise RuntimeError\n",
        "    else:\n",
        "        print(\"The sentence will work\")\n",
        "\n",
        "except RuntimeError:\n",
        "    print('Number of vowels greater/equal to consonants. Please, paraphrase')\n",
        ""
      ]
    },
    {
      "cell_type": "markdown",
      "metadata": {
        "id": "pl4CDeUkPxeM"
      },
      "source": [
        "### Task 5\n",
        "Write a python program that finds the corresponding energy values from a list of frequency values which are taken as input from the user, using the formula, $E=h*f$, where h is a constant of value: 1050\n",
        "\n",
        "Exceptions to handle:\n",
        "* Make sure all elements in the lists are numbers\n",
        "\n",
        "\n",
        "**Example 1:** \\\n",
        "**Input:**\\\n",
        "[$2$,$3$]\\\n",
        "**Output:**\\\n",
        "[$2100$, $3150$]\n",
        "\n",
        "=================\n",
        "\n",
        "**Example 2:** \\\n",
        "**Input:**\\\n",
        "[2,boss]\\\n",
        "**Output:**\\\n",
        "Wrong input type"
      ]
    },
    {
      "cell_type": "code",
      "execution_count": null,
      "metadata": {
        "id": "vdYQH9qnQvVo",
        "outputId": "b598d8c6-5891-4f85-9c13-ee395894a818"
      },
      "outputs": [
        {
          "name": "stdout",
          "output_type": "stream",
          "text": [
            "Enter the number of frequency values : 2\n",
            "Enter the values of frequency : boss\n",
            "Wrong input type\n"
          ]
        }
      ],
      "source": [
        "#To do\n",
        "try:\n",
        "    values_f = []\n",
        "    value_h = 1050\n",
        "    num_elements = int(input(\"Enter the number of frequency values : \"))\n",
        "\n",
        "    for i in range(num_elements):\n",
        "        values = int(input(\"Enter the values of frequency : \"))\n",
        "        values_f.append(values)\n",
        "    value_E = []\n",
        "    for f in values_f:\n",
        "        value_E.append(value_h*f)\n",
        "    print(value_E)\n",
        "except ValueError:\n",
        "    print(\"Wrong input type\")\n",
        ""
      ]
    },
    {
      "cell_type": "markdown",
      "metadata": {
        "id": "RdshPzpJRcsD"
      },
      "source": [
        "### Task 6\n",
        "Write a python function that will remove a given character from a sentence based on the starting and ending index of the sentence. In the place of the removed characters, add the count of the number of characters removed so far. For this program, you need to take 4 user inputs.\n",
        "* Sentence\n",
        "* Character to be removed\n",
        "* Starting index (inclusive)\n",
        "* Ending index (inclusive)\n",
        "\n",
        "Few exceptions to catch:\n",
        "* Name Error if a variable is not found. Print ‘Name Error: Variable not defined’\n",
        "* Value Error if the starting index and ending index is not an integer. Print ‘Value Error: Wrong input, please enter an integer value.’\n",
        "* Type Error when adding count in the new sentence. Print ‘Type Error: Cannot add integer value with string.’\n",
        "* Index Error if the starting and ending index is out of range. Print ‘Index Error: Index is outside the range of sentence length.’\n",
        "* For other exceptions, catch Exception. Print ‘Some other error occurred.’\n",
        "\n",
        "If no exception occurred, print the new string using else block. At the end using finally, print ‘The program execution is complete’.\n",
        "\n",
        "**Example 1:** \\\n",
        "**Input:**\\\n",
        "'my python programming book'\\\n",
        "'m'\\\n",
        "2\\\n",
        "20\\\n",
        "**Output:**\\\n",
        "my python progra12ing book\\\n",
        "The program execution is complete\n",
        "\n",
        "=================\n",
        "\n",
        "**Example 2:** \\\n",
        "**Input:**\\\n",
        "'my python programming book'\\\n",
        "'m'\\\n",
        "2.5\\\n",
        "20\\\n",
        "**Output:**\\\n",
        "Value Error: Wrong input, please enter an integer value.\\\n",
        "The program execution is complete\n",
        "\n",
        "=================\n",
        "\n",
        "**Example 3:** \\\n",
        "**Input:**\\\n",
        "'my python programming book'\\\n",
        "'m'\\\n",
        "2\\\n",
        "100\\\n",
        "**Output:**\\\n",
        "Index Error: Index is outside the range of sentence length.\\\n",
        "The program execution is complete\n"
      ]
    },
    {
      "cell_type": "code",
      "execution_count": null,
      "metadata": {
        "id": "bcU6dV5BSl7d",
        "outputId": "371d708b-5e00-4a54-be39-f86fe08a7905"
      },
      "outputs": [
        {
          "name": "stdout",
          "output_type": "stream",
          "text": [
            "Enter a sentence : my python programming book\n",
            "Enter the removable character m\n",
            "Enter the starting index : 2\n",
            "Enter the ending index :20\n",
            "my python progra12ing book\n",
            "The program execution is complete\n"
          ]
        }
      ],
      "source": [
        "#To do\n",
        "try:\n",
        "    sentence = input(\"Enter a sentence : \")\n",
        "    remo_char = input(\"Enter the removable character \")\n",
        "    start_index = int(input(\"Enter the starting index : \"))\n",
        "    end_index = int(input(\"Enter the ending index :\"))\n",
        "    count = 0\n",
        "    if start_index>=len(sentence):\n",
        "        raise IndexError\n",
        "    if end_index>=len(sentence):\n",
        "        raise IndexError\n",
        "    print(sentence[0:start_index], end=\"\")\n",
        "    for i in sentence[start_index:end_index + 1]:\n",
        "        if i == remo_char:\n",
        "            count += 1\n",
        "            print(count, end='')\n",
        "        else:\n",
        "            print(i, end='')\n",
        "    print(sentence[end_index + 1:])\n",
        "except NameError:\n",
        "    print('Name Error: Variable not defined')\n",
        "except ValueError:\n",
        "    print('Value Error: Wrong input, please enter an integer value')\n",
        "except TypeError:\n",
        "    print('Type Error: Cannot add integer value with string.')\n",
        "except IndexError:\n",
        "    print('Index Error: Index is outside the range of sentence length.')\n",
        "except Exception:\n",
        "    print('Some other error occurred.')\n",
        "finally:\n",
        "    print('The program execution is complete')\n"
      ]
    },
    {
      "cell_type": "markdown",
      "metadata": {
        "id": "SjU5ufx8Snv3"
      },
      "source": [
        "### Task 7\n",
        "Read a **file** from the user which contains the  name and salary of employees. Convert that to a dictionary where the key is the name of each employee and value is the salary of that employee. Then find the total cost for the company that it needs to pay through employees’ salary. Print the dictionary and sum if no exception occurs.\n",
        "\n",
        "Exception to handle:\n",
        "* check whether file is actually there\n",
        "* Check whether the salary in each line is a number or not.\n",
        "* Raise error if there are extra numbers or names\n",
        "\n",
        "**Example 1:** \\\n",
        "**Input:**\\\n",
        "Saadat 100\\\n",
        "Farzad 200\\\n",
        "Atef 300\\\n",
        "**Output:**\\\n",
        "dict={Saadat : 100, Farzad : 200, Atef : 300}\\\n",
        "Sum = 600\n",
        "\n",
        "=================\n",
        "\n",
        "**Example 2:** \\\n",
        "**Input:**\\\n",
        "Saadat 100\\\n",
        "Farzad 200\\\n",
        "Atef 300\\\n",
        "John\\\n",
        "**Output:**\\\n",
        "Extra Statement\n"
      ]
    },
    {
      "cell_type": "code",
      "execution_count": null,
      "metadata": {
        "id": "SUxJ1iCXUAPg",
        "outputId": "8a1c1986-010a-42c9-9896-22d061cd046b"
      },
      "outputs": [
        {
          "name": "stdout",
          "output_type": "stream",
          "text": [
            "dict= {'Saadat': 100, 'Farzad': 200, 'Atef': 300}\n",
            "sum= 600\n"
          ]
        }
      ],
      "source": [
        "#To do\n",
        "try:\n",
        "    file = ((open(\"C:\\\\Users\\\\USER\\\\Downloads\\\\cse.txt\", \"r\")).read()).split()\n",
        "    lenght=len(file)\n",
        "    if lenght%2!=0:\n",
        "        raise IndexError\n",
        "    dictionary={}\n",
        "    for i in range(lenght):\n",
        "        if i%2==0:\n",
        "            dictionary[file[i]]=int(file[i+1])\n",
        "    print(\"dict=\",dictionary)\n",
        "    sum=0\n",
        "    for value in dictionary.values():\n",
        "        sum+=int(value)\n",
        "    print(\"sum=\",sum)\n",
        "except FileNotFoundError:\n",
        "    print('File not found')\n",
        "except TypeError:\n",
        "    print(\"There in no valid number\")\n",
        "except IndexError:\n",
        "    print('extra element')\n",
        "\n",
        ""
      ]
    },
    {
      "cell_type": "markdown",
      "metadata": {
        "id": "GC6Y943uUNHY"
      },
      "source": [
        "### Task 8\n",
        "Imagine Salman Khan is going to the sets of a new movie. He decides to cycle everyday on his way to the sets. For that he uses a distance calculator which finds the distance based on the present day's date, which is asked as an input from the user. You should first take the day and then the month as your inputs.\n",
        "The inputs should be stored in variables named `day` and `month` The distance calculator uses the following formulae to calculate a number which dictates the number of kilometers he must cycle on his way to work.\n",
        "\n",
        "Exceptions to handle:\\\n",
        "-Check for 0 division error exception\\\n",
        "-Type error exception when taking date as input\\\n",
        "-Value error exception, as day can not be greater than 31 and month can not be greater than 12\n",
        "\n",
        "\n",
        "\n",
        "\n",
        "\n",
        "\n",
        "\n",
        "\n",
        "\n",
        "\n",
        "\n",
        "\n",
        "\n",
        "\n",
        "Distance = |if day<10, `5+(day*2)/month`\\\n",
        "&nbsp;&nbsp;&nbsp;&nbsp;&nbsp;&nbsp;&nbsp;&nbsp;&nbsp;&nbsp;&nbsp;&nbsp;&nbsp;&nbsp;&nbsp;&nbsp;&nbsp;&nbsp;&nbsp; |else, `3+(day/month)`\n",
        "\n",
        "\n",
        "**Example 1:** \\\n",
        "**Input:**\\\n",
        "3\\\n",
        "5\\\n",
        "**Output:**\\\n",
        "6.2 kilometres\n",
        "\n",
        "=================\n",
        "\n",
        "**Example 2:** \\\n",
        "**Input:**\\\n",
        "2\\\n",
        "0\\\n",
        "**Output:**\\\n",
        "0 is not a valid month\n",
        "\n",
        "**Example 3:** \\\n",
        "**Input:**\\\n",
        "35\\\n",
        "12\\\n",
        "**Output:**\\\n",
        "35 is not a valid day of any month\n",
        "\n",
        "\n",
        "**Example 4:** \\\n",
        "**Input:**\\\n",
        "Hello\\\n",
        "12\\\n",
        "**Output:**\\\n",
        "Please do not enter any string as input\n",
        "\n",
        "\n",
        "**Example 5:** \\\n",
        "**Input:**\\\n",
        "15\\\n",
        "12\\\n",
        "**Output:**\\\n",
        "4.25 kilometres\n",
        "\n",
        "\n",
        "\n",
        "\n"
      ]
    },
    {
      "cell_type": "code",
      "execution_count": null,
      "metadata": {
        "id": "fg9mQUaEWH7a",
        "outputId": "2f823ab1-89a9-485c-a3ad-47030b60e8f1"
      },
      "outputs": [
        {
          "name": "stdout",
          "output_type": "stream",
          "text": [
            "Enter number of days: 15\n",
            "Enter number of month: 12\n",
            "4.25 kilometres\n"
          ]
        }
      ],
      "source": [
        "#To do\n",
        "try:\n",
        "    day=int(input(\"Enter number of days: \"))\n",
        "    month=int(input(\"Enter number of month: \"))\n",
        "    if day>31:\n",
        "        raise Exception\n",
        "    if month>12:\n",
        "        raise RuntimeError\n",
        "    if day<10:\n",
        "        distance=5+(day*2)/month\n",
        "    else:\n",
        "        distance=3+(day/month)\n",
        "    print(distance,'kilometres')\n",
        "except ZeroDivisionError:\n",
        "    print(\"0 is not a valid month\")\n",
        "except ValueError:\n",
        "    print('Please do not enter any string as input')\n",
        "except RuntimeError:\n",
        "    print(month,\"is not a valid month\")\n",
        "except Exception:\n",
        "    print(day,'is not a valid day of any month')"
      ]
    },
    {
      "cell_type": "markdown",
      "metadata": {
        "id": "2Xzq6xJNWvbf"
      },
      "source": [
        "### Task 9\n",
        "Write a python program to make a calculator. The user must input a string consisting of a number, operator and another number separated by white spaces.\n",
        "* If the user’s input does not contain 3 elements, raise an exception error stating “Input does not contain 3 elements/Wrong operator”.\n",
        "* If the user inputs any other values except numbers in first and third position of the input, raise value error exception stating “Input does not contain numbers.”\n",
        "* If the user does not input ‘+’ or ‘-’ or ’/’ or ‘*’ or ‘%’ in second position of the input, again raise an exception stating “Input does not contain 3 elements/Wrong operator”.\n",
        "* In case of division, also handle divide by zero exception.\n",
        "\n",
        "If all the inputs are correct, calculate the result and print the value.\n",
        "\n",
        "**Example 1:** \\\n",
        "**Input:**\\\n",
        "1 + 1 + 1\\\n",
        "**Output:**\\\n",
        "Input does not contain 3 elements/Wrong operator\n",
        "\n",
        "=================\n",
        "\n",
        "**Example 2:** \\\n",
        "**Input:**\\\n",
        "A * B\\\n",
        "**Output:**\\\n",
        "Input does not contain numbers.\n",
        "\n",
        "=================\n",
        "\n",
        "**Example 3:** \\\n",
        "**Input:**\\\n",
        "1 $ 3\\\n",
        "**Output:**\\\n",
        "Input does not contain 3 elements/Wrong operator\n",
        "\n",
        "=================\n",
        "\n",
        "**Example 4:** \\\n",
        "**Input:**\\\n",
        "1 + 1\\\n",
        "**Output:**\\\n",
        "The answer is : 2\n"
      ]
    },
    {
      "cell_type": "code",
      "execution_count": null,
      "metadata": {
        "id": "vX2d7DiVXbhc",
        "outputId": "65290e7c-ce6b-4751-d0ac-aa45f6fcafcf"
      },
      "outputs": [
        {
          "name": "stdout",
          "output_type": "stream",
          "text": [
            "enter every elemnet with a space:1 + 1\n",
            "2\n"
          ]
        }
      ],
      "source": [
        "try:\n",
        "    inpt=input(\"enter every elemnet with a space:\").split()\n",
        "    mark='+','-','*','/','%'\n",
        "\n",
        "    if inpt[1] == '+':\n",
        "        calculate = int(inpt[0]) + int(inpt[2])\n",
        "    if inpt[1] == '-':\n",
        "        calculate = int(inpt[0]) - int(inpt[2])\n",
        "    if inpt[1] == '*':\n",
        "        calculate = int(inpt[0]) * int(inpt[2])\n",
        "    if inpt[1] == '/':\n",
        "        calculate = int(inpt[0]) / int(inpt[2])\n",
        "    if inpt[1] == '%':\n",
        "        calculate = int(inpt[0]) % int(inpt[2])\n",
        "    if len(inpt)>3:\n",
        "        raise NameError\n",
        "    for i in mark:\n",
        "        if inpt[1] not in mark:\n",
        "            raise NameError\n",
        "\n",
        "    print(calculate)\n",
        "except ZeroDivisionError:\n",
        "    print('can not devide by zero')\n",
        "except NameError:\n",
        "    print('Input does not contain 3 elements/Wrong operator')\n",
        "except ValueError:\n",
        "    print('Input does not contain numbers')"
      ]
    },
    {
      "cell_type": "code",
      "execution_count": null,
      "metadata": {
        "id": "Zo2vJeEJpZAm"
      },
      "outputs": [],
      "source": []
    }
  ],
  "metadata": {
    "colab": {
      "provenance": [],
      "include_colab_link": true
    },
    "kernelspec": {
      "display_name": "Python 3",
      "language": "python",
      "name": "python3"
    },
    "language_info": {
      "codemirror_mode": {
        "name": "ipython",
        "version": 3
      },
      "file_extension": ".py",
      "mimetype": "text/x-python",
      "name": "python",
      "nbconvert_exporter": "python",
      "pygments_lexer": "ipython3",
      "version": "3.7.4"
    }
  },
  "nbformat": 4,
  "nbformat_minor": 0
}
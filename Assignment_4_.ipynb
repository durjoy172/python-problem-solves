{
  "cells": [
    {
      "cell_type": "markdown",
      "metadata": {
        "id": "view-in-github",
        "colab_type": "text"
      },
      "source": [
        "<a href=\"https://colab.research.google.com/github/durjoy172/python-problem-solves/blob/main/Assignment_4_.ipynb\" target=\"_parent\"><img src=\"https://colab.research.google.com/assets/colab-badge.svg\" alt=\"Open In Colab\"/></a>"
      ]
    },
    {
      "cell_type": "markdown",
      "metadata": {
        "id": "PD425BrvtDRy"
      },
      "source": [
        "## Part 1: Tuple"
      ]
    },
    {
      "cell_type": "markdown",
      "metadata": {
        "id": "FNOorLYXtDRz"
      },
      "source": [
        "### Task 1\n",
        "\n",
        "Assume, you have been given a tuple.\n",
        "\n",
        "a_tuple = (\"The Institute\",\\\n",
        "        (\"Best Mystery & Thriller\", \"The Silent Patient\", 68821),\\\n",
        "        75717,\\\n",
        "        [1, 2, 3, 400, 5, 6, 7],\\\n",
        "        (\"Best Fiction\", \"The Testaments\", 98291)\\\n",
        ")\n",
        "\n",
        "Write **one line** of Python code to access and print the value 400.\n",
        "\n",
        "Output: 400\n",
        "\n"
      ]
    },
    {
      "cell_type": "code",
      "execution_count": null,
      "metadata": {
        "id": "NDKB1cIMtDR0",
        "outputId": "70bf5e76-70c0-402c-b382-8fe5d87f8207"
      },
      "outputs": [
        {
          "name": "stdout",
          "output_type": "stream",
          "text": [
            "400\n"
          ]
        }
      ],
      "source": [
        "#TODO\n",
        "a_tuple = (\"The Institute\",(\"Best Mystery & Thriller\", \"The Silent Patient\", 68821),75717,[1, 2, 3, 400, 5, 6, 7],(\"Best Fiction\", \"The Testaments\", 98291))\n",
        "print(a_tuple[3][-4])"
      ]
    },
    {
      "cell_type": "markdown",
      "metadata": {
        "id": "BXlIw1svtDR-"
      },
      "source": [
        "### Task 2\n",
        "\n",
        "Assume, you have been given a tuple.\n",
        "\n",
        "a_tuple =  (10, 20, 24, 25, 26, 35, 70)\n",
        "\n",
        "Write a Python program that creates a **new tuple** excluding the first and last two elements of the given tuple and prints the new tuple.\n",
        "\n",
        "Output: (24, 25, 26)\n",
        "\n",
        "*Hint: You need to use tuple slicing.*\n"
      ]
    },
    {
      "cell_type": "code",
      "execution_count": null,
      "metadata": {
        "id": "FTJ-5AmNtDR_",
        "outputId": "d8e9b361-1093-4340-e045-fcd59a7b0d31"
      },
      "outputs": [
        {
          "name": "stdout",
          "output_type": "stream",
          "text": [
            "(24, 25, 26)\n"
          ]
        }
      ],
      "source": [
        "#Todo\n",
        "a_tuple = (10, 20, 24, 25, 26, 35, 70)\n",
        "new_tuple=tuple()\n",
        "element=a_tuple[2:-2]\n",
        "new_tuple+=element\n",
        "print(new_tuple)\n",
        "\n"
      ]
    },
    {
      "cell_type": "markdown",
      "metadata": {
        "id": "Z3GS2TE6tDSG"
      },
      "source": [
        "### Task 3\n",
        "\n",
        "Assume, you have been given a tuple.\n",
        "\n",
        "\n",
        "book_info = (\\\n",
        "    (\"Best Mystery & Thriller\",\"The Silent Patient\",68,821),\\\n",
        "    (\"Best Horror\",\"The Institute\",75,717),\\\n",
        "    (\"Best History & Biography\",\"The five\",31,783 ),\\\n",
        "    (\"Best Fiction\",\"The Testaments\",98,291)\\\n",
        ")\n",
        "\n",
        "Write a Python program that prints its size and all its elements.\n",
        "\n",
        "Output:\\\n",
        "Size of the tuple is: 4\\\n",
        "('Best Mystery & Thriller', 'The Silent Patient', 68, 821)\\\n",
        "('Best Horror', 'The Institute', 75, 717)\\\n",
        "('Best History & Biography', 'The five', 31, 783)\\\n",
        "('Best Fiction', 'The Testaments', 98, 291)\n"
      ]
    },
    {
      "cell_type": "code",
      "execution_count": null,
      "metadata": {
        "id": "RPFYcAjntDSG",
        "outputId": "62ec1c13-eb4d-4605-d907-b8f9f431411a"
      },
      "outputs": [
        {
          "name": "stdout",
          "output_type": "stream",
          "text": [
            "Size of the tuple is: 4\n",
            "('Best Mystery & Thriller', 'The Silent Patient', 68, 821)\n",
            "('Best Horror', 'The Institute', 75, 717)\n",
            "('Best History & Biography', 'The five', 31, 783)\n",
            "('Best Fiction', 'The Testaments', 98, 291)\n"
          ]
        }
      ],
      "source": [
        "#Todo\n",
        "book_info = ((\"Best Mystery & Thriller\",\"The Silent Patient\",68,821),(\"Best Horror\",\"The Institute\",75,717),(\"Best History & Biography\",\"The five\",31,783 ),(\"Best Fiction\",\"The Testaments\",98,291))\n",
        "x=len(book_info)\n",
        "print(\"Size of the tuple is:\",x)\n",
        "for i in book_info:\n",
        "    print(i)\n",
        "\n"
      ]
    },
    {
      "cell_type": "markdown",
      "metadata": {
        "id": "glKgAPlGtDSK"
      },
      "source": [
        "### Task 4\n",
        "\n",
        "Assume, you have been given a tuple.\n",
        "\n",
        "book_info = (\\\n",
        "    (\"Best Mystery & Thriller\",\"The Silent Patient\",68821),\\\n",
        "    (\"Best Horror\",\"The Institute\",75717),\\\n",
        "    (\"Best History & Biography\",\"The five\",31783 ),\\\n",
        "    (\"Best Fiction\",\"The Testaments\",98291)\\\n",
        ")\n",
        "\n",
        "Write a Python program that prints the information about the Good Reads Choice Awards from a tuple. Your program should print the award category, the book name, and its total votes needed for the win.\n",
        "\n",
        "**Output:**\\\n",
        "The Silent Patient won the 'Best Mystery & Thriller' category with 68821 votes\\\n",
        "The Institute won the 'Best Horror' category with 75717 votes\\\n",
        "The five won the 'Best History & Biography' category with 31783 votes\\\n",
        "The Testaments won the 'Best Fiction' category with 98291 votes\n",
        "\n",
        "*Hint: You need to handle the quotation marks as a part of the output.*\n",
        "**<font color='red'>[Must use Tuple unpacking for printing.]</font>**\n",
        "\n",
        "\n"
      ]
    },
    {
      "cell_type": "code",
      "execution_count": null,
      "metadata": {
        "id": "LgTKpSGatDSM",
        "outputId": "492808c3-0239-4a0a-f8fc-e62bc2d7169f"
      },
      "outputs": [
        {
          "name": "stdout",
          "output_type": "stream",
          "text": [
            "The Silent Patient won the 'Best Mystery & Thriller' category with 68821 votes\n",
            "The Institute won the 'Best Horror' category with 75717 votes\n",
            "The five won the 'Best History & Biography' category with 31783 votes\n",
            "The Testaments won the 'Best Fiction' category with 98291 votes\n"
          ]
        }
      ],
      "source": [
        "#Todo\n",
        "book_info = (\n",
        "(\"Best Mystery & Thriller\",\"The Silent Patient\",68821),\n",
        "(\"Best Horror\",\"The Institute\",75717),\n",
        "(\"Best History & Biography\",\"The five\",31783 ),\n",
        "(\"Best Fiction\",\"The Testaments\",98291))\n",
        "for a,b,c in book_info:\n",
        "    print(b,'won the',\"'\"+a+\"'\",'category with',c,'votes')\n"
      ]
    },
    {
      "cell_type": "markdown",
      "metadata": {
        "id": "hoElNRL6tDSR"
      },
      "source": [
        "### Task 5\n",
        "\n",
        "Assume, you have been given a tuple.\n",
        "\n",
        "a_tuple = ( [1, 2, 3], [4, 5, 6], [7, 8, 9], [10, 11, 12])\n",
        "\n",
        "Write a Python program that asks the user for input (can be any data type) and **replaces the last element of each of the inner lists with the user given value.**\n",
        "\n",
        "**Example 1:**\\\n",
        "Input: “abc”\\\n",
        "Output: ([1, 2, 'abc'], [4, 5, 'abc'], [7, 8, 'abc'], [10, 11, 'abc'])\n",
        "\n",
        "**Example 2:**\\\n",
        "Input: 1000\\\n",
        "Output: ([1, 2, '1000'], [4, 5, '1000'], [7, 8, '1000'], [10, 11, '1000'])\n",
        "\n"
      ]
    },
    {
      "cell_type": "code",
      "execution_count": null,
      "metadata": {
        "id": "mC-B1fpStDST",
        "outputId": "23c06832-7bee-49cd-cb12-9e3832230d47"
      },
      "outputs": [
        {
          "name": "stdout",
          "output_type": "stream",
          "text": [
            "Enter an input:1000\n",
            "([1, 2, '1000'], [4, 5, '1000'], [7, 8, '1000'], [10, 11, '1000'])\n"
          ]
        }
      ],
      "source": [
        "#Todo\n",
        "a_tuple = ( [1, 2, 3], [4, 5, 6], [7, 8, 9], [10, 11, 12])\n",
        "n=input(\"Enter an input:\")\n",
        "for i in a_tuple:\n",
        "    i[2]=n\n",
        "print(a_tuple)\n",
        "\n"
      ]
    },
    {
      "cell_type": "markdown",
      "metadata": {
        "id": "km0QurTJtDSX"
      },
      "source": [
        "## Part 2: Dictionary"
      ]
    },
    {
      "cell_type": "markdown",
      "metadata": {
        "id": "QlIVub1VtDSY"
      },
      "source": [
        "### Task 6\n",
        "\n",
        "Suppose there is a dictionary of your shopping list.\n",
        "\n",
        "shopping_list = {'Chocolate': 'Hersheys', 'Cocoa  powder': 'Cadbury', 'Spread': 'Nutella'}\n",
        "\n",
        "Now write a python program to add a new key called 'Baking powder' and assign 'Foster clarks' as its value.\n",
        "\n",
        "**Output:**\\\n",
        "{'Chocolate': 'Hersheys', 'Cocoa  powder': 'Cadbury', 'Spread': 'Nutella', 'Baking powder': 'Foster clarks'}\n"
      ]
    },
    {
      "cell_type": "code",
      "execution_count": null,
      "metadata": {
        "id": "tCLaSZP-tDSZ",
        "outputId": "072c28dd-a07b-46ad-f6a0-c26dcc1796b0"
      },
      "outputs": [
        {
          "name": "stdout",
          "output_type": "stream",
          "text": [
            "{'Chocolate': 'Hersheys', 'Cocoa powder': 'Cadbury', 'Spread': 'Nutella', 'Baking powder': 'Foster clarks'}\n"
          ]
        }
      ],
      "source": [
        "#todo\n",
        "shopping_list = {'Chocolate': 'Hersheys', 'Cocoa powder': 'Cadbury', 'Spread': 'Nutella'}\n",
        "shopping_list['Baking powder']='Foster clarks'\n",
        "print(shopping_list)\n",
        "\n"
      ]
    },
    {
      "cell_type": "markdown",
      "metadata": {
        "id": "kvV-HnCntDSc"
      },
      "source": [
        "### Task 7\n",
        "Suppose you are given the following two dictionaries.\\\n",
        "marks_boys = {'Harry':15, 'Draco':8, 'Nevil':19}\\\n",
        "marks_girls = {'Ginie':18, 'Luna': 14}\n",
        "\n",
        "Now create a new dictionary marks merging the two of the above dictionaries, **so that the original two dictionaries remain unchanged.**\n",
        "\n",
        "**Output:**\\\n",
        "{'Harry': 15, 'Draco': 8, 'Nevil': 19, 'Ginie': 18, 'Luna': 14}\n",
        "\n",
        "*Hint: You can use dictionary functions.*\n"
      ]
    },
    {
      "cell_type": "code",
      "execution_count": null,
      "metadata": {
        "id": "BGSyClBPtDSd",
        "outputId": "cde75f49-520d-48c5-c354-645bb1535988"
      },
      "outputs": [
        {
          "name": "stdout",
          "output_type": "stream",
          "text": [
            "{'Harry': 15, 'Draco': 8, 'Nevil': 19, 'Ginie': 18, 'Luna': 14}\n"
          ]
        }
      ],
      "source": [
        "#todo\n",
        "marks_boys = {'Harry':15, 'Draco':8, 'Nevil':19}\n",
        "marks_girls = {'Ginie':18, 'Luna': 14}\n",
        "combained_marks={}\n",
        "combained_marks.update(marks_boys)\n",
        "combained_marks.update(marks_girls)\n",
        "print(combained_marks)"
      ]
    },
    {
      "cell_type": "markdown",
      "metadata": {
        "id": "QRzP4HYStDSi"
      },
      "source": [
        "### Task 8\n",
        "Write a Python program to find the average of all the values in a dictionary. <font color='red'>[ You are not allowed to use len() and sum()]</font>\n",
        "\n",
        "**Input:**\\\n",
        "salary = {'Jon': 100, 'Dan':200, 'Rob':300}\n",
        "\n",
        "**Output:**\\\n",
        "Average is 200\n",
        "\n",
        "*Hint: You can use dictionary functions to get all the values of the dictionary, then run loop to calculate the sum and the total number of values in the dictionary.*\n"
      ]
    },
    {
      "cell_type": "code",
      "execution_count": null,
      "metadata": {
        "id": "VMRLnA53tDSk",
        "outputId": "84578420-266e-499e-ef5e-64520941512d"
      },
      "outputs": [
        {
          "name": "stdout",
          "output_type": "stream",
          "text": [
            "Average is 200\n"
          ]
        }
      ],
      "source": [
        "#todo\n",
        "salary = {'Jon': 100, 'Dan':200, 'Rob':300}\n",
        "summ=0\n",
        "count=0\n",
        "l1=[]\n",
        "new=salary.values()\n",
        "for values in new:\n",
        "    l1.append(values)\n",
        "for i in l1:\n",
        "    summ+=i\n",
        "    count+=1\n",
        "avg=summ/count\n",
        "print(\"Average is\",int(avg))"
      ]
    },
    {
      "cell_type": "markdown",
      "metadata": {
        "id": "5NS_moXQtDSo"
      },
      "source": [
        "### Task 9\n",
        "Write a Python program that discards **duplicate elements** from the following dictionary.\n",
        "\n",
        "bank = {'customer1':101, 'customer2':102, 'customer3':101, 'customer4':103, 'customer5':102}\n",
        "\n",
        "**Output:**\\\n",
        "{'customer1': 101, 'customer2': 102, 'customer4': 103}\n",
        "\n",
        "*Hint: Think of membership operators (in and not in). You can use dictionary functions to get the values.*\n"
      ]
    },
    {
      "cell_type": "code",
      "execution_count": null,
      "metadata": {
        "id": "LUKwue_ctDSo",
        "outputId": "1e64542c-4c57-489f-9d95-09914d226ead"
      },
      "outputs": [
        {
          "name": "stdout",
          "output_type": "stream",
          "text": [
            "{'customer1': 101, 'customer2': 102, 'customer4': 103}\n"
          ]
        }
      ],
      "source": [
        "#todo\n",
        "bank = {'customer1':101, 'customer2':102, 'customer3':101, 'customer4':103, 'customer5':102}\n",
        "new_dict={}\n",
        "\n",
        "for key,value in bank.items():\n",
        "    if value not in new_dict.values():\n",
        "        new_dict[key]=value\n",
        "\n",
        "print(new_dict)"
      ]
    },
    {
      "cell_type": "markdown",
      "metadata": {
        "id": "IsqFQpqKtDSs"
      },
      "source": [
        "### Task 10\n",
        "Write a Python program that finds the largest value with its key from the following dictionary. <font color='red'>[without using max() function]</font>\n",
        "\n",
        "book_shop = {'sci fi': 12, 'mystery': 15, 'horror': 8, 'mythology': 10, 'young_adult': 4, 'adventure':14}\n",
        "\n",
        "**Output:**\\\n",
        "The highest selling book genre is mystery and the number of books sold are 15\n",
        "\n",
        "*Hint: Think of membership operators (in and not in). You can use dictionary functions to get the values.*\n"
      ]
    },
    {
      "cell_type": "code",
      "execution_count": null,
      "metadata": {
        "id": "v9Kosgs4tDSt",
        "outputId": "65aea275-09ff-4517-e201-a8532af706b4"
      },
      "outputs": [
        {
          "name": "stdout",
          "output_type": "stream",
          "text": [
            "The highest selling book genre is mystery and the number of books sold is 15\n"
          ]
        }
      ],
      "source": [
        "#todo\n",
        "book_shop = {'sci fi': 12,'mystery': 15, 'horror': 8, 'mythology': 10, 'young_adult': 4, 'adventure':14}\n",
        "largest = 0\n",
        "genre = ''\n",
        "\n",
        "for values in book_shop.values():\n",
        "    largest = values\n",
        "for key,value in book_shop.items():\n",
        "    if value>largest:\n",
        "        largest = value\n",
        "        genre = key\n",
        "print(\"The highest selling book genre is\", genre, \"and the number of books sold is\", largest)"
      ]
    },
    {
      "cell_type": "markdown",
      "metadata": {
        "id": "qozufw7itDSy"
      },
      "source": [
        "### Task 11\n",
        "Write a Python program that combines two dictionary adding values for common keys.\n",
        "**Input:**\\\n",
        "dict1 = {'a': 10, 'b':20, 'c':30}\\\n",
        "dict2 = {'a': 10, 'c':20, 'd':30, 'e':40}\n",
        "\n",
        "**Output:**\\\n",
        "{'a': 20, 'b': 20, 'c': 50, 'd': 30, 'e': 40}\n",
        "\n",
        "\n",
        "*Hint: Think of membership operators (in and not in). You can use dictionary functions to get the values. Need to create a new dictionary to store the combined items.*\n"
      ]
    },
    {
      "cell_type": "code",
      "execution_count": null,
      "metadata": {
        "id": "S0EIYODZtDSz",
        "outputId": "b1b2b40f-9b0f-41cb-d3bf-cf2582dfb89b"
      },
      "outputs": [
        {
          "name": "stdout",
          "output_type": "stream",
          "text": [
            "{'a': 20, 'b': 20, 'c': 50, 'd': 30, 'e': 40}\n"
          ]
        }
      ],
      "source": [
        "#todo\n",
        "dict1 = {'a': 10, 'b':20, 'c':30}\n",
        "dict2 = {'a': 10, 'c':20, 'd':30, 'e':40}\n",
        "dict3={}\n",
        "for key in dict2:\n",
        "    if key in dict1:\n",
        "        dict2[key]=dict1[key]+dict2[key]\n",
        "dict3.update(dict1)\n",
        "dict3.update(dict2)\n",
        "print(dict3)"
      ]
    },
    {
      "cell_type": "markdown",
      "metadata": {
        "id": "hAqjgwGNtDS2"
      },
      "source": [
        "### Task 12\n",
        "Write a Python program that takes a string as an input from the user and counts the frequency of each character using the dictionary. For solving this problem, you need to use each character as a key and its frequency as values. <font color='red'>[without using count() function]</font>\n",
        "\n",
        "\n",
        "**Input:**\\\n",
        "\"Python programming is fun\"\n",
        "\n",
        "**Output:**\\\n",
        "{'p': 2, 'y': 1, 't': 1, 'h': 1, 'o': 2, 'n': 3, 'r': 2, 'g': 2, 'a': 1, 'm': 2, 'i': 2, 's': 1, 'f': 1, 'u': 1}\n",
        "\n",
        "*Hint: Need to create a new dictionary to store the frequency. Case is ignored (P and p are considered same).*\n",
        "\n"
      ]
    },
    {
      "cell_type": "code",
      "execution_count": null,
      "metadata": {
        "id": "-m2yPIT7tDS3",
        "outputId": "4e7fbe29-4b3b-4d86-d495-f1de83318a1b"
      },
      "outputs": [
        {
          "name": "stdout",
          "output_type": "stream",
          "text": [
            "Enter a string:Python programming is fun\n",
            "{'p': 2, 'y': 1, 't': 1, 'h': 1, 'o': 2, 'n': 3, 'r': 2, 'g': 2, 'a': 1, 'm': 2, 'i': 2, 's': 1, 'f': 1, 'u': 1}\n"
          ]
        }
      ],
      "source": [
        "#todo\n",
        "str=input(\"Enter a string:\")\n",
        "str1=str.lower()\n",
        "dict1={}\n",
        "for i in str1:\n",
        "    if i!=\" \":\n",
        "        if i in dict1.keys():\n",
        "            dict1[i]+=1\n",
        "        else:\n",
        "            dict1[i]=1\n",
        "\n",
        "print(dict1)"
      ]
    },
    {
      "cell_type": "markdown",
      "metadata": {
        "id": "QWf1zsBctDS6"
      },
      "source": [
        "### Task 13\n",
        "Suppose you are given the following dictionary where its values are lists.\n",
        "\n",
        "\n",
        "dict = {'A': [1,2,3], 'b': ['1', '2'], \"c\": [4, 5, 6, 7]}\n",
        "\n",
        "Write a Python program that counts the total number of items in the dictionary’s values and prints it. <font color='red'>[without using sum() , len(), count() function]</font>\n",
        "\n",
        "**Output:**\\\n",
        "9\n",
        "\n"
      ]
    },
    {
      "cell_type": "code",
      "execution_count": null,
      "metadata": {
        "id": "atnD3A1utDS6",
        "outputId": "f5a3f6cb-f635-4129-8747-3b0031495d61"
      },
      "outputs": [
        {
          "name": "stdout",
          "output_type": "stream",
          "text": [
            "9\n"
          ]
        }
      ],
      "source": [
        "#todo\n",
        "dict = {'A': [1,2,3], 'b': ['1', '2'], \"c\": [4, 5, 6, 7]}\n",
        "l1=[]\n",
        "for values in dict.values():\n",
        "    l1.append(values)\n",
        "l2=l1[0]+l1[1]+l1[2]\n",
        "num=l2.index(l2[-1])+1\n",
        "print(num)"
      ]
    },
    {
      "cell_type": "markdown",
      "metadata": {
        "id": "rCCFcYmPtDS-"
      },
      "source": [
        "### Task 14\n",
        "\n",
        "Write a Python program that takes a number (N) from the user and creates a dictionary with all the numbers starting from 1 to N (including) as keys and its cubes as values. Lastly, prints the dictionary.\n",
        "\n",
        "**Example1:**\n",
        "\n",
        "Input: 5\\\n",
        "Output: {1: 1, 2: 8, 3: 27, 4: 64, 5: 125}\n",
        "\n",
        "**Example2:**\n",
        "\n",
        "Input: 3\\\n",
        "Output: {1: 1, 2: 8, 3: 27}\n"
      ]
    },
    {
      "cell_type": "code",
      "execution_count": null,
      "metadata": {
        "id": "1l3nIxHltDS-",
        "outputId": "0b79b9ce-7d5f-4736-da09-7945dc6a22f0"
      },
      "outputs": [
        {
          "name": "stdout",
          "output_type": "stream",
          "text": [
            "Enter a number:5\n",
            "{1: 1, 2: 8, 3: 27, 4: 64, 5: 125}"
          ]
        }
      ],
      "source": [
        "#todo\n",
        "num=int(input('Enter a number:'))\n",
        "dict1={}\n",
        "for i in range (1,num+1):\n",
        "    dict1[i]=i**3\n",
        "print(dict1,end=\"\")"
      ]
    },
    {
      "cell_type": "markdown",
      "metadata": {
        "id": "-imuPb3EtDTD"
      },
      "source": [
        "### Task 15\n",
        "\n",
        "Suppose you have been given the following list of tuples.\n",
        "\n",
        "list = [(\"a\", 1), (\"b\", 2), (\"a\", 3), (\"b\", 1), (\"a\", 2), (\"c\", 1)]\n",
        "\n",
        "Write a Python program that converts this list of tuples into a dictionary and prints the dictionary. <font color='red'>[You are not allowed to use set]</font>\n",
        "\n",
        "**Output:**\n",
        "\n",
        "{'a': [1, 3, 2], 'b': [2, 1], 'c': [1]}\n",
        "\n",
        "*Hint: Think of membership operators (in and not in).*  \n"
      ]
    },
    {
      "cell_type": "code",
      "execution_count": 1,
      "metadata": {
        "colab": {
          "base_uri": "https://localhost:8080/"
        },
        "id": "bBBcHpgYtDTE",
        "outputId": "30960d2f-11c6-44de-b025-2c1aab9af97b"
      },
      "outputs": [
        {
          "output_type": "stream",
          "name": "stdout",
          "text": [
            "{'a': [1, 3, 2], 'b': [2, 1], 'c': [1]}\n"
          ]
        }
      ],
      "source": [
        "#todo\n",
        "list1 = [(\"a\", 1), (\"b\", 2), (\"a\", 3), (\"b\", 1), (\"a\", 2), (\"c\", 1)]\n",
        "dict1={}\n",
        "for key,value in list1:\n",
        "    if key not in dict1.keys():\n",
        "        lst=[value]\n",
        "        dict1.update({key:lst})\n",
        "    else:\n",
        "        dict1[key].append(value)\n",
        "print(dict1)\n"
      ]
    }
  ],
  "metadata": {
    "colab": {
      "provenance": [],
      "include_colab_link": true
    },
    "kernelspec": {
      "display_name": "Python 3",
      "language": "python",
      "name": "python3"
    },
    "language_info": {
      "codemirror_mode": {
        "name": "ipython",
        "version": 3
      },
      "file_extension": ".py",
      "mimetype": "text/x-python",
      "name": "python",
      "nbconvert_exporter": "python",
      "pygments_lexer": "ipython3",
      "version": "3.7.4"
    }
  },
  "nbformat": 4,
  "nbformat_minor": 0
}
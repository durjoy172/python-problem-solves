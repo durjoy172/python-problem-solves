{
  "cells": [
    {
      "cell_type": "markdown",
      "metadata": {
        "id": "view-in-github",
        "colab_type": "text"
      },
      "source": [
        "<a href=\"https://colab.research.google.com/github/durjoy172/python-problem-solves/blob/main/Assignment%2001.ipynb\" target=\"_parent\"><img src=\"https://colab.research.google.com/assets/colab-badge.svg\" alt=\"Open In Colab\"/></a>"
      ]
    },
    {
      "cell_type": "markdown",
      "metadata": {
        "id": "Ygx48Yo5kVKT"
      },
      "source": [
        "### Task 1\n",
        "\n",
        "Write Python code of a program that reads two numbers from the user, and prints their sum, product, and difference.\n",
        "\n",
        "\n",
        "*hint: Subtract the second number from the first one*\n",
        "\n",
        "For your explanation, the first question's code is done below. Try relating the block of code with the lesson you have learned and understand the significance of each line. You're most welcome to play around with the code. This will strengthen your understanding.\n"
      ]
    },
    {
      "cell_type": "code",
      "execution_count": null,
      "metadata": {
        "id": "z7VTbMPykVKU"
      },
      "outputs": [],
      "source": [
        "# Teke input of 2 numbers\n",
        "var_1 = input('Please Enter Your First Number')\n",
        "var_2 = input('Please Enter Your Second Number')\n",
        "\n",
        "# Since these 2 inputs have a datatype of String, you should change them to integers to perform Mathematical Operations\n",
        "\n",
        "# First, let's clarify whether the inputs are actually Strings or not.\n",
        "\n",
        "print(type(var_1))\n",
        "print(type(var_2))\n",
        "\n",
        "# Convert Strings to integer using int function\n",
        "\n",
        "var_3 = int(var_1)\n",
        "var_4 = int(var_2)\n",
        "\n",
        "# Perform Addition\n",
        "\n",
        "sum = var_3+var_4\n",
        "\n",
        "# Perform Multiplication\n",
        "\n",
        "product = var_3*var_4\n",
        "\n",
        "# Perform Substraction\n",
        "\n",
        "difference = var_4-var_3\n",
        "\n",
        "# Print all of these\n",
        "\n",
        "print(sum)\n",
        "print(product)\n",
        "print(difference)\n"
      ]
    },
    {
      "cell_type": "markdown",
      "metadata": {
        "id": "PN8UmY6skVKV"
      },
      "source": [
        "### Task 2\n",
        "\n",
        "Write Python code of a program that reads the radius of a circle and prints its circumference and area.\n",
        "\n",
        "*hint: import math and then use math.pi for getting the value of pi.\n",
        "For details read from https://docs.python.org/3/library/math.html*\n",
        "\n"
      ]
    },
    {
      "cell_type": "code",
      "execution_count": null,
      "metadata": {
        "id": "9fPOQvG4kVKV",
        "outputId": "35e328c2-439d-4bba-91a5-c1511b9a39c5"
      },
      "outputs": [
        {
          "name": "stdout",
          "output_type": "stream",
          "text": [
            "Enter the radius5\n",
            "the area is 78.54\n",
            "the circumfence is 31.416\n"
          ]
        }
      ],
      "source": [
        "import math\n",
        "\n",
        "'''Start your Code from the Line Below'''\n",
        "pi = 3.1416\n",
        "radius = float(input(\"Enter the radius\"))\n",
        "area = pi*radius*radius\n",
        "cir = 2*pi*radius\n",
        "print(\"the area is\",area)\n",
        "print(\"the circumfence is\", cir)"
      ]
    },
    {
      "cell_type": "markdown",
      "metadata": {
        "id": "v-zA03lgkVKV"
      },
      "source": [
        "### Task 3\n",
        "Write Python code of a program that reads two numbers from the user. Your program should then print “First is greater” if the first number is greater, “Second is greater” if the second number is greater, and “The numbers are equal” otherwise."
      ]
    },
    {
      "cell_type": "code",
      "execution_count": null,
      "metadata": {
        "id": "Zm9eZ4FjkVKW",
        "outputId": "49beb5be-9bc9-4654-8f9d-d6571ec1132a"
      },
      "outputs": [
        {
          "name": "stdout",
          "output_type": "stream",
          "text": [
            "first number1\n",
            "second number2\n",
            "second is greater\n"
          ]
        }
      ],
      "source": [
        "num_1 = int(input(\"first number\"))\n",
        "num_2 = int(input(\"second number\"))\n",
        "if (num_1>num_2):\n",
        "    print(\"First is greater\")\n",
        "elif (num_2>num_1):\n",
        "    print(\"second is greater\")\n",
        "else:\n",
        "    print(\"The numbers are equal\")"
      ]
    },
    {
      "cell_type": "markdown",
      "metadata": {
        "id": "P4aqsQHekVKW"
      },
      "source": [
        "### Task 4\n",
        "\n",
        "Write Python code of a program that reads two numbers, subtracts the smaller number from the larger one, and prints the result.\n",
        "\n",
        "*hint: First check which number is greater*\n"
      ]
    },
    {
      "cell_type": "code",
      "execution_count": null,
      "metadata": {
        "id": "TUovwfQmkVKW",
        "outputId": "074e58d7-647a-4408-9d56-d0fec8ce3671"
      },
      "outputs": [
        {
          "name": "stdout",
          "output_type": "stream",
          "text": [
            "First number3\n",
            "Second number5\n",
            "The larger number is 5\n",
            "The smaller number is 3\n",
            "2\n"
          ]
        }
      ],
      "source": [
        "num_1 = int(input(\"First number\"))\n",
        "num_2 = int(input(\"Second number\"))\n",
        "if (num_1>num_2):\n",
        "    print(\"The larger number is\",num_1)\n",
        "    print(\"The smaller number is\",num_2)\n",
        "    result = num_1-num_2\n",
        "if (num_2>num_1):\n",
        "    print(\"The larger number is\",num_2)\n",
        "    print(\"The smaller number is\",num_1)\n",
        "    result = num_2-num_1\n",
        "else:\n",
        "    print(\"The numbers are equal\")\n",
        "print(result)"
      ]
    },
    {
      "cell_type": "markdown",
      "metadata": {
        "id": "-1-HXVUwkVKX"
      },
      "source": [
        "### Task 5\n",
        "\n",
        "Write Python code of a program that reads a number, and prints “The number is even” or “The number is odd”, depending on whether the number is even or odd.\n",
        "\n",
        "*hint: use the modulus (%) operator*\n"
      ]
    },
    {
      "cell_type": "code",
      "execution_count": null,
      "metadata": {
        "id": "YcHPauuKkVKX",
        "outputId": "991f38ad-f967-424c-cffd-963cdee4e31d"
      },
      "outputs": [
        {
          "name": "stdout",
          "output_type": "stream",
          "text": [
            "Number:8\n",
            "The number is even\n"
          ]
        }
      ],
      "source": [
        "num = int(input(\"Number:\"))\n",
        "if (num%2==0):\n",
        "    print(\"The number is even\")\n",
        "else:\n",
        "    print(\"The number oss odd\")"
      ]
    },
    {
      "cell_type": "markdown",
      "metadata": {
        "id": "3iglXlTRkVKX"
      },
      "source": [
        "### Task 6\n",
        "\n",
        "Write Python code of a program that reads an integer, and prints the integer if it is a multiple of **either 2 or 5.**\n",
        "\n",
        "For example, 2, 4, 5, 6, 8, 10, 12, 14, 15, 16, 18, 20, 22 …\n",
        "\n"
      ]
    },
    {
      "cell_type": "code",
      "execution_count": null,
      "metadata": {
        "id": "YMDdgW2skVKX",
        "outputId": "a8ae6eda-c384-495e-ee3b-dd9713394ea4"
      },
      "outputs": [
        {
          "name": "stdout",
          "output_type": "stream",
          "text": [
            "Number:11\n",
            "Invalid input\n"
          ]
        }
      ],
      "source": [
        "num = int(input(\"Number:\"))\n",
        "if (num%2==0 or num%5==0):\n",
        "    print(num)\n",
        "else:\n",
        "    print(\"Invalid input\")"
      ]
    },
    {
      "cell_type": "markdown",
      "metadata": {
        "id": "ryXZMwi3kVKX"
      },
      "source": [
        "### Task 7\n",
        "Write Python code of a program that reads an integer, and prints the integer  it is a multiple of **either 2 or 5 but not both.**\n",
        "\n",
        "For example, 2, 4, 5, 6, 8, 12, 14, 15, 16, 18, 22 …\n"
      ]
    },
    {
      "cell_type": "code",
      "execution_count": null,
      "metadata": {
        "id": "3f9K60ZMkVKY",
        "outputId": "67d1628d-7bdc-4603-931c-19bd393ad7cc"
      },
      "outputs": [
        {
          "name": "stdout",
          "output_type": "stream",
          "text": [
            "Number:10\n",
            "10\n",
            "Invalid input\n"
          ]
        }
      ],
      "source": [
        "num = int(input(\"Number:\"))\n",
        "if (num%2==0 or num%5==0):\n",
        "    print(num)\n",
        "if (num%2==0 and num%5==0):\n",
        "    print(\"Invalid input\")"
      ]
    },
    {
      "cell_type": "markdown",
      "metadata": {
        "id": "5nS6aH7PkVKY"
      },
      "source": [
        "### Task 8\n",
        "Write Python code of a program that reads an integer, and prints the integer if it is a multiple of **2 and 5.**\n",
        "\n",
        "For example, 10, 20, 30, 40, 50 …\n",
        "\n"
      ]
    },
    {
      "cell_type": "code",
      "execution_count": null,
      "metadata": {
        "id": "1pYxug45kVKY",
        "outputId": "9d40e7c8-05b8-46dd-cf81-0687ed846136"
      },
      "outputs": [
        {
          "name": "stdout",
          "output_type": "stream",
          "text": [
            "Insert Number50\n",
            "50\n"
          ]
        }
      ],
      "source": [
        "num = int(input(\"Insert Number\"))\n",
        "\n",
        "if (num%2==0 and num%5==0):\n",
        "    print(num)\n",
        "else:\n",
        "    print(\"invalid output\")"
      ]
    },
    {
      "cell_type": "markdown",
      "metadata": {
        "id": "IWcj_Iw-kVKY"
      },
      "source": [
        "### Task 9\n",
        "\n",
        "\n",
        "Write Python code of a program that reads an integer, and prints the integer if it is a multiple of **NEITHER 2 NOR 5.**\n",
        "\n",
        "For example, 1, 3, 7, 9, 11, 13, 17, 19, 21, 23, 27, 29, 31, 33, 37, 39 …\n"
      ]
    },
    {
      "cell_type": "code",
      "execution_count": null,
      "metadata": {
        "id": "6yHfuwEmkVKY",
        "outputId": "a33de215-e20d-4e1d-ba92-fcc4cfdac270"
      },
      "outputs": [
        {
          "name": "stdout",
          "output_type": "stream",
          "text": [
            "Number:2\n",
            "Invalid input\n"
          ]
        }
      ],
      "source": [
        "num = int(input(\"Number:\"))\n",
        "if (num%2!=0 and num%5!=0):\n",
        "    print(num)\n",
        "else:\n",
        "    print(\"Invalid input\")"
      ]
    },
    {
      "cell_type": "markdown",
      "metadata": {
        "id": "7TvARCv2kVKY"
      },
      "source": [
        "### Task 10\n",
        "\n",
        "Write Python code of a program that reads an integer, and prints the integer if it is NOT a multiple of **2 OR NOT a multiple of 5.**\n",
        "\n",
        "For example, 1, 2, 3, 4, 5, 6, 7, 8, 9, 11, 12, 13, 14, 15, 16, 17, 18, 19, 21, 22\n"
      ]
    },
    {
      "cell_type": "code",
      "execution_count": null,
      "metadata": {
        "id": "4QmVr_-gkVKY",
        "outputId": "d8178922-db05-4edb-872a-28d15ef06549"
      },
      "outputs": [
        {
          "name": "stdout",
          "output_type": "stream",
          "text": [
            "Number:5\n",
            "Invalid input\n"
          ]
        }
      ],
      "source": [
        "num = int(input(\"Number:\"))\n",
        "if (num%2!=0 and num%5!=0 ):\n",
        "    print(num)\n",
        "else:\n",
        "    print(\"Invalid input\")"
      ]
    },
    {
      "cell_type": "markdown",
      "metadata": {
        "id": "yoxRdblvkVKY"
      },
      "source": [
        "### Task 11\n",
        "\n",
        "Write Python code of a program that reads a student’s mark for a single subject, and prints out the corresponding grade for that mark. The mark ranges and corresponding grades are shown in the table below.\n",
        "\n",
        "*hint: This problem can be solved in two ways: top-down (starts from A) and bottom-up (starts from F)*\n",
        "\n",
        "\n",
        "| Marks | Grage|\n",
        "| --- | --- |\n",
        "|90 or above| A |\n",
        "|  |  |\n",
        "|80-89| B |\n",
        "|  |  |\n",
        "|70-79| C |\n",
        "|  |  |\n",
        "|60-69| D |\n",
        "|  |  |\n",
        "|50-59| E |\n",
        "|  |  |\n",
        "|Below 50| F |\n",
        "\n",
        "\n",
        "\n",
        "\n",
        "\n"
      ]
    },
    {
      "cell_type": "code",
      "execution_count": null,
      "metadata": {
        "id": "HlYFkJPQkVKY",
        "outputId": "03305eab-40d6-4da6-ceb6-152962ac228e"
      },
      "outputs": [
        {
          "name": "stdout",
          "output_type": "stream",
          "text": [
            "Number:98\n",
            "A\n"
          ]
        }
      ],
      "source": [
        "num = int(input(\"Number:\"))\n",
        "if (num>100):\n",
        "    print(\"Invalid input\")\n",
        "elif (num>=90):\n",
        "    print(\"A\")\n",
        "elif (num>=80):\n",
        "    print(\"B\")\n",
        "elif (num>=70):\n",
        "    print(\"C\")\n",
        "elif (num>=60):\n",
        "    print(\"D\")\n",
        "elif (num>=50):\n",
        "    print(\"E\")\n",
        "elif (num>=0):\n",
        "    print(\"F\")\n",
        "else:\n",
        "    print(\"Invalid input\")"
      ]
    },
    {
      "cell_type": "markdown",
      "metadata": {
        "id": "ofsUEY0SkVKZ"
      },
      "source": [
        "### Task 12\n",
        "\n",
        "Write Python code of a program to compute and display a person’s weekly salary as determined by the following conditions:\n",
        "If the hours worked are less than or equal to 40, the person receives Tk200.00 per hour, else the person receives Tk8000.00 plus Tk300.00 for each hour worked over 40 hours.\n",
        "The program should request the hours worked as input and should display the salary as output.\n",
        "\n",
        "**example1:**\\\n",
        "Input: 100\\\n",
        "Output: 26000\n",
        "\n",
        "**example2:**\\\n",
        "Input: 30\\\n",
        "Output: 6000\n"
      ]
    },
    {
      "cell_type": "code",
      "execution_count": null,
      "metadata": {
        "id": "EVIVKwIIkVKZ",
        "outputId": "d85215b7-d9fe-4ded-b590-673f2666aa8f"
      },
      "outputs": [
        {
          "name": "stdout",
          "output_type": "stream",
          "text": [
            "Enter work hours100\n",
            "The salary is Tk: 26000\n"
          ]
        }
      ],
      "source": [
        "hours = int(input(\"Enter work hours\"))\n",
        "if (hours<=40):\n",
        "   salary = hours*200\n",
        "else:\n",
        "    salary = 8000 + (hours-40)*300\n",
        "print(\"The salary is Tk:\",salary)"
      ]
    },
    {
      "cell_type": "markdown",
      "metadata": {
        "id": "2ZvCj6cXkVKZ"
      },
      "source": [
        "### Task 13\n",
        "Write Python code of a program that finds the number of hours, minutes, and seconds in a **given number of seconds.**\n",
        "\n",
        "**Example:**\\\n",
        "Input: 10000 seconds\\\n",
        "Output: 2 Hours 46 minutes, 40 seconds\n",
        "\n",
        "*hints: 1 hour = 60 mins = 3600 seconds*\\\n",
        "*1min = 60 seconds*\n",
        "\n",
        "\n",
        "\n",
        "\n"
      ]
    },
    {
      "cell_type": "code",
      "execution_count": null,
      "metadata": {
        "id": "7f3XwyNXkVKZ",
        "outputId": "05a10608-88a9-4f5f-a0f2-73dcdab46e29"
      },
      "outputs": [
        {
          "name": "stdout",
          "output_type": "stream",
          "text": [
            "Enter time:10000\n",
            "2Hours46.666666666666664minutes40seconds\n"
          ]
        }
      ],
      "source": [
        "time = int(input(\"Enter time:\"))\n",
        "hour = time//3600\n",
        "minutes = (time%3600)/60\n",
        "second = (time%3600)%60\n",
        "print(str(hour) + \"Hours\" + str(minutes) +\"minutes\" + str(second) + \"seconds\")"
      ]
    },
    {
      "cell_type": "markdown",
      "metadata": {
        "id": "-M4DYX8ZkVKZ"
      },
      "source": [
        "### Task 14\n",
        "Suppose the following expressions are used to calculate the values of L for different values of S:\n",
        "\n",
        "$L =  3000-125S^2$\n",
        "if     $S<100$\n",
        "\n",
        "$ c =  \\frac{12000}{4+S^2/14900}$\n",
        "if     $S\\geq100$\n",
        "\n",
        "Write a Python code of a program that reads a value of S and then calculates the value of L.\\\n",
        "\n",
        "For example:\\\n",
        "If S=3, L= 1875.\\\n",
        "If S=120, L= 2416.2162162162163\\\n",
        "\n",
        "\n",
        "*hints: You can import math and use math function for making squares math.pow(number, power)   Or you can simply write S**2.*"
      ]
    },
    {
      "cell_type": "code",
      "execution_count": null,
      "metadata": {
        "id": "pC0blwvWkVKZ",
        "outputId": "062563fd-5379-4e0c-c0fb-99b4ef72225f"
      },
      "outputs": [
        {
          "name": "stdout",
          "output_type": "stream",
          "text": [
            "s:3\n",
            "1875.0\n"
          ]
        }
      ],
      "source": [
        "S = float (input(\"s:\"))\n",
        "if (S<100):\n",
        "    L = 3000 - (125)*S**2\n",
        "    print(L)\n",
        "elif S  >= 100:\n",
        "    c =(12000/4) + ((S**2) / 14900)\n",
        "    print(c)"
      ]
    },
    {
      "cell_type": "markdown",
      "metadata": {
        "id": "gZ-eB5U4kVKZ"
      },
      "source": [
        "### Task 15\n",
        "\n",
        "Take an hour from the user as input and tell it is time for which meal.\n",
        "\n",
        "•\tThe user will input the number in a 24-hour format. So, 14 means 2 pm, 3 means 3 am, 18 means 6 pm, etc.\\\n",
        "•\tValid inputs are 0 to 23. Inputs less than 0 or more than 23 are invalid in 24-hour clock.\\\n",
        "•\tAssume, Input will be whole numbers. For example, 3.5 will NOT be given as input.\n",
        "\n",
        "Inputs: Message to be printed\\\n",
        "4 to 6: Breakfast\\\n",
        "12 to 13: Lunch\\\n",
        "16 to 17: Snacks\\\n",
        "19 to 20: Dinner\\\n",
        "For all other valid inputs, say \"Patience is a virtue\"\\\n",
        "For all other invalid inputs, say \"Wrong time\"\n",
        "\n",
        "For example,\\\n",
        "If the user enters 4, your program should print the message \"Breakfast\".\\\n",
        "If the user enters 5, your program should print the message \"Breakfast\".\\\n",
        "If the user enters 6, your program should print the message \"Breakfast\".\\\n",
        "If the user enters 0, your program should print the message \"Patience is a virtue\".\\\n",
        "If the user enters 1, your program should print the message \"Patience is a virtue\".\\\n",
        "If the user enters 18, your program should print the message \"Patience is a virtue\".\\\n",
        "If the user enters 23, your program should print the message \"Patience is a virtue\".\\\n",
        "If the user enters 24, your program should print the message \"Wrong Time\".\\\n",
        "If the user enters -1, your program should print the message \"Wrong Time\".\\\n",
        "If the user enters 27, your program should print the message \"Wrong time\".\n",
        "\n",
        "Hints:\\\n",
        "You can use nested conditionals (if-else) or chained conditions (if-elif-else) to solve this problem.\n",
        "\n"
      ]
    },
    {
      "cell_type": "code",
      "execution_count": null,
      "metadata": {
        "id": "xebydRsIkVKZ",
        "outputId": "8601937d-ab47-4642-8128-9f10b98f8292"
      },
      "outputs": [
        {
          "name": "stdout",
          "output_type": "stream",
          "text": [
            "Hour: 5\n",
            "Breakfast\n"
          ]
        }
      ],
      "source": [
        "hour = int(input(\"Hour: \"))\n",
        "if (hour<0):\n",
        "    print(\"Wrong time\")\n",
        "elif (hour>=4 and hour<=6):\n",
        "    print(\"Breakfast\")\n",
        "elif (hour>=12 and hour<=13):\n",
        "    print(\"Lunch\")\n",
        "elif (hour>=16  and hour<=17):\n",
        "    print(\"Snacks\")\n",
        "elif (hour>=19 and hour<=20):\n",
        "    print(\"Dinner\")\n",
        "else:\n",
        "    print(\"Patience is a virtue\")"
      ]
    },
    {
      "cell_type": "code",
      "execution_count": null,
      "metadata": {
        "id": "no5qyn-rkVKZ",
        "outputId": "26f09dfb-f9de-44bc-9d0e-6b083591e2ee"
      },
      "outputs": [
        {
          "name": "stdout",
          "output_type": "stream",
          "text": [
            "5\n",
            "[1]\n",
            "[1, 2, 1]\n",
            "[1, 2, 3, 2, 1]\n",
            "[1, 2, 3, 4, 3, 2, 1]\n",
            "[1, 2, 3, 4, 5, 4, 3, 2, 1]\n"
          ]
        }
      ],
      "source": [
        "N = int(input())\n",
        "arr = []\n",
        "for i in range(1,N+1):\n",
        "    arr.append(i)\n",
        "    print(arr+arr[-2: :-1])"
      ]
    },
    {
      "cell_type": "code",
      "execution_count": null,
      "metadata": {
        "id": "E47_uCZykVKZ"
      },
      "outputs": [],
      "source": []
    }
  ],
  "metadata": {
    "kernelspec": {
      "display_name": "Python 3",
      "language": "python",
      "name": "python3"
    },
    "language_info": {
      "codemirror_mode": {
        "name": "ipython",
        "version": 3
      },
      "file_extension": ".py",
      "mimetype": "text/x-python",
      "name": "python",
      "nbconvert_exporter": "python",
      "pygments_lexer": "ipython3",
      "version": "3.7.4"
    },
    "colab": {
      "provenance": [],
      "include_colab_link": true
    }
  },
  "nbformat": 4,
  "nbformat_minor": 0
}
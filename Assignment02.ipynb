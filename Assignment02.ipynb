{
  "cells": [
    {
      "cell_type": "markdown",
      "metadata": {
        "id": "view-in-github",
        "colab_type": "text"
      },
      "source": [
        "<a href=\"https://colab.research.google.com/github/durjoy172/python-problem-solves/blob/main/Assignment02.ipynb\" target=\"_parent\"><img src=\"https://colab.research.google.com/assets/colab-badge.svg\" alt=\"Open In Colab\"/></a>"
      ]
    },
    {
      "cell_type": "markdown",
      "metadata": {
        "id": "Et_l3KIHmuiI"
      },
      "source": [
        "### Task 1\n",
        "\n",
        "Write python program, which prints the following sequences of values in loops:\n",
        "\n",
        "a)\t24, 18, 12, 6, 0, -6\\\n",
        "b)\t-10, -5, 0, 5, 10, 15, 20\\\n",
        "c)\t18, 27, 36, 45, 54, 63\\\n",
        "d)\t18,-27, 36,-45,54,-63\n",
        "\n",
        "**Hints(1):** Use a while loop for solving these problems.\n",
        "\n",
        "**Hints(2):** We are already familiar with the print() function. But when we use it to print any value it automatically adds an additional newline after each print statement.\n",
        "\n",
        "For example:\\\n",
        "print(1)\\\n",
        "print(2)\n",
        "\n",
        "Output:\\\n",
        "1\\\n",
        "2\n",
        "\n",
        "=====================================================================\n",
        "\n",
        "To solve this problem, in Python3, we need to add an extra argument (end = \" \") in the print function which tells the program to skip printing the additional newline.\n",
        "\n",
        "For example:\\\n",
        "print(1, end =\" \")\\\n",
        "print(2)\n",
        "\n",
        "Output:(prints the next output right to the previous one)\\\n",
        "12\n",
        "\n",
        "=====================================================================\n",
        "\n",
        "In Task-1(a), the loop counter should be initialized at 24 and the loop should terminate when the loop counter reaches -6. The difference between the first two values is 24-18=6. So the loop counter value is getting decremented by 6 in every iteration.\n",
        "\n",
        "For your understanding task 1(a) code is done for you.\n"
      ]
    },
    {
      "cell_type": "code",
      "execution_count": null,
      "metadata": {
        "id": "1CC9RQsHmuiJ",
        "outputId": "cf0d7e19-834c-4d4f-8ccb-174f4ae28205"
      },
      "outputs": [
        {
          "name": "stdout",
          "output_type": "stream",
          "text": [
            "24, 18, 12, 6, 0, -6"
          ]
        }
      ],
      "source": [
        "# a) 24, 18, 12, 6, 0, -6\n",
        "\n",
        "# initialize loop counter\n",
        "counter = 24\n",
        "\n",
        "# loop structure\n",
        "while counter >= -6:\n",
        "\n",
        "    #inside loop body\n",
        "    if counter == -6:\n",
        "        print(counter, end = \"\")\n",
        "    else:\n",
        "        print(counter, end = \", \")\n",
        "\n",
        "    counter = counter - 6 #updating loop counter\n",
        "    #inside loop body\n",
        "\n",
        "#outside loop body"
      ]
    },
    {
      "cell_type": "code",
      "execution_count": null,
      "metadata": {
        "id": "o8Ts3l1UmuiJ",
        "outputId": "3eed30a5-3043-4ea4-96fd-e0d94783fde3"
      },
      "outputs": [
        {
          "name": "stdout",
          "output_type": "stream",
          "text": [
            "-10,-5,0,5,10,15,20"
          ]
        }
      ],
      "source": [
        "# b)-10, -5, 0, 5, 10, 15, 20\n",
        "number = -10\n",
        "\n",
        "while number <= 20:\n",
        "\n",
        "    if number == 20:\n",
        "        print(number,end=\"\")\n",
        "    else:\n",
        "        print(number,end=\",\")\n",
        "\n",
        "    number+= 5\n",
        "\n"
      ]
    },
    {
      "cell_type": "code",
      "execution_count": null,
      "metadata": {
        "id": "jbsGb0GlmuiK",
        "outputId": "ca8f6178-3e1f-48f9-d86a-fa3ea07c2aeb"
      },
      "outputs": [
        {
          "name": "stdout",
          "output_type": "stream",
          "text": [
            "18,27,36,45,54,63"
          ]
        }
      ],
      "source": [
        "# c)18, 27, 36, 45, 54, 63\n",
        "number = 18\n",
        "\n",
        "while number <= 63:\n",
        "\n",
        "    if number == 63:\n",
        "        print(number,end=\"\")\n",
        "    else:\n",
        "        print(number,end=\",\")\n",
        "\n",
        "    number= number + 9\n",
        ""
      ]
    },
    {
      "cell_type": "markdown",
      "metadata": {
        "id": "Vyg_M84gmuiK"
      },
      "source": [
        "**Hints for 1(d):**\n",
        "\n",
        "print(5 * (-1)) gives output -5\\\n",
        "print(\"-\" + str(5)) gives output -5"
      ]
    },
    {
      "cell_type": "code",
      "execution_count": null,
      "metadata": {
        "id": "eoWRRrj4muiK",
        "outputId": "2949a38f-b047-4cd6-a808-e2fe2328c3e8"
      },
      "outputs": [
        {
          "name": "stdout",
          "output_type": "stream",
          "text": [
            "18,-27,36,-45,54,-63"
          ]
        }
      ],
      "source": [
        "# d)18,-27, 36,-45,54,-63\n",
        "num = 18\n",
        "\n",
        "# loop structure\n",
        "while num <= 63:\n",
        "    if num == 63:\n",
        "        if num % 2==0:\n",
        "            print(num,end=\"\")\n",
        "        else:\n",
        "            print(num*(-1),end=(\"\"))\n",
        "    else:\n",
        "        if num % 2==0:\n",
        "            print(num,end=\",\")\n",
        "        else:\n",
        "            print(num*(-1),end=(\",\"))\n",
        "    num+= 9\n",
        "\n",
        "\n",
        "\n",
        ""
      ]
    },
    {
      "cell_type": "markdown",
      "metadata": {
        "id": "XpDQX2cTmuiK"
      },
      "source": [
        "====================================================================\\\n",
        "<font color='blue'>\n",
        "All the tasks can be solved using both the \"while loop\" and the \"for loop\". But you need to choose the best looping construct which is the most suitable for solving a particular task.\n",
        "</font>\n",
        "\n",
        "===================================================================="
      ]
    },
    {
      "cell_type": "markdown",
      "metadata": {
        "id": "1a5jNIkFmuiL"
      },
      "source": [
        "### Task 2\n",
        "Write a Python code for the following:\n",
        "\n",
        "1)\tAsk the user to enter the name of his favorite car.\\\n",
        "2)\tAsk the user to enter a Number\n",
        "\n",
        "Display the name of the user’s favorite car, the number of times specified in the second step.\n",
        "\n",
        "**Example:** If the user enters “Toyota” and 20, your program should print the name “Toyota” twenty times.\n",
        "\n",
        "**Example:** If the user enters “Veyron” and 5, your program should print the name “Veyron” five times.\n",
        "\n",
        "**Input:**\\\n",
        "Veyron, 5\n",
        "\n",
        "**Output:**\\\n",
        "Veyron\\\n",
        "Veyron\\\n",
        "Veyron\\\n",
        "Veyron\\\n",
        "Veyron\n"
      ]
    },
    {
      "cell_type": "code",
      "execution_count": null,
      "metadata": {
        "id": "UCusabKfmuiL",
        "outputId": "8a650cce-3edd-44dc-a538-287e7482f6f9"
      },
      "outputs": [
        {
          "name": "stdout",
          "output_type": "stream",
          "text": [
            "Enter car name:veyron\n",
            "Enter number:5\n",
            "veyron\n",
            "veyron\n",
            "veyron\n",
            "veyron\n",
            "veyron\n"
          ]
        }
      ],
      "source": [
        "#Todo\n",
        "car = input('Enter car name:')\n",
        "count = int(input('Enter number:'))\n",
        "for i in range(count):\n",
        "    print(car)\n"
      ]
    },
    {
      "cell_type": "markdown",
      "metadata": {
        "id": "lXppWRg3muiL"
      },
      "source": [
        "### Task 3\n",
        "Write a Python code of a program that adds all numbers that are multiples of **both 7 and 9** up to 600 (including 600).\n",
        "\n",
        "Output: 2835\n"
      ]
    },
    {
      "cell_type": "code",
      "execution_count": null,
      "metadata": {
        "id": "xwi2IEexmuiL",
        "outputId": "31e3722d-0e42-4358-e70d-a17647c785c5"
      },
      "outputs": [
        {
          "name": "stdout",
          "output_type": "stream",
          "text": [
            "2835\n"
          ]
        }
      ],
      "source": [
        "#Todo\n",
        "sum=0\n",
        "for x in range(1,601):\n",
        "    if x%7==0 and x%9==0:\n",
        "        sum+=x\n",
        "print (sum)\n"
      ]
    },
    {
      "cell_type": "markdown",
      "metadata": {
        "id": "kDYbcQxymuiL"
      },
      "source": [
        "### Task 4\n",
        "Write a Python code of a program that adds all numbers that are multiples of **either 7 or 9** up to 600(including 600). \\\n",
        "Ensure that numbers like 63 are added only once in the sum.\n",
        "\n",
        "Output: 42649\n"
      ]
    },
    {
      "cell_type": "code",
      "execution_count": null,
      "metadata": {
        "id": "bxkQl1q3muiM",
        "outputId": "3779a84d-2ae6-46b9-d232-48a4de1df91a"
      },
      "outputs": [
        {
          "name": "stdout",
          "output_type": "stream",
          "text": [
            "42649\n"
          ]
        }
      ],
      "source": [
        "\n",
        "sum=0\n",
        "for x in range(1,601):\n",
        "     if x%7==0 or x%9==0:\n",
        "        sum=sum+x\n",
        "print(sum)\n",
        "\n"
      ]
    },
    {
      "cell_type": "markdown",
      "metadata": {
        "id": "T3mLVicdmuiM"
      },
      "source": [
        "### Task 5\n",
        "Write a Python code of a program that adds all numbers that are multiples of **either 7 or 9 but not both**, up to 600(including 600).\n",
        "\n",
        "Output: 39814\n"
      ]
    },
    {
      "cell_type": "code",
      "execution_count": null,
      "metadata": {
        "id": "kAkmeMmamuiM",
        "outputId": "7fd19f9a-08ef-49d5-becd-0d048385215c"
      },
      "outputs": [
        {
          "name": "stdout",
          "output_type": "stream",
          "text": [
            "39814\n"
          ]
        }
      ],
      "source": [
        "\n",
        "sum=0\n",
        "for x in range(1,601):\n",
        "    if(x%7==0 or x%9==0) and (x %7!=0 or x%9!=0):\n",
        "        sum=sum+x\n",
        "print(sum)"
      ]
    },
    {
      "cell_type": "markdown",
      "metadata": {
        "id": "qvB0BQoDmuiM"
      },
      "source": [
        "### Task 6\n",
        "Write a Python code to displays all the **odd numbers** between 10 and 50.\n",
        "\n",
        "Output: 11 13 15 17 19 21 23 25 27 29 31 33 35 37 39 41 43 45 47 49\n"
      ]
    },
    {
      "cell_type": "code",
      "execution_count": null,
      "metadata": {
        "id": "aj0S9pTxmuiM",
        "outputId": "246c3d6f-358e-4ae5-cdf6-9dc65b0c5eeb"
      },
      "outputs": [
        {
          "name": "stdout",
          "output_type": "stream",
          "text": [
            "11 13 15 17 19 21 23 25 27 29 31 33 35 37 39 41 43 45 47 49 "
          ]
        }
      ],
      "source": [
        "#Todo\n",
        "for i in range(11,50,2):\n",
        "    print(i,end=(\" \"))\n"
      ]
    },
    {
      "cell_type": "markdown",
      "metadata": {
        "id": "LDhCXU5UmuiM"
      },
      "source": [
        "### Task 7\n",
        "Write a Python code that will calculate the **value of y if the expression** of y is as follows (n is the input):  \n",
        "\n",
        "$y = 1^2 - 2^2 +3^2 -4^2 +5^2 .........+ n^2 $\n",
        "\n",
        "**Example:**\n",
        "\n",
        "If the user enters 10, y= -55 \\\n",
        "If the user enters 20, y= -210\n"
      ]
    },
    {
      "cell_type": "code",
      "execution_count": null,
      "metadata": {
        "id": "eQs-dAF0muiM",
        "outputId": "de737b6f-b381-4c30-a23b-e8120376c155"
      },
      "outputs": [
        {
          "name": "stdout",
          "output_type": "stream",
          "text": [
            "Enter an input:10\n",
            "y = -55\n"
          ]
        }
      ],
      "source": [
        "#Todo\n",
        "\n",
        "sum = 0\n",
        "num = int(input(\"Enter an input:\"))\n",
        "for x in range(1,num+1):\n",
        "    if(x % 2 == 0):\n",
        "        sum += x**2*(-1)\n",
        "\n",
        "    else:\n",
        "        sum += x**2\n",
        "\n",
        "print(\"y =\", sum)\n",
        "\n",
        "\n",
        ""
      ]
    },
    {
      "cell_type": "markdown",
      "metadata": {
        "id": "yg9CbohZmuiM"
      },
      "source": [
        "### Task 8\n",
        "Write a Python code of a program that asks the user to enter ten numbers then display the total and the average of **ONLY** the **odd numbers** among those ten numbers.\n",
        "\n",
        "**Example(1):**\n",
        "\n",
        "Input: 1 2 3 4 5 6 7 8 9 10 \\\n",
        "Output: Total is 25 and Average is 5.0\\\n",
        "(i.e., Total is 25 = (1+3+5+7+9) and Average is 25/5 = 5.0)]\n",
        "\n",
        "\n",
        "**Example(2):**\n",
        "\n",
        "Input: -20  3  -5  40  -17  9  20  -8   99  -200 \\\n",
        "Output: Total is 89 and Average is 17.8 \\\n",
        "(i.e., Total is 89 =(3+(-5)+(-17)+9+99) and Average is 89/5 = 17.8)]\n",
        "\n",
        "\n"
      ]
    },
    {
      "cell_type": "code",
      "execution_count": null,
      "metadata": {
        "id": "fiYnwe6imuiM",
        "outputId": "6dca79b0-2ed6-4cfa-8bcd-4b467470bf69"
      },
      "outputs": [
        {
          "name": "stdout",
          "output_type": "stream",
          "text": [
            "enter a number:1\n",
            "enter a number:2\n",
            "enter a number:3\n",
            "enter a number:4\n",
            "enter a number:5\n",
            "enter a number:6\n",
            "enter a number:7\n",
            "enter a number:8\n",
            "enter a number:9\n",
            "enter a number:10\n",
            "Total is 25.0 and Average is 5.0\n"
          ]
        }
      ],
      "source": [
        "sum = 0.0\n",
        "count=0\n",
        "for num in range(10):\n",
        "\n",
        "    num = float(input(\"enter a number:\"))\n",
        "    if num % 2 != 0:\n",
        "\n",
        "        sum += num\n",
        "        count+=1\n",
        "\n",
        "\n",
        "print(\"Total is\",sum, \"and\" ,\"Average is\",sum/count)\n"
      ]
    },
    {
      "cell_type": "markdown",
      "metadata": {
        "id": "u1wOJQA2muiM"
      },
      "source": [
        "### Task 9\n",
        "Write a Python code for the following:\n",
        "* Ask the user to enter a Number, N\n",
        "* Display the summation of multiples of 7 up to that number (**from 1 to N inclusive**)\n",
        "\n",
        "**Example(1):** If the user **enters 50**, your program should print 196. \\\n",
        "(Because: 7 + 14 + 21 + 28 + 35 + 42 + 49 = 196).\n",
        "\n",
        "**Example(2):** If the user **enters 75**, your program should print 385. \\\n",
        "(Because: 7 + 14 + 21 + 28 + 35 + 42 + 49 + 56 + 63 + 70 = 385).\n",
        "\n"
      ]
    },
    {
      "cell_type": "code",
      "execution_count": null,
      "metadata": {
        "id": "8x4ch-jomuiM",
        "outputId": "34c3167f-06dc-4df0-8ae3-71636f12327e"
      },
      "outputs": [
        {
          "name": "stdout",
          "output_type": "stream",
          "text": [
            "enter a number:50\n",
            "196\n"
          ]
        }
      ],
      "source": [
        "#Todo\n",
        "n= int(input(\"enter a number:\"))\n",
        "sum=0\n",
        "for x in range(1,n+1):\n",
        "    if (x % 7 ==0):\n",
        "        sum=sum+x\n",
        "print(sum)"
      ]
    },
    {
      "cell_type": "markdown",
      "metadata": {
        "id": "903gk91lmuiN"
      },
      "source": [
        "### Task 10\n",
        "Write a Python code that will read 10 numbers from the user, and then print the first number, the sum of the first 2 numbers, the sum of the first 3 numbers, and so on up to the sum of 10 numbers.\n",
        "\n",
        "For example,\n",
        "\n",
        "The user enters 10, output 10, then \\\n",
        "The user enters 2, (10+2) = 12, output 12, then \\\n",
        "The user enters 4, (10+2+4) = 16, output 16, then \\\n",
        "The user enters 20, (10+2+4+20) = 36, output 36, and continuous till the 10$^{th}$ input\n"
      ]
    },
    {
      "cell_type": "code",
      "execution_count": null,
      "metadata": {
        "id": "OmlIUgAKmuiN",
        "outputId": "08fa0f0d-eef0-48d5-eab2-1ec6909c5c95"
      },
      "outputs": [
        {
          "name": "stdout",
          "output_type": "stream",
          "text": [
            "Enter a value:10\n",
            "10\n",
            "Enter a value:2\n",
            "12\n",
            "Enter a value:4\n",
            "16\n",
            "Enter a value:20\n",
            "36\n",
            "Enter a value:30\n",
            "66\n",
            "Enter a value:40\n",
            "106\n",
            "Enter a value:50\n",
            "156\n",
            "Enter a value:60\n",
            "216\n",
            "Enter a value:40\n",
            "256\n",
            "Enter a value:70\n",
            "326\n"
          ]
        }
      ],
      "source": [
        "#Todo\n",
        "\n",
        "number=0\n",
        "for x in range(10):\n",
        "    num=int(input(\"Enter a value:\"))\n",
        "    number+=num\n",
        "    print(number)\n"
      ]
    },
    {
      "cell_type": "markdown",
      "metadata": {
        "id": "9ngcRmAPmuiN"
      },
      "source": [
        "### Task 11\n",
        "Write a Python program which takes a number and prints the digits from the unit place, then the tenth, then hundredth, etc. <font color='red'>(Right to Left)</font>\n",
        "\n",
        "**Example:** If the user gives 32768, then print 8, 6, 7, 2, 3\n",
        "\n",
        "**Hint:** First to get the digit from the right side, take the remainder of the number using modulus (%) operator and print the digit. For dropping the last digit, perform floor division by 10 on the number. Then start over.\n",
        "\n",
        "32,768 % 10 = 8\n",
        "\n",
        "32,768 // 10 = 3, 276\n",
        "\n",
        "3, 276 % 10 = 6\n",
        "\n",
        "3, 276 // 10 = 327\n",
        "\n",
        "327 % 10 = 7\n",
        "\n",
        "327 // 10 = 32\n",
        "\n",
        "32 % 10 = 2\n",
        "\n",
        "32 //10 = 3\n",
        "\n",
        "3 % 10 = 3\n",
        "\n",
        "3 // 10 = 0\n",
        "\n",
        "Done! When the number becomes 0 your loop should end.\n"
      ]
    },
    {
      "cell_type": "code",
      "execution_count": null,
      "metadata": {
        "id": "2M6MND16muiN",
        "outputId": "34185cc2-4cc8-4803-f548-77fa63e57b1f"
      },
      "outputs": [
        {
          "name": "stdout",
          "output_type": "stream",
          "text": [
            "Enter a number:32768\n",
            "8,6,7,2,3"
          ]
        }
      ],
      "source": [
        "#Todo\n",
        "import math\n",
        "number=int(input(\"Enter a number:\"))\n",
        "num=0\n",
        "\n",
        "# loop structure\n",
        "while (number>0):\n",
        "    num=number%10\n",
        "    number=math.floor(number//10)\n",
        "    if number==0:\n",
        "        print(num,end=(\"\"))\n",
        "    else:\n",
        "        print(num,end=(\",\"))\n"
      ]
    },
    {
      "cell_type": "markdown",
      "metadata": {
        "id": "wjqp23hSmuiN"
      },
      "source": [
        "### Task 12\n",
        "\n",
        "Write a Python program that takes a number and tells how many digits are in that number.\n",
        "\n",
        "**Example:** If the user gives 9876, you should print 4.\n",
        "\n",
        "\n",
        "\n",
        "**Hint:** Keep floor dividing by ten and count how many times this could be divided.\n",
        "\n",
        "9876 floor divide by 10, is 987, count that got 1 digit (total 1) \\\n",
        "987 floor divide by 10, is 98, count that got 1 digit (total 2) \\\n",
        "98 floor divide by 10, is 9, count that got 1 digit (total 3) \\\n",
        "9 floor divide by 10, is 0, count that got 1 digit (total 4)\n",
        "\n",
        "Done! (When the number becomes 0 your loop should end.)\n",
        "\n"
      ]
    },
    {
      "cell_type": "code",
      "execution_count": null,
      "metadata": {
        "id": "gzzw5E2smuiN",
        "outputId": "ae4ddc4b-6372-4d3a-a338-eec8d580578b"
      },
      "outputs": [
        {
          "name": "stdout",
          "output_type": "stream",
          "text": [
            "Enter a number:9876\n",
            "Number of digits: 4\n"
          ]
        }
      ],
      "source": [
        "#Todo\n",
        "n=int(input(\"Enter a number:\"))\n",
        "count=0\n",
        "while n>0:\n",
        "    n=n//10\n",
        "    count+=1\n",
        "print(\"Number of digits:\",count)\n",
        ""
      ]
    },
    {
      "cell_type": "markdown",
      "metadata": {
        "id": "2huxCVlGmuiN"
      },
      "source": [
        "### Task 13\n",
        "Write a Python code of a program that takes a number and prints the value of 10 to the power that number. <font color='red'>You need to use a loop because math function power is not allowed in this task.</font>\n",
        "\n",
        "For example: if the user gives 3, print 1000.\n",
        "\n",
        "**Hint:** Keep multiplying 1 by 10, again and again. \\\n",
        "You need to write, \\\n",
        "$product = product x 10$\n",
        "\n",
        "$1 x 10 = 10 $ \\\n",
        "$10 x 10 = 100$ \\\n",
        "$100 x 10 = 1000$\n"
      ]
    },
    {
      "cell_type": "code",
      "execution_count": null,
      "metadata": {
        "id": "D_9MkAxZmuiN",
        "outputId": "bd78f00b-89f7-47df-8177-4eebce271e6b"
      },
      "outputs": [
        {
          "name": "stdout",
          "output_type": "stream",
          "text": [
            "Enter a number:3\n",
            "1000\n"
          ]
        }
      ],
      "source": [
        "num=int(input(\"Enter a number:\"))\n",
        "product=1\n",
        "i=1\n",
        "# loop structure\n",
        "while i<=num:\n",
        "    product*=10\n",
        "    i=i+1\n",
        "print(product)\n"
      ]
    },
    {
      "cell_type": "markdown",
      "metadata": {
        "id": "ogYxQg9ymuiN"
      },
      "source": [
        "### Task 14\n",
        "\n",
        "Write a Python program that takes a number from the user and prints the divisors of that number and then print how many divisors were there.\n",
        "\n",
        "**Example1:**\n",
        "\n",
        "Input: 6 \\\n",
        "Output: \\\n",
        "1, 2, 3, 6 \\\n",
        "“Total 4 divisors”.\n",
        "\n",
        "\n",
        "**Example2:**\n",
        "\n",
        "Input: 121 \\\n",
        "Output: \\\n",
        "1, 11, 121\n",
        "\n",
        "“Total 3 divisors”.\n",
        "\n"
      ]
    },
    {
      "cell_type": "code",
      "execution_count": null,
      "metadata": {
        "id": "GhQCSUtUmuiN",
        "outputId": "4d8a7504-7d75-4d4d-92ba-adc6d9127787"
      },
      "outputs": [
        {
          "name": "stdout",
          "output_type": "stream",
          "text": [
            "Enter a number:121\n",
            "1,11,121\n",
            "Total 3 divisors\n"
          ]
        }
      ],
      "source": [
        "n=int(input(\"Enter a number:\"))\n",
        "\n",
        "count=0\n",
        "\n",
        "# loop structure\n",
        "for x in range(1,n+1):\n",
        "    if (n % x ==0):\n",
        "        count+=1\n",
        "        if x==n:\n",
        "            print(x,end=(\"\"))\n",
        "        else:\n",
        "            print(x,end=(\",\"))\n",
        "\n",
        "\n",
        "print(\"\\nTotal \"+str(count)+ \" divisors\")\n"
      ]
    },
    {
      "cell_type": "markdown",
      "metadata": {
        "id": "9pdahWWomuiN"
      },
      "source": [
        "### Task 15\n",
        "Write a Python program that takes a number and tells if it is a perfect number or not.\n",
        "\n",
        "**Perfect Number:** An integer number is said to be a perfect number if its factors, including 1 but not the number itself, sum to the number.\n",
        "\n",
        "**Example1:**\n",
        "\n",
        "Input: 6 \\\n",
        "Output: “6 is a perfect number” \\\n",
        "Explanation: 6 have 4 divisors: 1, 2, 3, and 6. \\\n",
        "If we add all factors except itself, 6 = 1 + 2 + 3.\n",
        "\n",
        "**Example2:**\n",
        "\n",
        "Input: 28 \\\n",
        "Output: “28 is a perfect number” \\\n",
        "Explanation: 28 have 6 divisors: 1, 2, 4, 7, 14, and 28. \\\n",
        "If we add all factors except itself, 28 = 1 + 2 + 4 + 7 + 14.\n",
        "\n",
        "**Example3:**\n",
        "\n",
        "Input: 33 \\\n",
        "Output: “33 is not a perfect number” \\\n",
        "Explanation: 33 have 3 divisors: 1, 3, 11, and 33. \\\n",
        "If we add all factors except itself, 15 = 1 + 3 + 11."
      ]
    },
    {
      "cell_type": "code",
      "execution_count": null,
      "metadata": {
        "id": "qq2kgPpEmuiN",
        "outputId": "d17149d5-b450-45c2-825f-bd6a85e791c3"
      },
      "outputs": [
        {
          "name": "stdout",
          "output_type": "stream",
          "text": [
            "Enter a number:33\n",
            "33 is not a perfect number\n"
          ]
        }
      ],
      "source": [
        "#Todo\n",
        "num=int(input(\"Enter a number:\"))\n",
        "sum=0\n",
        "for i in range(1,num):\n",
        "    if num % i ==0:\n",
        "        sum+=i\n",
        "\n",
        "if sum==num:\n",
        "    print(num,\"is a perfect number\")\n",
        "else:\n",
        "    print(num,\"is not a perfect number\")"
      ]
    },
    {
      "cell_type": "markdown",
      "metadata": {
        "id": "cxcWGwfqmuiN"
      },
      "source": [
        "### Task 16\n",
        "\n",
        "Write a Python program that asks the user for one number and tells if it is a prime number or not.\n",
        "\n",
        "**Prime Number:** If a number has only two divisors, (1 and itself), then it is prime. If it is divisible by more numbers, then it is not a prime.\n",
        "\n",
        "**Hint:** use the divisor count from task 16.\n",
        "\n",
        "**Example1:**\n",
        "\n",
        "Input: 11 \\\n",
        "Output: “11 is a prime number” \\\n",
        "Explanation: 11 has only 2 divisors: 1, and 11.\n",
        "\n",
        "**Example2:**\n",
        "\n",
        "Input: 6 \\\n",
        "Output: “6 is not a prime number” \\\n",
        "Explanation: 6 have 4 divisors: 1, 2, 3 and 6.\n",
        "\n",
        "\n"
      ]
    },
    {
      "cell_type": "code",
      "execution_count": null,
      "metadata": {
        "id": "BGtCaEjtmuiO",
        "outputId": "f68a05ff-bfe6-4461-dabb-959c5f9766ef"
      },
      "outputs": [
        {
          "name": "stdout",
          "output_type": "stream",
          "text": [
            "Enter number to check:6\n",
            "6 is not a prime number\n"
          ]
        }
      ],
      "source": [
        "#Todo\n",
        "num=int(input(\"Enter number to check:\" ))\n",
        "if num>1:\n",
        "    for i in range(2,num):\n",
        "        if(num%i==0):\n",
        "            print(num,\"is not a prime number\")\n",
        "            break\n",
        "    else:\n",
        "        print(num,\"is a prime number\")\n"
      ]
    },
    {
      "cell_type": "markdown",
      "metadata": {
        "id": "w4H2gamVmuiO"
      },
      "source": [
        "### Task 17\n",
        "\n",
        "Write a Python program that asks the user for a quantity then takes that many numbers and prints the maximum, minimum and average of those numbers.\n",
        "\n",
        "**Example:**\n",
        "If the user enters 5 as an input for quantity. Then enters 10, 4, -1, -100, and 1. \\\n",
        "Your program output should be: “Maximum 10”, “Minimum -100”, “Average is -17.2”\n",
        "\n",
        "[Average calculation: (10+4 + (-1) + (-100) + 1)/5 = -86/5=-17.2]\n"
      ]
    },
    {
      "cell_type": "code",
      "execution_count": null,
      "metadata": {
        "id": "6CVCF20PmuiQ",
        "outputId": "3f918730-85be-4b55-ba1f-2f84b7970324"
      },
      "outputs": [
        {
          "name": "stdout",
          "output_type": "stream",
          "text": [
            "Quantity : 5\n",
            "Enter a number:10\n",
            "Enter a number:4\n",
            "Enter a number:-1\n",
            "Enter a number:-100\n",
            "Enter a number:1\n",
            "Maximum 10 Minimum -100 Average -17.2\n"
          ]
        }
      ],
      "source": [
        "#Todo\n",
        "qty=int(input(\"Quantity : \"))\n",
        "x=int(input(\"Enter a number:\"))\n",
        "sum=x\n",
        "min=x\n",
        "max=x\n",
        "for counter in range(1,qty):\n",
        "    x=int(input(\"Enter a number:\"))\n",
        "    if max<x:\n",
        "        max=x\n",
        "    if min>x:\n",
        "        min=x\n",
        "    sum+=x\n",
        "    avg=sum/num\n",
        "print(\"Maximum\",max, \"Minimum\",min, \"Average\",avg)\n",
        ""
      ]
    },
    {
      "cell_type": "markdown",
      "metadata": {
        "id": "SpEXmnMEmuiR"
      },
      "source": [
        "## Optional Tasks (18 -21)"
      ]
    },
    {
      "cell_type": "markdown",
      "metadata": {
        "id": "vD3Fn7ommuiR"
      },
      "source": [
        "### Task 18\n",
        "\n",
        "Take five numbers from the user and find the minimum and the average of **only the even** numbers entered by the user. [If the user enters odd numbers ignore them]\n",
        "\n",
        "Assume, the first input is always an even number.\n",
        "\n",
        "**Example1:**\n",
        "\n",
        "If the user enters 10, 4, -1, -100, and 1. \\\n",
        "Output: “Minimum -100”, “Average is 28.66667” \\\n",
        "[Average calculation: (10+4 + (-100))/3 = -86/3=-28.66667]\n",
        "\n",
        "**Example2:**\n",
        "\n",
        "If the user enters 2, 10, 1, 21, and 3. \\\n",
        "Output: Minimum 2”, “Average is 6.0” \\\n",
        "Average calculation: [(2+10)/2 = 12/2= 6]"
      ]
    },
    {
      "cell_type": "code",
      "execution_count": null,
      "metadata": {
        "id": "aXj4QhahmuiR",
        "outputId": "4b060cd5-10bf-4a10-c157-88fd097d55a4"
      },
      "outputs": [
        {
          "name": "stdout",
          "output_type": "stream",
          "text": [
            "Quantity : 5\n",
            "Number : 2\n",
            "Number : 10\n",
            "Number : 1\n",
            "Number : 21\n",
            "Number : 3\n",
            "Minimun 2\n",
            "Avg is 6.0\n"
          ]
        }
      ],
      "source": [
        "#Todo\n",
        "qty=int(input(\"Quantity : \"))\n",
        "sume=0\n",
        "aveg=0\n",
        "nmin=0\n",
        "eqty=0\n",
        "isfirst=0\n",
        "i=1\n",
        "# loop structure\n",
        "while i<=qty:\n",
        "    num=int(input(\"Number : \"))\n",
        "    if num % 2==0:\n",
        "        sume=sume+num\n",
        "        eqty +=1\n",
        "        if isfirst==0:\n",
        "            nmin=num\n",
        "            isfirst=1\n",
        "        if nmin>num:\n",
        "            nmin=num\n",
        "    i+=1\n",
        "print(\"Minimun \"+str(nmin))\n",
        "print(\"Avg is \"+str(sume/eqty))\n"
      ]
    },
    {
      "cell_type": "markdown",
      "metadata": {
        "id": "wP9INoAdmuiR"
      },
      "source": [
        "### Task 19\n",
        "\n",
        "Write a Python code for the following:\n",
        "* Ask the user to enter a number, N (Total number of inputs to be taken). Assume that the user will never enter the first number as zero.\n",
        "* Take N number of inputs\n",
        "* Prints out the product of all the numbers read\n",
        "\n",
        "For example, if the first input is 4, then the program has to read in four numbers from the user and print the product of these four numbers.\n",
        "\n",
        "**Example:**\\\n",
        "Input: 5 10 6 4 2 1 \\\n",
        "Output: 480\n",
        "\n",
        "Explanation:\n",
        "5 is the total number of inputs taken. Then, the calculation should be 10 X 6 X 4 X 2 X 1 = 480\n",
        "\n",
        "\n"
      ]
    },
    {
      "cell_type": "code",
      "execution_count": null,
      "metadata": {
        "id": "4RoTG8mkmuiR",
        "outputId": "e664f57e-41c5-426f-8210-e143e4065a54"
      },
      "outputs": [
        {
          "name": "stdout",
          "output_type": "stream",
          "text": [
            "Don't enter 0 as first number\n",
            "Enter quantity:5\n",
            "Enter a number:10\n",
            "Enter a number:6\n",
            "Enter a number:4\n",
            "Enter a number:2\n",
            "Enter a number:1\n",
            "480\n"
          ]
        }
      ],
      "source": [
        "#Todo\n",
        "print(\"Don\\'t enter 0 as first number\")\n",
        "num=int(input(\"Enter quantity:\"))\n",
        "number=1\n",
        "for i in range(num):\n",
        "    N=int(input('Enter a number:'))\n",
        "    number = N * number\n",
        "print(number)"
      ]
    },
    {
      "cell_type": "markdown",
      "metadata": {
        "id": "s3HRwi8UmuiR"
      },
      "source": [
        "### Task 20\n",
        "Ask the user for a range (a starting number and an ending number).\n",
        "**Count** how many numbers are prime numbers and how many numbers are perfect numbers between that range and **print** those numbers.\n",
        "\n",
        "For example, between 2 and 6, there are 3 prime numbers (2, 3, 5) and 1 perfect number (6).\n",
        "\n",
        "\n",
        "**Example:**\\\n",
        "Sample Input: 2 6\n",
        "\n",
        "Sample Output:\n",
        "\n",
        "Between 2 and 6,\\\n",
        "Found 3 prime numbers \\\n",
        "Found 1 perfect number.\\\n",
        "Prime numbers: 2, 3, 5.\\\n",
        "Perfect numbers: 6.\n",
        "\n"
      ]
    },
    {
      "cell_type": "code",
      "execution_count": null,
      "metadata": {
        "id": "GGCVkdkSmuiR",
        "outputId": "89673041-589b-4a08-eb23-d605c0dab9a8"
      },
      "outputs": [
        {
          "name": "stdout",
          "output_type": "stream",
          "text": [
            "First number :2\n",
            "Last number :6\n",
            "Count of Perfect number is 1\n",
            "Count of Prime number is 3\n"
          ]
        }
      ],
      "source": [
        "#Todo\n",
        "pfnum=0\n",
        "pmnum=0\n",
        "f1=int(input(\"First number :\"))\n",
        "l1=int(input(\"Last number :\"))\n",
        "for i in range (f1, l1+1):\n",
        "    nsum=0\n",
        "    for x in range(1,i):\n",
        "        if i % x ==0:\n",
        "            nsum+=x\n",
        "    if nsum==i:\n",
        "        pfnum+=1\n",
        "    for x in range(2,i):\n",
        "        if(i%x==0):\n",
        "            break\n",
        "    else:\n",
        "        pmnum+=1\n",
        "print(\"Count of Perfect number is \"+str(pfnum))\n",
        "print(\"Count of Prime number is \"+str(pmnum))\n",
        "\n",
        "\n"
      ]
    },
    {
      "cell_type": "markdown",
      "metadata": {
        "id": "D3jtTP9UmuiR"
      },
      "source": [
        "### Task 21\n",
        "Write a Python program that takes a number from the user and prints its digits from left to right. <font color='red'> (left to right) </font>\n",
        "\n",
        "**Example:** if the user gives 32768, then print 3, 2, 7, 6, 8\n",
        "\n",
        "**Hint:**\n",
        "* You need to combine Task12 and Task13 for solving this problem.\n",
        "* Count how many digits are in the input number. <font color='red'>(While counting digits, do not modify the original number)</font> **[Task12]**\n",
        "* Calculate 10 to the power that number of digits minus 1. **[Task13]**\\\n",
        "(You can reuse the task11 or directly call math.pow(). While using math functions, you need to keep in mind that it returns everything in floating-point numbers.)\n",
        "\n",
        "Say, 32768 have 5 digits, so you calculate 10 to power 4 which is 10,000.\n",
        "Take the remainder of 32,768 by 10,000 and thus you get 2,768\n",
        "Then  floor divide 32,768 by 10,000 and thus you get 3.\n",
        "Then floor divide 10,000 by 10 to get 1,000\n",
        "\n",
        "Take the remainder of 2,768 by 1,000 and thus you get 768.\\\n",
        "Then floor divide 2,768 by 1,000 and thus you get 2.\\\n",
        "Then floor divide 10,00 by 10 to get 1,00\n",
        "\n",
        "Keep going on until there are no more digits left (zero!).\n",
        "\n",
        "In short:\n",
        "\n",
        "Loop 1: First count digits; say 5 in this case for 32,768  \\\n",
        "Loop 2: Then calculate 10 to power 4 (5-1), which is 10,000. \\\n",
        "Loop 3: Then repeat following three steps\n",
        "\n",
        "32,768 % 10,000 = 2,768\n",
        "<br>\n",
        "32,768 // 10,000 = 3\n",
        "<br>\n",
        "10,000//10 = 1,000\n",
        "<br><br>\n",
        "\n",
        "2,768 % 1,000 = 768\n",
        "<br>\n",
        "2,768 //1,000 = 2\n",
        "<br>\n",
        "1,000//10 = 100\n",
        "<br><br>\n",
        "\n",
        "768 % 100 = 68\n",
        "<br>\n",
        "768 // 100 = 7\n",
        "<br>\n",
        "100//10 = 10\n",
        "<br><br>\n",
        "\n",
        "68 % 10 = 8\n",
        "<br>\n",
        "68 //10 = 6\n",
        "<br>\n",
        "10//10 = 1\n",
        "<br><br>\n",
        "\n",
        "8 % 1 = 0\n",
        "<br>\n",
        "8 //1 = 8\n",
        "<br>\n",
        "1//10 = 0`\n",
        "\n",
        "\n",
        "Done! (When the digit count becomes 0, your loop should end.)\n",
        "\n"
      ]
    },
    {
      "cell_type": "code",
      "execution_count": null,
      "metadata": {
        "id": "W-q5HkTHmuiR",
        "outputId": "4cc78021-c55f-403b-90d5-d8d6ee1c8aff"
      },
      "outputs": [
        {
          "name": "stdout",
          "output_type": "stream",
          "text": [
            "enter a number :32768\n",
            "3, 2, 7, 6, 8 "
          ]
        }
      ],
      "source": [
        "#Todo\n",
        "number =int(input(\"enter a number :\"))\n",
        "x=number\n",
        "dn=0\n",
        "while number>0:\n",
        "    number=number//10\n",
        "    dn=dn+1\n",
        "product=1\n",
        "i=1\n",
        "while i<=(dn-1):\n",
        "    product=product*10\n",
        "    i=i+1\n",
        "while x!=0:\n",
        "    value=x//product\n",
        "    x=x%product\n",
        "    product=product//10\n",
        "    if x!=0:\n",
        "        print(value,end=\", \")\n",
        "    else:\n",
        "        print(value,end=\" \")\n"
      ]
    },
    {
      "cell_type": "code",
      "execution_count": null,
      "metadata": {
        "id": "NgBHEnX5muiS"
      },
      "outputs": [],
      "source": []
    }
  ],
  "metadata": {
    "kernelspec": {
      "display_name": "Python 3",
      "language": "python",
      "name": "python3"
    },
    "language_info": {
      "codemirror_mode": {
        "name": "ipython",
        "version": 3
      },
      "file_extension": ".py",
      "mimetype": "text/x-python",
      "name": "python",
      "nbconvert_exporter": "python",
      "pygments_lexer": "ipython3",
      "version": "3.7.4"
    },
    "colab": {
      "provenance": [],
      "include_colab_link": true
    }
  },
  "nbformat": 4,
  "nbformat_minor": 0
}